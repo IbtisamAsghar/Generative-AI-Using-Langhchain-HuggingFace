{
  "cells": [
    {
      "cell_type": "markdown",
      "source": [
        "# Operator Overloading\n",
        "Operator overloading allows you to define the behavior of operators (+, -, *, etc.) for custom objects."
      ],
      "metadata": {
        "id": "o1manzjfEn2W"
      }
    },
    {
      "cell_type": "code",
      "source": [
        "# Common Operator Overloading Magic Methods\n",
        "'''\n",
        "__add__(self, other): Adds two objects using the + operator.\n",
        "__sub__(self, other): Subtracts two objects using the - operator.\n",
        "__mul__(self, other): Multiplies two objects using the * operator.\n",
        "__truediv__(self, other): Divides two objects using the / operator.\n",
        "__eq__(self, other): Checks if two objects are equal using the == operator.\n",
        "__lt__(self, other): Checks if one object is less than another using the < operator.\n",
        "\n",
        "__gt__\n",
        "'''"
      ],
      "metadata": {
        "colab": {
          "base_uri": "https://localhost:8080/",
          "height": 88
        },
        "id": "X--LWAApG_XD",
        "outputId": "59f4e31e-63e1-43b5-f92f-258d57da2d17"
      },
      "execution_count": 12,
      "outputs": [
        {
          "output_type": "execute_result",
          "data": {
            "text/plain": [
              "'\\n__add__(self, other): Adds two objects using the + operator.\\n__sub__(self, other): Subtracts two objects using the - operator.\\n__mul__(self, other): Multiplies two objects using the * operator.\\n__truediv__(self, other): Divides two objects using the / operator.\\n__eq__(self, other): Checks if two objects are equal using the == operator.\\n__lt__(self, other): Checks if one object is less than another using the < operator.\\n\\n__gt__\\n'"
            ],
            "application/vnd.google.colaboratory.intrinsic+json": {
              "type": "string"
            }
          },
          "metadata": {},
          "execution_count": 12
        }
      ]
    },
    {
      "cell_type": "code",
      "source": [
        "# Mathematical operation for vectors\n",
        "class vector:\n",
        "  def __init__(self,x,y) :\n",
        "    self.x = x\n",
        "    self.y = y\n",
        "\n",
        "  def __add__(self,other): # self is the current vector and other is the vector we are adding\n",
        "    return vector(self.x + other.x ,self.y + other.y) # returns a new vector with added x and y components.\n",
        "\n",
        "  def __sub__(self,other):\n",
        "    return vector(self.x - other.x ,self.y - other.y)\n",
        "\n",
        "  def __mul__(self,other):\n",
        "    return vector(self.x * other ,self.y * other)\n",
        "\n",
        "  def __eq__(self,other) :\n",
        "    return self.x == other.x and self.y == other.y\n",
        "\n",
        "  def __repr__(self):\n",
        "    return f\"Vector({self.x}, {self.y})\"\n",
        "\n",
        "# create a objects of the vector class\n",
        "v1 = vector(1,2)\n",
        "v2 = vector(3,4)\n",
        "\n",
        "print(v1 + v2)\n",
        "print(v1 - v2)\n",
        "print(v1 * 3)\n",
        "print(v1 == v2)\n",
        "\n"
      ],
      "metadata": {
        "colab": {
          "base_uri": "https://localhost:8080/"
        },
        "id": "MYB7XlgkHCW3",
        "outputId": "20204d63-9a64-4df1-c949-5504c155f092"
      },
      "execution_count": 17,
      "outputs": [
        {
          "output_type": "stream",
          "name": "stdout",
          "text": [
            "Vector(4, 6)\n",
            "Vector(-2, -2)\n",
            "Vector(3, 6)\n",
            "False\n"
          ]
        }
      ]
    },
    {
      "cell_type": "code",
      "source": [
        "#Overloading Operators for Complex Numbers\n",
        "\n",
        "class ComplexNumber:\n",
        "    def __init__(self, real, imag):\n",
        "        self.real = real\n",
        "        self.imag = imag\n",
        "\n",
        "    def __add__(self, other):\n",
        "        return ComplexNumber(self.real + other.real, self.imag + other.imag)\n",
        "\n",
        "    def __sub__(self, other):\n",
        "        return ComplexNumber(self.real - other.real, self.imag - other.imag)\n",
        "\n",
        "    def __mul__(self, other):\n",
        "        real_part = self.real * other.real - self.imag * other.imag\n",
        "        imag_part = self.real * other.imag + self.imag * other.real\n",
        "        return ComplexNumber(real_part, imag_part)\n",
        "\n",
        "    def __truediv__(self, other):\n",
        "        denominator = other.real**2 + other.imag**2\n",
        "        real_part = (self.real * other.real + self.imag * other.imag) / denominator\n",
        "        imag_part = (self.imag * other.real - self.real * other.imag) / denominator\n",
        "        return ComplexNumber(real_part, imag_part)\n",
        "\n",
        "    def __eq__(self, other):\n",
        "        return self.real == other.real and self.imag == other.imag\n",
        "\n",
        "    def __repr__(self):\n",
        "        return f\"{self.real} + {self.imag}i\"\n",
        "\n",
        "# Create objects of the ComplexNumber class\n",
        "c1 = ComplexNumber(2, 3)\n",
        "c2 = ComplexNumber(1, 4)\n",
        "\n",
        "# Use overloaded operators\n",
        "print(c1 + c2)\n",
        "print(c1 - c2)\n",
        "print(c1 * c2)\n",
        "print(c1 / c2)\n",
        "print(c1 == c2)"
      ],
      "metadata": {
        "colab": {
          "base_uri": "https://localhost:8080/"
        },
        "id": "IKggOiAYL_t4",
        "outputId": "e24ec976-c48b-4c1b-8c91-dffb11c3ef56"
      },
      "execution_count": 19,
      "outputs": [
        {
          "output_type": "stream",
          "name": "stdout",
          "text": [
            "3 + 7i\n",
            "1 + -1i\n",
            "-10 + 11i\n",
            "0.8235294117647058 + -0.29411764705882354i\n",
            "False\n"
          ]
        }
      ]
    },
    {
      "cell_type": "code",
      "source": [],
      "metadata": {
        "id": "mgkkyvIWOa2S"
      },
      "execution_count": null,
      "outputs": []
    }
  ],
  "metadata": {
    "colab": {
      "provenance": []
    },
    "kernelspec": {
      "display_name": "Python 3",
      "name": "python3"
    },
    "language_info": {
      "name": "python"
    }
  },
  "nbformat": 4,
  "nbformat_minor": 0
}