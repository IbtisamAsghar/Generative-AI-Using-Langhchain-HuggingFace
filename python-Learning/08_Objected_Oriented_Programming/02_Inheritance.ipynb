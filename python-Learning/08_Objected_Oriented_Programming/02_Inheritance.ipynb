{
  "cells": [
    {
      "cell_type": "markdown",
      "source": [
        "# Inheritance In Python\n",
        "Inheritance is a fundamental concept in Object-Oriented Programming (OOP) that allows a class to inherit attributes and methods from another class. This lesson covers single inheritance and multiple inheritance, demonstrating how to create and use them in Python."
      ],
      "metadata": {
        "id": "yNHiHq7tAtM9"
      }
    },
    {
      "cell_type": "code",
      "source": [
        "class Car :\n",
        "  def __init__(self,windows,doors,enginetype):\n",
        "      self.windows=windows\n",
        "      self.doors=doors\n",
        "      self.enginetype=enginetype\n",
        "\n",
        "  def drive(self):\n",
        "    print(f\"the person drives the {self.enginetype} car\")"
      ],
      "metadata": {
        "id": "Xol49HhWAtP9"
      },
      "execution_count": 20,
      "outputs": []
    },
    {
      "cell_type": "code",
      "source": [
        "car1 = Car(4,4,\"Petrol\")\n",
        "car1.drive()"
      ],
      "metadata": {
        "colab": {
          "base_uri": "https://localhost:8080/"
        },
        "id": "1t47fdgFAtUF",
        "outputId": "fa8d41c5-1421-4534-d36d-141e4aefce30"
      },
      "execution_count": 21,
      "outputs": [
        {
          "output_type": "stream",
          "name": "stdout",
          "text": [
            "the person drives the Petrol car\n"
          ]
        }
      ]
    },
    {
      "cell_type": "code",
      "source": [
        "class Tesla (Car):\n",
        "  def __init__(self,windows,doors,enginetype,is_self_driving):\n",
        "    super().__init__(windows,doors,enginetype)\n",
        "    self.is_self_driving=is_self_driving\n",
        "\n",
        "  def self_driving(self):\n",
        "    print(f\"Tesla is a self driving car {self.is_self_driving}\")\n"
      ],
      "metadata": {
        "id": "5EA7mh8DAtWt"
      },
      "execution_count": 22,
      "outputs": []
    },
    {
      "cell_type": "code",
      "source": [
        "tesla1 = Tesla(4,4,\"Electric\",True)\n",
        "tesla1.self_driving()"
      ],
      "metadata": {
        "colab": {
          "base_uri": "https://localhost:8080/"
        },
        "id": "OVYOo406AtZV",
        "outputId": "9816f0b3-ec64-49d9-d6e8-afb537ef616e"
      },
      "execution_count": 23,
      "outputs": [
        {
          "output_type": "stream",
          "name": "stdout",
          "text": [
            "Tesla is a self driving car True\n"
          ]
        }
      ]
    },
    {
      "cell_type": "code",
      "source": [
        "tesla1.drive()"
      ],
      "metadata": {
        "colab": {
          "base_uri": "https://localhost:8080/"
        },
        "id": "TrXOvWD8Atbt",
        "outputId": "e5b9efa9-24cc-4645-ce21-d88caa57216d"
      },
      "execution_count": 24,
      "outputs": [
        {
          "output_type": "stream",
          "name": "stdout",
          "text": [
            "the person drives the Electric car\n"
          ]
        }
      ]
    },
    {
      "cell_type": "code",
      "source": [
        "# multiple inheritance\n",
        "class Animal :\n",
        "  def __init__(self,name):\n",
        "    self.name = name\n",
        "  def speak(self):\n",
        "    print(\"Animal is speaking\")\n",
        "\n",
        "class Pet:\n",
        "  def __init__(self,owner) :\n",
        "    self.owner = owner\n",
        "\n",
        "  def show_owner(self):\n",
        "    print(f\"{self.owner}'s pet\")\n",
        "\n",
        "class Dog(Animal,Pet):\n",
        "  def __init__(self,name,owner):\n",
        "    Animal.__init__(self,name)\n",
        "    Pet.__init__(self,owner)\n",
        "\n",
        "  def speak(self):\n",
        "    print(f\"{self.name} is barking\")\n",
        "\n",
        "dog  = Dog(\"bully\",\"Hammad\")\n",
        "dog.speak()\n",
        "dog.show_owner()"
      ],
      "metadata": {
        "colab": {
          "base_uri": "https://localhost:8080/"
        },
        "id": "ROmYqnwOAtdl",
        "outputId": "329a855f-e422-4675-8d68-400ec2618745"
      },
      "execution_count": 26,
      "outputs": [
        {
          "output_type": "stream",
          "name": "stdout",
          "text": [
            "bully is barking\n",
            "Hammad's pet\n"
          ]
        }
      ]
    },
    {
      "cell_type": "code",
      "source": [],
      "metadata": {
        "id": "9mkVs5RKAtgM"
      },
      "execution_count": null,
      "outputs": []
    },
    {
      "cell_type": "code",
      "source": [],
      "metadata": {
        "id": "7mlMS7u0AtkN"
      },
      "execution_count": null,
      "outputs": []
    }
  ],
  "metadata": {
    "colab": {
      "provenance": []
    },
    "kernelspec": {
      "display_name": "Python 3",
      "name": "python3"
    },
    "language_info": {
      "name": "python"
    }
  },
  "nbformat": 4,
  "nbformat_minor": 0
}