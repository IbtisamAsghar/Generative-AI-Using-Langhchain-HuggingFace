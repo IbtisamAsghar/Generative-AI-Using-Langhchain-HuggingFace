{
  "cells": [
    {
      "cell_type": "markdown",
      "source": [
        "# Abstraction\n",
        "Abstraction is the concept of hiding the complex implementation details and showing only the necessary features of an object. This helps in reducing programming complexity and effort."
      ],
      "metadata": {
        "id": "7piJ46RN4cZ6"
      }
    },
    {
      "cell_type": "code",
      "source": [
        "from abc import ABC , abstractmethod\n",
        "\n",
        "class Vehicle:\n",
        "  def drive(self):\n",
        "    print(\"Vehicle is being driven\")\n",
        "\n",
        "  @abstractmethod\n",
        "  def start_engine(self) :\n",
        "    pass\n",
        "\n",
        "class Car(Vehicle):\n",
        "  def start_engine(self):\n",
        "    print(\"Car engine started\")\n",
        "\n",
        "class Bicycle(Vehicle) :\n",
        "  def start_engine(self) :\n",
        "    print(\"Bicycle engine started\")\n",
        "\n",
        "def operate_vehicle(vehicle):\n",
        "  vehicle.drive()\n",
        "  vehicle.start_engine()\n",
        "\n",
        "car = Car()\n",
        "bicycle = Bicycle()\n",
        "\n",
        "operate_vehicle(car)\n",
        "operate_vehicle(bicycle)"
      ],
      "metadata": {
        "colab": {
          "base_uri": "https://localhost:8080/"
        },
        "id": "u_ail3NqB6_5",
        "outputId": "81194ad4-4be3-4b33-f8b8-f4188777d212"
      },
      "execution_count": 4,
      "outputs": [
        {
          "output_type": "stream",
          "name": "stdout",
          "text": [
            "Vehicle is being driven\n",
            "Car engine started\n",
            "Vehicle is being driven\n",
            "Bicycle engine started\n"
          ]
        }
      ]
    },
    {
      "cell_type": "code",
      "source": [],
      "metadata": {
        "id": "kecav8H2Ccu0"
      },
      "execution_count": null,
      "outputs": []
    }
  ],
  "metadata": {
    "colab": {
      "provenance": []
    },
    "kernelspec": {
      "display_name": "Python 3",
      "name": "python3"
    },
    "language_info": {
      "name": "python"
    }
  },
  "nbformat": 4,
  "nbformat_minor": 0
}