{
  "cells": [
    {
      "cell_type": "markdown",
      "source": [
        "# Magic Methods\n",
        "Magic methods in Python, also known as dunder methods (double underscore methods), are special methods that start and end with double underscores. These methods enable you to define the behavior of objects for built-in operations, such as arithmetic operations, comparisons, and more.\n",
        "\n",
        "# Magic Methods\n",
        "Magic methods are predefined methods in Python that you can override to change the behavior of your objects. Some common magic methods include:\n",
        "\n"
      ],
      "metadata": {
        "id": "y7Xa06h-Dbex"
      }
    },
    {
      "cell_type": "code",
      "source": [
        "'''\n",
        "__init__': Initializes a new instance of a class.\n",
        "__str__: Returns a string representation of an object.\n",
        "__repr__: Returns an official string representation of an object.\n",
        "__len__: Returns the length of an object.\n",
        "__getitem__: Gets an item from a container.\n",
        "__setitem__: Sets an item in a container.\n",
        "'''"
      ],
      "metadata": {
        "colab": {
          "base_uri": "https://localhost:8080/",
          "height": 71
        },
        "id": "Nvs-kCw4Dk6q",
        "outputId": "dbaabf8a-9069-4723-c9ed-fd092c5869f3"
      },
      "execution_count": 6,
      "outputs": [
        {
          "output_type": "execute_result",
          "data": {
            "text/plain": [
              "\"\\n__init__': Initializes a new instance of a class.\\n__str__: Returns a string representation of an object.\\n__repr__: Returns an official string representation of an object.\\n__len__: Returns the length of an object.\\n__getitem__: Gets an item from a container.\\n__setitem__: Sets an item in a container.\\n\""
            ],
            "application/vnd.google.colaboratory.intrinsic+json": {
              "type": "string"
            }
          },
          "metadata": {},
          "execution_count": 6
        }
      ]
    },
    {
      "cell_type": "code",
      "source": [
        "class Person:\n",
        "  pass\n",
        "\n",
        "person = Person()\n",
        "dir(person)"
      ],
      "metadata": {
        "colab": {
          "base_uri": "https://localhost:8080/"
        },
        "id": "wE2IgfJVD0Ng",
        "outputId": "0e18d8a7-7685-4e61-bf8f-35a94f9b58cd"
      },
      "execution_count": 7,
      "outputs": [
        {
          "output_type": "execute_result",
          "data": {
            "text/plain": [
              "['__class__',\n",
              " '__delattr__',\n",
              " '__dict__',\n",
              " '__dir__',\n",
              " '__doc__',\n",
              " '__eq__',\n",
              " '__format__',\n",
              " '__ge__',\n",
              " '__getattribute__',\n",
              " '__getstate__',\n",
              " '__gt__',\n",
              " '__hash__',\n",
              " '__init__',\n",
              " '__init_subclass__',\n",
              " '__le__',\n",
              " '__lt__',\n",
              " '__module__',\n",
              " '__ne__',\n",
              " '__new__',\n",
              " '__reduce__',\n",
              " '__reduce_ex__',\n",
              " '__repr__',\n",
              " '__setattr__',\n",
              " '__sizeof__',\n",
              " '__str__',\n",
              " '__subclasshook__',\n",
              " '__weakref__']"
            ]
          },
          "metadata": {},
          "execution_count": 7
        }
      ]
    },
    {
      "cell_type": "code",
      "source": [
        "print(person)"
      ],
      "metadata": {
        "colab": {
          "base_uri": "https://localhost:8080/"
        },
        "id": "I84IkfYiD79t",
        "outputId": "b4cef885-4c58-4955-ace6-11737cebf92c"
      },
      "execution_count": 8,
      "outputs": [
        {
          "output_type": "stream",
          "name": "stdout",
          "text": [
            "<__main__.Person object at 0x7c6507d1c850>\n"
          ]
        }
      ]
    },
    {
      "cell_type": "code",
      "source": [
        "class Person :\n",
        "  def __init__(self,name,age):\n",
        "    self.name = name\n",
        "    self.age = age\n",
        "\n",
        "person = Person('Ibtisam',22)\n",
        "print(person)"
      ],
      "metadata": {
        "colab": {
          "base_uri": "https://localhost:8080/"
        },
        "id": "RMGocN0FEAIX",
        "outputId": "53e1eaac-2eea-4d37-f8ee-086a3f99ef05"
      },
      "execution_count": 10,
      "outputs": [
        {
          "output_type": "stream",
          "name": "stdout",
          "text": [
            "<__main__.Person object at 0x7c6507507e50>\n"
          ]
        }
      ]
    },
    {
      "cell_type": "code",
      "source": [
        "class Person :\n",
        "  def __init__(self,name,age):\n",
        "    self.name = name\n",
        "    self.age = age\n",
        "\n",
        "  def __str__(self) :\n",
        "    return f'{self.name} is {self.age} years old' # this method defines how the object should be shown\n",
        "\n",
        "  def __repr__(self) :\n",
        "    return f'Person(name={self.name},age={self.age})'\n",
        "\n",
        "person = Person('Ibtisam',22)\n",
        "print(person)\n",
        "print(repr(person))"
      ],
      "metadata": {
        "colab": {
          "base_uri": "https://localhost:8080/"
        },
        "id": "e_k0rwU2ENz9",
        "outputId": "d92ac5aa-3a3c-4c3e-ce8f-4620dcc9dc8b"
      },
      "execution_count": 11,
      "outputs": [
        {
          "output_type": "stream",
          "name": "stdout",
          "text": [
            "Ibtisam is 22 years old\n",
            "Person(name=Ibtisam,age=22)\n"
          ]
        }
      ]
    },
    {
      "cell_type": "code",
      "source": [],
      "metadata": {
        "id": "o1manzjfEn2W"
      },
      "execution_count": null,
      "outputs": []
    }
  ],
  "metadata": {
    "colab": {
      "provenance": []
    },
    "kernelspec": {
      "display_name": "Python 3",
      "name": "python3"
    },
    "language_info": {
      "name": "python"
    }
  },
  "nbformat": 4,
  "nbformat_minor": 0
}