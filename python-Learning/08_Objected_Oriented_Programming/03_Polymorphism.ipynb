{
  "cells": [
    {
      "cell_type": "markdown",
      "source": [
        "# Polymorphism\n",
        "Polymorphism is a core concept in Object-Oriented Programming (OOP) that allows objects of different classes to be treated as objects of a common superclass. It provides a way to perform a single action in different forms. Polymorphism is typically achieved through method overriding and interfaces\n",
        "\n",
        "\n",
        "# Method Overriding\n",
        "Method overriding allows a child class to provide a specific implementation of a method that is already defined in its parent class."
      ],
      "metadata": {
        "id": "7mlMS7u0AtkN"
      }
    },
    {
      "cell_type": "code",
      "source": [
        "# Base class\n",
        "\n",
        "class Animal:\n",
        "  def speak (self) :\n",
        "    return \"The animal speaks\"\n",
        "\n",
        "class Dog(Animal) :\n",
        "  def speak (self) :\n",
        "    return \"The dog barks\"\n",
        "\n",
        "class Lion(Animal) :\n",
        "  def speak(self):\n",
        "    return \"Lion Roars\"\n",
        "\n",
        "class Cat(Animal) :\n",
        "  def speak(self):\n",
        "    return \"Cat Meows\"\n",
        "\n",
        "Dog = Dog()\n",
        "Lion = Lion()\n",
        "Cat = Cat()\n",
        "\n",
        "print(Dog.speak())\n",
        "print(Lion.speak())\n",
        "print(Cat.speak())"
      ],
      "metadata": {
        "colab": {
          "base_uri": "https://localhost:8080/"
        },
        "id": "AsRFN-9vweVM",
        "outputId": "9cd4b3e6-4953-40fe-aa48-0b3177f85a1f"
      },
      "execution_count": 1,
      "outputs": [
        {
          "output_type": "stream",
          "name": "stdout",
          "text": [
            "The dog barks\n",
            "Lion Roars\n",
            "Cat Meows\n"
          ]
        }
      ]
    },
    {
      "cell_type": "code",
      "source": [
        "# Polymorphism with functions and Methods\n",
        "\n",
        "class Shape :\n",
        "  def area(self) :\n",
        "    return \"\"\n",
        "\n",
        "class Rectangle(Shape):\n",
        "  def __init__(self,width,height):\n",
        "    self.width = width\n",
        "    self.height = height\n",
        "  def area(self) :\n",
        "    return self.width * self.height\n",
        "\n",
        "class Circle(Shape) :\n",
        "  def __init__(self,radius) :\n",
        "    self.radius  = radius\n",
        "\n",
        "  def area(self) :\n",
        "    return 2 * 3.14 * self.radius * self.radius\n",
        "\n",
        "# function that demonstrates polymorphism\n",
        "\n",
        "def print_area(shape) :\n",
        "  print(f\"The area of the shape is: {shape.area()}\")\n",
        "\n",
        "Rectangle = Rectangle(5,6)\n",
        "Circle = Circle(7)\n",
        "base = Shape()\n",
        "\n",
        "print_area(Rectangle)\n",
        "print_area(Circle)\n",
        "print_area(base)"
      ],
      "metadata": {
        "colab": {
          "base_uri": "https://localhost:8080/"
        },
        "id": "3d4FNt4GxEvB",
        "outputId": "7a380668-ec51-41bb-d4b5-89b771125e1d"
      },
      "execution_count": 5,
      "outputs": [
        {
          "output_type": "stream",
          "name": "stdout",
          "text": [
            "The area of the shape is: 30\n",
            "The area of the shape is: 307.72\n",
            "The area of the shape is: \n"
          ]
        }
      ]
    },
    {
      "cell_type": "markdown",
      "source": [
        "# Polymorphism with Abstract Base Class\n",
        "Abstract Base Classes (ABCs) are used to define common methods for a group of related objects. They can enforce that derived classes implement particular methods, promoting consistency across different implementations."
      ],
      "metadata": {
        "id": "gB31IklZyhLH"
      }
    },
    {
      "cell_type": "code",
      "source": [
        "from abc import ABC,abstractmethod\n",
        "\n",
        "# Define an abstract class\n",
        "\n",
        "class Vehicle(ABC):\n",
        "  @abstractmethod\n",
        "  def start_engine(self):\n",
        "    pass\n",
        "\n",
        "# derived class 1\n",
        "class Car(Vehicle):\n",
        "  def start_engine(self):\n",
        "    return \"car engine started\"\n",
        "\n",
        "class MotorCycle(Vehicle):\n",
        "  def start_engine(self):\n",
        "    return \"Motor Cycle Engine started\"\n",
        "\n",
        "# Function that demonstrate polymorphism\n",
        "\n",
        "def start_vehicle(Vehicle):\n",
        "  print(Vehicle.start_engine())\n",
        "\n",
        "car = Car()\n",
        "MotorCycle = MotorCycle()\n",
        "\n",
        "start_vehicle(car)\n",
        "start_vehicle(MotorCycle)\n",
        "\n"
      ],
      "metadata": {
        "colab": {
          "base_uri": "https://localhost:8080/"
        },
        "id": "5ZNw6ooMzItR",
        "outputId": "1230cfa7-5248-416c-8b96-cb55118d58e0"
      },
      "execution_count": 6,
      "outputs": [
        {
          "output_type": "stream",
          "name": "stdout",
          "text": [
            "car engine started\n",
            "Motor Cycle Engine started\n"
          ]
        }
      ]
    },
    {
      "cell_type": "code",
      "source": [],
      "metadata": {
        "id": "HT4czeww0Cst"
      },
      "execution_count": null,
      "outputs": []
    }
  ],
  "metadata": {
    "colab": {
      "provenance": []
    },
    "kernelspec": {
      "display_name": "Python 3",
      "name": "python3"
    },
    "language_info": {
      "name": "python"
    }
  },
  "nbformat": 4,
  "nbformat_minor": 0
}