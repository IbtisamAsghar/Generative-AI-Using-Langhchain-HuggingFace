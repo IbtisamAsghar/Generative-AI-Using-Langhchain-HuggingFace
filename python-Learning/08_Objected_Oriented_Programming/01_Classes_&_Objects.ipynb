{
  "cells": [
    {
      "cell_type": "markdown",
      "source": [
        "# Classes and Objects\n",
        "Object-Oriented Programming (OOP) is a programming paradigm that uses \"objects\" to design applications and computer programs. OOP allows for modeling real-world scenarios using classes and objects."
      ],
      "metadata": {
        "id": "icWYPkbtFX_C"
      }
    },
    {
      "cell_type": "code",
      "source": [
        "# class is blue print for creating the objects\n",
        "class Car :\n",
        "  pass\n",
        "\n",
        "mehran = Car()\n",
        "Corolla = Car()\n",
        "\n",
        "print(type(mehran))\n"
      ],
      "metadata": {
        "colab": {
          "base_uri": "https://localhost:8080/"
        },
        "id": "Lcbj2KAG9g0v",
        "outputId": "40f64d95-5982-48ac-ca8e-6fd9de9dcf8b"
      },
      "execution_count": 3,
      "outputs": [
        {
          "output_type": "stream",
          "name": "stdout",
          "text": [
            "<class '__main__.Car'>\n"
          ]
        }
      ]
    },
    {
      "cell_type": "code",
      "source": [
        "print(mehran)\n",
        "print(Corolla)"
      ],
      "metadata": {
        "colab": {
          "base_uri": "https://localhost:8080/"
        },
        "id": "sRqKoMMe9vXi",
        "outputId": "74167d47-5db3-4016-d993-33cde0bc7937"
      },
      "execution_count": 4,
      "outputs": [
        {
          "output_type": "stream",
          "name": "stdout",
          "text": [
            "<__main__.Car object at 0x7f505413de90>\n",
            "<__main__.Car object at 0x7f505413dd90>\n"
          ]
        }
      ]
    },
    {
      "cell_type": "code",
      "source": [
        "mehran.windows = 4\n",
        "print(mehran.windows)"
      ],
      "metadata": {
        "colab": {
          "base_uri": "https://localhost:8080/"
        },
        "id": "2kLsGt9P93aM",
        "outputId": "7175000c-cdc4-439c-b477-3f5ca43c762a"
      },
      "execution_count": 5,
      "outputs": [
        {
          "output_type": "stream",
          "name": "stdout",
          "text": [
            "4\n"
          ]
        }
      ]
    },
    {
      "cell_type": "code",
      "source": [
        "dir(mehran)"
      ],
      "metadata": {
        "colab": {
          "base_uri": "https://localhost:8080/"
        },
        "id": "ieFBSVgW9_Da",
        "outputId": "991b55d1-e541-4669-b6ec-f08c04c3a6f3"
      },
      "execution_count": 6,
      "outputs": [
        {
          "output_type": "execute_result",
          "data": {
            "text/plain": [
              "['__class__',\n",
              " '__delattr__',\n",
              " '__dict__',\n",
              " '__dir__',\n",
              " '__doc__',\n",
              " '__eq__',\n",
              " '__format__',\n",
              " '__ge__',\n",
              " '__getattribute__',\n",
              " '__getstate__',\n",
              " '__gt__',\n",
              " '__hash__',\n",
              " '__init__',\n",
              " '__init_subclass__',\n",
              " '__le__',\n",
              " '__lt__',\n",
              " '__module__',\n",
              " '__ne__',\n",
              " '__new__',\n",
              " '__reduce__',\n",
              " '__reduce_ex__',\n",
              " '__repr__',\n",
              " '__setattr__',\n",
              " '__sizeof__',\n",
              " '__str__',\n",
              " '__subclasshook__',\n",
              " '__weakref__',\n",
              " 'windows']"
            ]
          },
          "metadata": {},
          "execution_count": 6
        }
      ]
    },
    {
      "cell_type": "code",
      "source": [
        "# Instance Vairable and methods\n",
        "class Dog :\n",
        "  # Constructor\n",
        "  def __init__(self,name,age):\n",
        "    self.name = name\n",
        "    self.age = age\n",
        "\n",
        "dog1 = Dog(\"Tommy\",2)\n",
        "print(dog1)\n",
        "print(dog1.name)\n",
        "print(dog1.age)"
      ],
      "metadata": {
        "colab": {
          "base_uri": "https://localhost:8080/"
        },
        "id": "i9WmIvty-DJT",
        "outputId": "d8ff3063-186e-4f95-c045-e3000b7c7e14"
      },
      "execution_count": 8,
      "outputs": [
        {
          "output_type": "stream",
          "name": "stdout",
          "text": [
            "<__main__.Dog object at 0x7f5038d693d0>\n",
            "Tommy\n",
            "2\n"
          ]
        }
      ]
    },
    {
      "cell_type": "code",
      "source": [
        "dog2 = Dog(\"Jimmy\",3)\n",
        "print(dog2)\n",
        "print(dog2.name)\n",
        "print(dog2.age)"
      ],
      "metadata": {
        "colab": {
          "base_uri": "https://localhost:8080/"
        },
        "id": "0dLkTzQc-VM6",
        "outputId": "82cd1cb1-942e-45c4-982e-30078be708f2"
      },
      "execution_count": 9,
      "outputs": [
        {
          "output_type": "stream",
          "name": "stdout",
          "text": [
            "<__main__.Dog object at 0x7f5038d686d0>\n",
            "Jimmy\n",
            "3\n"
          ]
        }
      ]
    },
    {
      "cell_type": "code",
      "source": [
        "dir(dog1)"
      ],
      "metadata": {
        "colab": {
          "base_uri": "https://localhost:8080/"
        },
        "id": "fM9m0LR6-bup",
        "outputId": "aeb22b00-eb95-4dcb-edfa-d0acb0ed34cc"
      },
      "execution_count": 11,
      "outputs": [
        {
          "output_type": "execute_result",
          "data": {
            "text/plain": [
              "['__class__',\n",
              " '__delattr__',\n",
              " '__dict__',\n",
              " '__dir__',\n",
              " '__doc__',\n",
              " '__eq__',\n",
              " '__format__',\n",
              " '__ge__',\n",
              " '__getattribute__',\n",
              " '__getstate__',\n",
              " '__gt__',\n",
              " '__hash__',\n",
              " '__init__',\n",
              " '__init_subclass__',\n",
              " '__le__',\n",
              " '__lt__',\n",
              " '__module__',\n",
              " '__ne__',\n",
              " '__new__',\n",
              " '__reduce__',\n",
              " '__reduce_ex__',\n",
              " '__repr__',\n",
              " '__setattr__',\n",
              " '__sizeof__',\n",
              " '__str__',\n",
              " '__subclasshook__',\n",
              " '__weakref__',\n",
              " 'age',\n",
              " 'name']"
            ]
          },
          "metadata": {},
          "execution_count": 11
        }
      ]
    },
    {
      "cell_type": "code",
      "source": [
        "# Define the class with instance methods\n",
        "class Dog :\n",
        "  def __init__(self,name,age):\n",
        "    self.name = name\n",
        "    self.age = age\n",
        "\n",
        "  def speak(self):\n",
        "    return f\"{self.name} is barking\"\n",
        "\n",
        "dog1 = Dog(\"Tommy\",2)\n",
        "print(dog1.speak())\n",
        "dog2 = Dog(\"pitbull\",4)\n",
        "print(dog2.speak())"
      ],
      "metadata": {
        "colab": {
          "base_uri": "https://localhost:8080/"
        },
        "id": "2Z3ArDxG-cuv",
        "outputId": "47f99d0d-8863-4664-8aac-de886326f2df"
      },
      "execution_count": 13,
      "outputs": [
        {
          "output_type": "stream",
          "name": "stdout",
          "text": [
            "Tommy is barking\n",
            "pitbull is barking\n"
          ]
        }
      ]
    },
    {
      "cell_type": "code",
      "source": [
        "# Modeling a Bank Account class\n",
        "class BankAccount:\n",
        "  def __init__(self,owner,balance=0):\n",
        "    self.owner = owner\n",
        "    self.balance = balance\n",
        "\n",
        "  def deposite (self,amount) :\n",
        "    self.balance += amount\n",
        "    print(f\"{amount} is deposited. New balance is {self.balance}\" )\n",
        "\n",
        "  def withdrawl(self,amount):\n",
        "    if self.balance < amount :\n",
        "      print(\"Insufficient amount of money\")\n",
        "    else :\n",
        "      self.balance -= amount\n",
        "      print(f\"{amount} is withdrawn. New balance is {self.balance}\")\n",
        "  def get_balance(self) :\n",
        "    return self.balance\n",
        "\n",
        "# Create an account\n",
        "account = BankAccount(\"Ibtisam\",1000)\n",
        "print(account.owner)\n",
        "print(account.balance)"
      ],
      "metadata": {
        "colab": {
          "base_uri": "https://localhost:8080/"
        },
        "id": "b67Inuit-zZ5",
        "outputId": "8bbceba4-9b3b-443e-f5ca-8a32029d4b72"
      },
      "execution_count": 14,
      "outputs": [
        {
          "output_type": "stream",
          "name": "stdout",
          "text": [
            "Ibtisam\n",
            "1000\n"
          ]
        }
      ]
    },
    {
      "cell_type": "code",
      "source": [
        "account.deposite(1500)"
      ],
      "metadata": {
        "colab": {
          "base_uri": "https://localhost:8080/"
        },
        "id": "VSlLkJgdAFM5",
        "outputId": "1e2ac313-cee2-4712-9287-1587e73f858f"
      },
      "execution_count": 15,
      "outputs": [
        {
          "output_type": "stream",
          "name": "stdout",
          "text": [
            "1500 is deposited. New balance is 2500\n"
          ]
        }
      ]
    },
    {
      "cell_type": "code",
      "source": [
        "account.withdrawl(1000)"
      ],
      "metadata": {
        "colab": {
          "base_uri": "https://localhost:8080/"
        },
        "id": "56il9lxwAKAe",
        "outputId": "9b1a9d8e-04dd-49e8-89cc-96d6a18b90c3"
      },
      "execution_count": 16,
      "outputs": [
        {
          "output_type": "stream",
          "name": "stdout",
          "text": [
            "1000 is withdrawn. New balance is 1500\n"
          ]
        }
      ]
    },
    {
      "cell_type": "code",
      "source": [
        "account.get_balance()"
      ],
      "metadata": {
        "colab": {
          "base_uri": "https://localhost:8080/"
        },
        "id": "GypagWXZAMul",
        "outputId": "2da4177e-eee7-44c0-b3e8-c2c0f132d4bb"
      },
      "execution_count": 17,
      "outputs": [
        {
          "output_type": "execute_result",
          "data": {
            "text/plain": [
              "1500"
            ]
          },
          "metadata": {},
          "execution_count": 17
        }
      ]
    },
    {
      "cell_type": "code",
      "source": [],
      "metadata": {
        "id": "5hgW2GoyAPeX"
      },
      "execution_count": null,
      "outputs": []
    }
  ],
  "metadata": {
    "colab": {
      "provenance": []
    },
    "kernelspec": {
      "display_name": "Python 3",
      "name": "python3"
    },
    "language_info": {
      "name": "python"
    }
  },
  "nbformat": 4,
  "nbformat_minor": 0
}