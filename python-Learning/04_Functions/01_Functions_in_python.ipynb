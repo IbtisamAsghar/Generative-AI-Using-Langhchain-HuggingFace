{
  "cells": [
    {
      "cell_type": "markdown",
      "source": [
        "# Functions in Python\n",
        "\n",
        "\n",
        "1. Introduction to Functions\n",
        "2. Defining Functions\n",
        "3. Calling Functions\n",
        "4. Function Parameters\n",
        "5. Default Parameters\n",
        "6. Variable-Length Arguments\n",
        "7. Return Statement\n",
        "\n",
        "\n",
        "### Definition:\n",
        "\n",
        "A function is a block of code that performs a specific task. Functions help in organizing code, reusing code, and improving readability."
      ],
      "metadata": {
        "id": "u_G85x-iuxdQ"
      }
    },
    {
      "cell_type": "code",
      "source": [
        "## syntax\n",
        "def function_name(parameters):\n",
        "    \"\"\"Docstring\"\"\"\n",
        "    # Function body\n",
        "    return expression"
      ],
      "metadata": {
        "id": "t206_-OHvBa0"
      },
      "execution_count": 1,
      "outputs": []
    },
    {
      "cell_type": "code",
      "source": [
        "num=20\n",
        "if num%2==0:\n",
        "    print(\"the number is even\")\n",
        "else:\n",
        "    print(\"the number is odd\")"
      ],
      "metadata": {
        "colab": {
          "base_uri": "https://localhost:8080/"
        },
        "id": "00L1fjzMvE41",
        "outputId": "0dc4d6b5-d539-4692-d90c-0897598bc295"
      },
      "execution_count": 2,
      "outputs": [
        {
          "output_type": "stream",
          "name": "stdout",
          "text": [
            "the number is even\n"
          ]
        }
      ]
    },
    {
      "cell_type": "code",
      "source": [
        "def even_or_odd(num):\n",
        "    \"\"\"This function finds even or odd\"\"\"\n",
        "    if num%2==0:\n",
        "        print(\"the number is even\")\n",
        "    else:\n",
        "        print(\"the number is odd\")\n",
        "\n",
        "# Call this function\n",
        "even_or_odd(24)"
      ],
      "metadata": {
        "colab": {
          "base_uri": "https://localhost:8080/"
        },
        "id": "QHAoWfCbvHma",
        "outputId": "827e0e96-db1e-4c08-e5dd-314e97bd630d"
      },
      "execution_count": 3,
      "outputs": [
        {
          "output_type": "stream",
          "name": "stdout",
          "text": [
            "the number is even\n"
          ]
        }
      ]
    },
    {
      "cell_type": "code",
      "source": [
        "# function with multiple parameters\n",
        "\n",
        "def add(a,b):\n",
        "    return a+b\n",
        "\n",
        "result=add(2,10)\n",
        "print(result)\n",
        ""
      ],
      "metadata": {
        "colab": {
          "base_uri": "https://localhost:8080/"
        },
        "id": "jyxn4PlSvLsL",
        "outputId": "2cd28234-b20a-4444-abce-eaf79e338d7b"
      },
      "execution_count": 5,
      "outputs": [
        {
          "output_type": "stream",
          "name": "stdout",
          "text": [
            "12\n"
          ]
        }
      ]
    },
    {
      "cell_type": "code",
      "source": [
        "# Default Parameters\n",
        "\n",
        "def greet(name):\n",
        "    print(f\"Hello {name} Welcome To the Club\")\n",
        "\n",
        "greet(\"Ibtisam\")"
      ],
      "metadata": {
        "colab": {
          "base_uri": "https://localhost:8080/"
        },
        "id": "tvY1L84TvOsD",
        "outputId": "198165b4-d9cb-4699-eaa4-248cf18446c5"
      },
      "execution_count": 7,
      "outputs": [
        {
          "output_type": "stream",
          "name": "stdout",
          "text": [
            "Hello Ibtisam Welcome To the Club\n"
          ]
        }
      ]
    },
    {
      "cell_type": "code",
      "source": [
        "def greet(name=\"Guest\"):\n",
        "    print(f\"Hello {name} Welcome To the Club\")\n",
        "\n",
        "greet(\"Ibtisam\")"
      ],
      "metadata": {
        "colab": {
          "base_uri": "https://localhost:8080/"
        },
        "id": "0m6Qrc7OvS4w",
        "outputId": "ed93a832-8116-4b22-ad39-d5c915b61bfc"
      },
      "execution_count": 8,
      "outputs": [
        {
          "output_type": "stream",
          "name": "stdout",
          "text": [
            "Hello Ibtisam Welcome To the Club\n"
          ]
        }
      ]
    },
    {
      "cell_type": "code",
      "source": [
        "# Variable Length Arguments\n",
        "# Positional And Keywords arguments\n",
        "\n",
        "def print_numbers(*kwargs):\n",
        "    for number in kwargs:\n",
        "        print(number)"
      ],
      "metadata": {
        "id": "vLQxZvF-vZHB"
      },
      "execution_count": 9,
      "outputs": []
    },
    {
      "cell_type": "code",
      "source": [
        "print_numbers(1,2,3,4,5,6)"
      ],
      "metadata": {
        "colab": {
          "base_uri": "https://localhost:8080/"
        },
        "id": "mOAZyACxviF9",
        "outputId": "05e997ff-5d9a-476e-c213-04db1fc99acf"
      },
      "execution_count": 10,
      "outputs": [
        {
          "output_type": "stream",
          "name": "stdout",
          "text": [
            "1\n",
            "2\n",
            "3\n",
            "4\n",
            "5\n",
            "6\n"
          ]
        }
      ]
    },
    {
      "cell_type": "code",
      "source": [
        "# keywords arguments\n",
        "\n",
        "def print_info(**kwargs):\n",
        "  for key, value in kwargs.items():\n",
        "    print(f\"{key}: {value}\")\n",
        "\n",
        "print_info(name='Ibtisam',age=34,location=\"Pakistan\")"
      ],
      "metadata": {
        "colab": {
          "base_uri": "https://localhost:8080/"
        },
        "id": "vJ-9m5fUvj1t",
        "outputId": "6cc65c01-466b-4304-8bbf-89a96f6ed420"
      },
      "execution_count": 12,
      "outputs": [
        {
          "output_type": "stream",
          "name": "stdout",
          "text": [
            "name: Ibtisam\n",
            "age: 34\n",
            "location: Pakistan\n"
          ]
        }
      ]
    },
    {
      "cell_type": "code",
      "source": [
        "def print_info(*args , **kwargs):\n",
        "  for arg in args:\n",
        "    print(arg)\n",
        "\n",
        "  for key,value in kwargs.items():\n",
        "    print(f\"{key}:{value}\")\n",
        "\n",
        "print_info(\"Ibtisam\",34,\"Pakistan\",name=\"Ibtisam\",age=34,location=\"Pakistan\")"
      ],
      "metadata": {
        "colab": {
          "base_uri": "https://localhost:8080/"
        },
        "id": "k88P0dH8xnYA",
        "outputId": "06d49e28-0eb7-4cf4-ea50-29534fbf2b35"
      },
      "execution_count": 13,
      "outputs": [
        {
          "output_type": "stream",
          "name": "stdout",
          "text": [
            "Ibtisam\n",
            "34\n",
            "Pakistan\n",
            "name:Ibtisam\n",
            "age:34\n",
            "location:Pakistan\n"
          ]
        }
      ]
    },
    {
      "cell_type": "code",
      "source": [
        "# Return statement\n",
        "def multiply(a,b):\n",
        "  return a * b\n",
        "\n",
        "multiply(3,2)"
      ],
      "metadata": {
        "colab": {
          "base_uri": "https://localhost:8080/"
        },
        "id": "sdRjCC3HyJF9",
        "outputId": "16c02a54-a77a-48ed-ed61-3950c8af9faa"
      },
      "execution_count": 14,
      "outputs": [
        {
          "output_type": "execute_result",
          "data": {
            "text/plain": [
              "6"
            ]
          },
          "metadata": {},
          "execution_count": 14
        }
      ]
    },
    {
      "cell_type": "code",
      "source": [
        "def multiply_add(a,b,c) :\n",
        "  return a*b , b+c"
      ],
      "metadata": {
        "id": "Fh-eBvHByV6C"
      },
      "execution_count": 15,
      "outputs": []
    },
    {
      "cell_type": "code",
      "source": [
        "multiply_add(2,3,4)"
      ],
      "metadata": {
        "colab": {
          "base_uri": "https://localhost:8080/"
        },
        "id": "Ewc2m0sZyeAO",
        "outputId": "29a28964-78ea-41ea-fd71-67cdd3ebd48d"
      },
      "execution_count": 16,
      "outputs": [
        {
          "output_type": "execute_result",
          "data": {
            "text/plain": [
              "(6, 7)"
            ]
          },
          "metadata": {},
          "execution_count": 16
        }
      ]
    },
    {
      "cell_type": "code",
      "source": [],
      "metadata": {
        "id": "NlrffH3ZyfT1"
      },
      "execution_count": null,
      "outputs": []
    }
  ],
  "metadata": {
    "colab": {
      "provenance": []
    },
    "kernelspec": {
      "display_name": "Python 3",
      "name": "python3"
    },
    "language_info": {
      "name": "python"
    }
  },
  "nbformat": 4,
  "nbformat_minor": 0
}