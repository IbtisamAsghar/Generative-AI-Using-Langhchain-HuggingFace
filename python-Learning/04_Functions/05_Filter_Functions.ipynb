{
  "cells": [
    {
      "cell_type": "markdown",
      "source": [
        "# The filter() Function in Python\n",
        "The filter() function constructs an iterator from elements of an iterable for which a function returns true. It is used to filter out items from a list (or any other iterable) based on a condition."
      ],
      "metadata": {
        "id": "jBYFgG0JcDv9"
      }
    },
    {
      "cell_type": "code",
      "source": [
        "def even(num):\n",
        "    if num%2==0:\n",
        "        return True"
      ],
      "metadata": {
        "id": "iYiSOFQDcI-l"
      },
      "execution_count": 47,
      "outputs": []
    },
    {
      "cell_type": "code",
      "source": [
        "even(24)"
      ],
      "metadata": {
        "colab": {
          "base_uri": "https://localhost:8080/"
        },
        "id": "stDM17V1cKCx",
        "outputId": "e7c862c7-1624-4048-a186-e3d2dc8ac8ef"
      },
      "execution_count": 48,
      "outputs": [
        {
          "output_type": "execute_result",
          "data": {
            "text/plain": [
              "True"
            ]
          },
          "metadata": {},
          "execution_count": 48
        }
      ]
    },
    {
      "cell_type": "code",
      "source": [
        "lst=[1,2,3,4,5,6,7,8,9,10,11,12]\n",
        "\n",
        "list(filter(even,lst))"
      ],
      "metadata": {
        "colab": {
          "base_uri": "https://localhost:8080/"
        },
        "id": "uInMZDymcK7K",
        "outputId": "2a56d293-cd76-49cd-f872-4ba2571e9b61"
      },
      "execution_count": 49,
      "outputs": [
        {
          "output_type": "execute_result",
          "data": {
            "text/plain": [
              "[2, 4, 6, 8, 10, 12]"
            ]
          },
          "metadata": {},
          "execution_count": 49
        }
      ]
    },
    {
      "cell_type": "code",
      "source": [
        "# filters with lambda function\n",
        "numbers = [10,20,34,23,27,65,12]\n",
        "even = list(filter(lambda x:x%2==0,numbers))\n",
        "even"
      ],
      "metadata": {
        "colab": {
          "base_uri": "https://localhost:8080/"
        },
        "id": "HwnG__4NcQBT",
        "outputId": "98e631c8-bda3-4854-caab-c92fd687828b"
      },
      "execution_count": 50,
      "outputs": [
        {
          "output_type": "execute_result",
          "data": {
            "text/plain": [
              "[10, 20, 34, 12]"
            ]
          },
          "metadata": {},
          "execution_count": 50
        }
      ]
    },
    {
      "cell_type": "code",
      "source": [
        "# filter with a lambda function and multiple conditions\n",
        "even = list(filter(lambda x:x>10 and x%2==0,numbers))\n",
        "even"
      ],
      "metadata": {
        "colab": {
          "base_uri": "https://localhost:8080/"
        },
        "id": "9w1m1BegcePf",
        "outputId": "b5bc5680-5353-4f5a-ffc5-c24c62cc8837"
      },
      "execution_count": 51,
      "outputs": [
        {
          "output_type": "execute_result",
          "data": {
            "text/plain": [
              "[20, 34, 12]"
            ]
          },
          "metadata": {},
          "execution_count": 51
        }
      ]
    },
    {
      "cell_type": "code",
      "source": [
        "# Filter() to check if the age is greate than 25 in dictionaries\n",
        "people=[\n",
        "    {'name':'Ibtisam','age':32},\n",
        "    {'name':'osama','age':33},\n",
        "    {'name':'hammad','age':25}\n",
        "]\n",
        "\n",
        "checker = list(filter(lambda people : people['age'] > 25 ,people ))\n",
        "checker"
      ],
      "metadata": {
        "colab": {
          "base_uri": "https://localhost:8080/"
        },
        "id": "mEDf8_DMdA7i",
        "outputId": "6a7235c8-efd6-4a38-c51f-81a6b9ecdaa6"
      },
      "execution_count": 54,
      "outputs": [
        {
          "output_type": "execute_result",
          "data": {
            "text/plain": [
              "[{'name': 'Ibtisam', 'age': 32}, {'name': 'osama', 'age': 33}]"
            ]
          },
          "metadata": {},
          "execution_count": 54
        }
      ]
    },
    {
      "cell_type": "code",
      "source": [],
      "metadata": {
        "id": "VzrBoX4zdVYh"
      },
      "execution_count": null,
      "outputs": []
    }
  ],
  "metadata": {
    "colab": {
      "provenance": []
    },
    "kernelspec": {
      "display_name": "Python 3",
      "name": "python3"
    },
    "language_info": {
      "name": "python"
    }
  },
  "nbformat": 4,
  "nbformat_minor": 0
}