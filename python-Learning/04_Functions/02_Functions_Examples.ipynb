{
  "cells": [
    {
      "cell_type": "markdown",
      "source": [
        "#Functions Examples\n",
        "##Example 1: Temperature Conversion"
      ],
      "metadata": {
        "id": "h9R47kh22atn"
      }
    },
    {
      "cell_type": "code",
      "source": [
        "def tempertaure_conversion (temp,unit) :\n",
        "  if unit == \"C\":\n",
        "    return temp * 9/5 + 32\n",
        "  elif unit == \"F\":\n",
        "    return (temp-32)*5/9\n",
        "  else:\n",
        "    return None\n",
        "\n",
        "print(tempertaure_conversion(100,\"C\"))\n",
        "print(tempertaure_conversion(100,\"F\"))"
      ],
      "metadata": {
        "colab": {
          "base_uri": "https://localhost:8080/"
        },
        "id": "Ul3er8qw2diO",
        "outputId": "c85b4cf3-a447-4318-c90d-7ec381374136"
      },
      "execution_count": null,
      "outputs": [
        {
          "output_type": "stream",
          "name": "stdout",
          "text": [
            "212.0\n",
            "37.77777777777778\n"
          ]
        }
      ]
    },
    {
      "cell_type": "markdown",
      "source": [
        "## Example 2: Password Strength Checker"
      ],
      "metadata": {
        "id": "PgzHTYEN26DX"
      }
    },
    {
      "cell_type": "code",
      "source": [
        "def is_strong_password(password) :\n",
        "\n",
        "  if len(password) < 8 :\n",
        "    return False\n",
        "  if not any(char.isdigit() for char in password):\n",
        "    return False\n",
        "  if not any(digit.islower() for digit in password) :\n",
        "    return False\n",
        "  if not any(digit.isupper() for digit in password) :\n",
        "    return False\n",
        "  if not any(char in '!@#$%^&*()_+' for char in password):\n",
        "    return False\n",
        "  return True\n",
        "\n",
        "print(is_strong_password('!Btis@m07'))\n",
        "print(is_strong_password('ibtisam'))\n",
        ""
      ],
      "metadata": {
        "id": "sz8TH10R3DnP",
        "colab": {
          "base_uri": "https://localhost:8080/"
        },
        "outputId": "049537fa-144d-401f-861f-34d1b5d5fe57"
      },
      "execution_count": 18,
      "outputs": [
        {
          "output_type": "stream",
          "name": "stdout",
          "text": [
            "True\n",
            "False\n"
          ]
        }
      ]
    },
    {
      "cell_type": "markdown",
      "source": [
        "# Example 3: Calculate the total cost of items in a shopping cart"
      ],
      "metadata": {
        "id": "rBD6xhNrFIm-"
      }
    },
    {
      "cell_type": "code",
      "source": [
        "\n",
        "def calualte_total_Cost (items):\n",
        "  price = 0\n",
        "  for item in items :\n",
        "    price += item['price'] * item['quantity']\n",
        "\n",
        "  return price\n",
        "\n",
        "cart = [\n",
        "    {'name': 'item1', 'price': 10, 'quantity': 2},\n",
        "    {'name': 'item2', 'price': 15, 'quantity': 1},\n",
        "]\n",
        "print(calualte_total_Cost(cart))"
      ],
      "metadata": {
        "colab": {
          "base_uri": "https://localhost:8080/"
        },
        "id": "_GivyI0LCpuc",
        "outputId": "30a95783-d354-435e-f6d7-de95eca75624"
      },
      "execution_count": 19,
      "outputs": [
        {
          "output_type": "stream",
          "name": "stdout",
          "text": [
            "35\n"
          ]
        }
      ]
    },
    {
      "cell_type": "markdown",
      "source": [
        "# Example 4: Calcualte the factorial of the number using recursion"
      ],
      "metadata": {
        "id": "f7r58jlVFFsP"
      }
    },
    {
      "cell_type": "code",
      "source": [
        "\n",
        "def factorial(number) :\n",
        "  if number == 0:\n",
        "    return 1\n",
        "  else:\n",
        "    return number * factorial(number-1)\n",
        "\n",
        "print(factorial(7))"
      ],
      "metadata": {
        "colab": {
          "base_uri": "https://localhost:8080/"
        },
        "id": "vKugLe3qEe2s",
        "outputId": "014ca94e-6f59-4d85-c578-c61e0dfb2a1a"
      },
      "execution_count": 22,
      "outputs": [
        {
          "output_type": "stream",
          "name": "stdout",
          "text": [
            "5040\n"
          ]
        }
      ]
    },
    {
      "cell_type": "markdown",
      "source": [
        "# Example 5: Checking if the string is palindrome"
      ],
      "metadata": {
        "id": "80f-Y2gOFA9G"
      }
    },
    {
      "cell_type": "code",
      "source": [
        "def is_palindrome (string) :\n",
        "  string = string.lower()\n",
        "\n",
        "  if string == string[::-1]:\n",
        "    return True\n",
        "  return False\n",
        "\n",
        "print(is_palindrome('racecar'))\n",
        "print(is_palindrome('hello'))"
      ],
      "metadata": {
        "colab": {
          "base_uri": "https://localhost:8080/"
        },
        "id": "FCchUwzaFRdu",
        "outputId": "9170cbea-e847-4a5e-c1cb-9f2331522b3d"
      },
      "execution_count": 23,
      "outputs": [
        {
          "output_type": "stream",
          "name": "stdout",
          "text": [
            "True\n",
            "False\n"
          ]
        }
      ]
    },
    {
      "cell_type": "markdown",
      "source": [
        "# Example 6: A function to read a file and count the frequency of each word"
      ],
      "metadata": {
        "id": "wTQ7m0-1FkNa"
      }
    },
    {
      "cell_type": "code",
      "source": [
        "def read_file_and_count (filepath) :\n",
        "  count = {}\n",
        "  with open(filepath,'r') as file :\n",
        "    for line in file:\n",
        "      words = line.split()\n",
        "      for word in words :\n",
        "        if word in count :\n",
        "          count[word] += 1\n",
        "        else :\n",
        "          count[word] = 1\n",
        "  return count\n",
        "\n",
        "print(read_file_and_count('word.txt'))\n",
        ""
      ],
      "metadata": {
        "colab": {
          "base_uri": "https://localhost:8080/"
        },
        "id": "T0SDM5U_RYKg",
        "outputId": "47a15797-356c-4aaf-a438-de0604368952"
      },
      "execution_count": 24,
      "outputs": [
        {
          "output_type": "stream",
          "name": "stdout",
          "text": [
            "{'hello': 1, 'my': 1, 'name': 1, 'is': 2, 'ibtisam': 1, 'i': 1, 'am': 1, 'student': 1, 'of': 1, 'bs': 1, 'ai': 2, 'and': 1, 'future': 1}\n"
          ]
        }
      ]
    },
    {
      "cell_type": "code",
      "source": [],
      "metadata": {
        "id": "bEojgWJiR3uZ"
      },
      "execution_count": null,
      "outputs": []
    }
  ],
  "metadata": {
    "colab": {
      "provenance": []
    },
    "kernelspec": {
      "display_name": "Python 3",
      "name": "python3"
    },
    "language_info": {
      "name": "python"
    }
  },
  "nbformat": 4,
  "nbformat_minor": 0
}