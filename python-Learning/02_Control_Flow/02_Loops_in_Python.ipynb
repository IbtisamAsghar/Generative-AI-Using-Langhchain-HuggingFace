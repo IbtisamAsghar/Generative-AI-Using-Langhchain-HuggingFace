{
  "nbformat": 4,
  "nbformat_minor": 0,
  "metadata": {
    "colab": {
      "provenance": []
    },
    "kernelspec": {
      "name": "python3",
      "display_name": "Python 3"
    },
    "language_info": {
      "name": "python"
    }
  },
  "cells": [
    {
      "cell_type": "markdown",
      "source": [
        "Loops\n",
        "\n",
        "\n",
        "1. Introduction to Loops\n",
        "\n",
        "2. for Loop\n",
        "\n",
        "    - Iterating over a range\n",
        "    - Iterating over a string\n",
        "\n",
        "3. while Loop\n",
        "\n",
        "4. Loop Control Statements\n",
        "\n",
        "    - break\n",
        "    - continue\n",
        "    - pass\n",
        "5. Nested Loops\n",
        "\n",
        "6. Practical Examples and Common Errors"
      ],
      "metadata": {
        "id": "z3_7p_qtD_tb"
      }
    },
    {
      "cell_type": "code",
      "source": [
        "# for loop\n",
        "for i in range (10):\n",
        "  print(i)"
      ],
      "metadata": {
        "id": "ByTLh2dRCuVI",
        "colab": {
          "base_uri": "https://localhost:8080/"
        },
        "outputId": "0838ac51-582e-4d85-e825-3ff8af41f716"
      },
      "execution_count": 1,
      "outputs": [
        {
          "output_type": "stream",
          "name": "stdout",
          "text": [
            "0\n",
            "1\n",
            "2\n",
            "3\n",
            "4\n",
            "5\n",
            "6\n",
            "7\n",
            "8\n",
            "9\n"
          ]
        }
      ]
    },
    {
      "cell_type": "code",
      "source": [
        "for i in range (1,6):\n",
        "  print(i)"
      ],
      "metadata": {
        "colab": {
          "base_uri": "https://localhost:8080/"
        },
        "id": "Iy0yyh4HcO89",
        "outputId": "ecdd324f-6cbe-47b5-8208-02e4a02882ee"
      },
      "execution_count": 2,
      "outputs": [
        {
          "output_type": "stream",
          "name": "stdout",
          "text": [
            "1\n",
            "2\n",
            "3\n",
            "4\n",
            "5\n"
          ]
        }
      ]
    },
    {
      "cell_type": "code",
      "source": [
        "\n",
        "for i in range(10,1,-1):\n",
        "    print(i)"
      ],
      "metadata": {
        "colab": {
          "base_uri": "https://localhost:8080/"
        },
        "id": "yh3Xa7mfcSoI",
        "outputId": "a491b07b-edce-4551-9f7b-37f40241c2af"
      },
      "execution_count": 8,
      "outputs": [
        {
          "output_type": "stream",
          "name": "stdout",
          "text": [
            "10\n",
            "9\n",
            "8\n",
            "7\n",
            "6\n",
            "5\n",
            "4\n",
            "3\n",
            "2\n"
          ]
        }
      ]
    },
    {
      "cell_type": "code",
      "source": [
        "for i in range (10,1,-2):\n",
        "    print(i)"
      ],
      "metadata": {
        "colab": {
          "base_uri": "https://localhost:8080/"
        },
        "id": "xzm3JYxzcVik",
        "outputId": "c744a65b-887d-44a2-f7d0-cbe9860f06bd"
      },
      "execution_count": 10,
      "outputs": [
        {
          "output_type": "stream",
          "name": "stdout",
          "text": [
            "10\n",
            "8\n",
            "6\n",
            "4\n",
            "2\n"
          ]
        }
      ]
    },
    {
      "cell_type": "code",
      "source": [
        "str = \"Ibtisam\"\n",
        "for i in str :\n",
        "  print(i)"
      ],
      "metadata": {
        "colab": {
          "base_uri": "https://localhost:8080/"
        },
        "id": "gx7f5mIjcY0f",
        "outputId": "6c9b5791-a361-4985-b8c4-62e773ba6f2a"
      },
      "execution_count": 11,
      "outputs": [
        {
          "output_type": "stream",
          "name": "stdout",
          "text": [
            "I\n",
            "b\n",
            "t\n",
            "i\n",
            "s\n",
            "a\n",
            "m\n"
          ]
        }
      ]
    },
    {
      "cell_type": "code",
      "source": [
        "#Loop Control Statements\n",
        "# break\n",
        "# The break statement exits the loop permaturely\n",
        "# break sstatement\n",
        "\n",
        "for i in range(10):\n",
        "    if i==5:\n",
        "        break\n",
        "    print(i)\n",
        ""
      ],
      "metadata": {
        "colab": {
          "base_uri": "https://localhost:8080/"
        },
        "id": "9RJKue-3c2EY",
        "outputId": "f71e6055-41c8-4f0c-9870-a77ba24ad7d5"
      },
      "execution_count": 13,
      "outputs": [
        {
          "output_type": "stream",
          "name": "stdout",
          "text": [
            "0\n",
            "1\n",
            "2\n",
            "3\n",
            "4\n"
          ]
        }
      ]
    },
    {
      "cell_type": "code",
      "source": [
        "# pass\n",
        "# The pass statement is the null operation it does nothing\n",
        "\n",
        "for i in range(1,10) :\n",
        "  if i == 5 :\n",
        "    pass\n",
        "  print(i)"
      ],
      "metadata": {
        "id": "JHSpOevsdQhD",
        "outputId": "ded53d08-f4fc-46bc-ad38-28c7d437c19b",
        "colab": {
          "base_uri": "https://localhost:8080/"
        }
      },
      "execution_count": 14,
      "outputs": [
        {
          "output_type": "stream",
          "name": "stdout",
          "text": [
            "1\n",
            "2\n",
            "3\n",
            "4\n",
            "5\n",
            "6\n",
            "7\n",
            "8\n",
            "9\n"
          ]
        }
      ]
    },
    {
      "cell_type": "code",
      "source": [
        "# Nested Loops (Loop inside the loop)\n",
        "\n",
        "for i in range (3):\n",
        "  for j in range(2) :\n",
        "    print(i,j)"
      ],
      "metadata": {
        "id": "eW0cdhqCdmFv",
        "outputId": "9872fdea-bc39-459b-8187-9b31629a2635",
        "colab": {
          "base_uri": "https://localhost:8080/"
        }
      },
      "execution_count": 16,
      "outputs": [
        {
          "output_type": "stream",
          "name": "stdout",
          "text": [
            "0 0\n",
            "0 1\n",
            "1 0\n",
            "1 1\n",
            "2 0\n",
            "2 1\n"
          ]
        }
      ]
    },
    {
      "cell_type": "code",
      "source": [
        "# Examples - Calculate the sum of first N natural numbers using a while and foor loop\n",
        "n = 10\n",
        "count = 1\n",
        "sum = 0\n",
        "while count <= n :\n",
        "  sum += count\n",
        "  count += 1\n",
        "print(sum)"
      ],
      "metadata": {
        "id": "NrLJgbS7drol",
        "outputId": "b76aca2c-b0f7-4a49-d707-7c613ee3e0db",
        "colab": {
          "base_uri": "https://localhost:8080/"
        }
      },
      "execution_count": 17,
      "outputs": [
        {
          "output_type": "stream",
          "name": "stdout",
          "text": [
            "55\n"
          ]
        }
      ]
    },
    {
      "cell_type": "code",
      "source": [
        "n = 10\n",
        "sum = 0\n",
        "for i in range (n+1):\n",
        "  sum += i\n",
        "print(sum)"
      ],
      "metadata": {
        "id": "k-MHPRd3eO83",
        "outputId": "035330ac-d7b1-49ee-8aba-e9d3599f5042",
        "colab": {
          "base_uri": "https://localhost:8080/"
        }
      },
      "execution_count": 19,
      "outputs": [
        {
          "output_type": "stream",
          "name": "stdout",
          "text": [
            "55\n"
          ]
        }
      ]
    },
    {
      "cell_type": "code",
      "source": [
        "# Checking the prime number between 1 and 100\n",
        "\n",
        "for num in range(1,101):\n",
        "    if num>1:\n",
        "        for i in range(2,num):\n",
        "            if num%i==0:\n",
        "                break\n",
        "        else:\n",
        "            print(num)"
      ],
      "metadata": {
        "id": "T-Womo0keV_f",
        "outputId": "37e67ed0-b102-443a-b601-25519067c613",
        "colab": {
          "base_uri": "https://localhost:8080/"
        }
      },
      "execution_count": 22,
      "outputs": [
        {
          "output_type": "stream",
          "name": "stdout",
          "text": [
            "2\n",
            "3\n",
            "5\n",
            "7\n",
            "11\n",
            "13\n",
            "17\n",
            "19\n",
            "23\n",
            "29\n",
            "31\n",
            "37\n",
            "41\n",
            "43\n",
            "47\n",
            "53\n",
            "59\n",
            "61\n",
            "67\n",
            "71\n",
            "73\n",
            "79\n",
            "83\n",
            "89\n",
            "97\n"
          ]
        }
      ]
    },
    {
      "cell_type": "code",
      "source": [],
      "metadata": {
        "id": "k-cCc2eSejc1"
      },
      "execution_count": null,
      "outputs": []
    }
  ]
}