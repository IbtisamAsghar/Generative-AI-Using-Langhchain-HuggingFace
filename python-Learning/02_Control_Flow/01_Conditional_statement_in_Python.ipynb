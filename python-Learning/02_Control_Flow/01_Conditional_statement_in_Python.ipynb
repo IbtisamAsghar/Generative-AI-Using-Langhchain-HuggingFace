{
  "nbformat": 4,
  "nbformat_minor": 0,
  "metadata": {
    "colab": {
      "provenance": []
    },
    "kernelspec": {
      "name": "python3",
      "display_name": "Python 3"
    },
    "language_info": {
      "name": "python"
    }
  },
  "cells": [
    {
      "cell_type": "markdown",
      "source": [
        "\n",
        "Conditional Statements (if, elif, else)\n",
        "\n",
        "1. Introduction to Conditional Statements\n",
        "2. if Statement\n",
        "3. else Statement\n",
        "4. elif Statement\n",
        "5. Nested Conditional Statements\n",
        "6. Practical Examples\n",
        "7. Common Errors and Best Practices"
      ],
      "metadata": {
        "id": "j9jYBt4BBaOM"
      }
    },
    {
      "cell_type": "code",
      "source": [
        "# if statement\n",
        "age=20\n",
        "\n",
        "if age>=18:\n",
        "    print(\"You are allowed to vote in the elections\")"
      ],
      "metadata": {
        "colab": {
          "base_uri": "https://localhost:8080/"
        },
        "id": "zk8Ki-foBl95",
        "outputId": "89239974-930b-4043-f741-b9ac97609cb8"
      },
      "execution_count": 1,
      "outputs": [
        {
          "output_type": "stream",
          "name": "stdout",
          "text": [
            "You are allowed to vote in the elections\n"
          ]
        }
      ]
    },
    {
      "cell_type": "code",
      "source": [
        "age>=18"
      ],
      "metadata": {
        "colab": {
          "base_uri": "https://localhost:8080/"
        },
        "id": "6a85-iqZBo63",
        "outputId": "8b3c5c68-6645-45e4-ffb9-493d880c0f9d"
      },
      "execution_count": 2,
      "outputs": [
        {
          "output_type": "execute_result",
          "data": {
            "text/plain": [
              "True"
            ]
          },
          "metadata": {},
          "execution_count": 2
        }
      ]
    },
    {
      "cell_type": "code",
      "source": [
        "# The else statement executes a block of code if the condition in the if statement is False.\n",
        "\n",
        "age=16\n",
        "\n",
        "if age>=18:\n",
        "    print(\"You are eligible for voting\")\n",
        "else:\n",
        "    print(\"You are a minor\")"
      ],
      "metadata": {
        "colab": {
          "base_uri": "https://localhost:8080/"
        },
        "id": "sZgLWTm_Bq72",
        "outputId": "76b50d58-d774-4d77-c03b-0257fc54f0c7"
      },
      "execution_count": 3,
      "outputs": [
        {
          "output_type": "stream",
          "name": "stdout",
          "text": [
            "You are a minor\n"
          ]
        }
      ]
    },
    {
      "cell_type": "code",
      "source": [
        "# The elif statement allows you to check multiple conditions. It stands for \"else if\"\n",
        "\n",
        "age=17\n",
        "\n",
        "if age<13:\n",
        "    print(\"You are a child\")\n",
        "elif age<18:\n",
        "    print(\"You are a teenager\")\n",
        "else:\n",
        "    print(\"You are an adult\")"
      ],
      "metadata": {
        "colab": {
          "base_uri": "https://localhost:8080/"
        },
        "id": "8xI-FSFfBuX9",
        "outputId": "97f77bca-0e4f-4614-8ac1-e9bae25f6c64"
      },
      "execution_count": 4,
      "outputs": [
        {
          "output_type": "stream",
          "name": "stdout",
          "text": [
            "You are a teenager\n"
          ]
        }
      ]
    },
    {
      "cell_type": "code",
      "source": [
        "## Nested Condiitonal Statements\n",
        "\n",
        "# can place one or more if, elif, or else statements inside another if, elif, or else statement to create nested conditional statements.\n",
        "\n",
        "## number even ,odd,negative\n",
        "\n",
        "num=int(input(\"Enter the number\"))\n",
        "\n",
        "if num>0:\n",
        "    print(\"The number is positive\")\n",
        "    if num%2==0:\n",
        "        print(\"The number is even\")\n",
        "    else:\n",
        "        print(\"The number is odd\")\n",
        "\n",
        "else:\n",
        "    print(\"The number is zero or negative\")"
      ],
      "metadata": {
        "colab": {
          "base_uri": "https://localhost:8080/"
        },
        "id": "U1lLotYXBw6x",
        "outputId": "b26f6b2e-09a6-4623-bfb0-82d45c4b3446"
      },
      "execution_count": 5,
      "outputs": [
        {
          "output_type": "stream",
          "name": "stdout",
          "text": [
            "Enter the number21\n",
            "The number is positive\n",
            "The number is odd\n"
          ]
        }
      ]
    },
    {
      "cell_type": "code",
      "source": [
        "# Determine if a year is a leap year using nested condition statement\n",
        "\n",
        "year=int(input(\"Enter the year\"))\n",
        "\n",
        "if year%4==0:\n",
        "    if year%100==0:\n",
        "        if year%400==0:\n",
        "            print(year,\"is a leap year\")\n",
        "        else:\n",
        "            print(year,\"is not a leap year\")\n",
        "    else:\n",
        "        print(year,\"is a leap year\")\n",
        "\n",
        "else:\n",
        "    print(year,\"is not a leap year\")"
      ],
      "metadata": {
        "colab": {
          "base_uri": "https://localhost:8080/"
        },
        "id": "lU9KFFnKB2KI",
        "outputId": "5bc1f77d-5c0c-4b73-bda9-25af992d677e"
      },
      "execution_count": 6,
      "outputs": [
        {
          "output_type": "stream",
          "name": "stdout",
          "text": [
            "Enter the year2030\n",
            "2030 is not a leap year\n"
          ]
        }
      ]
    },
    {
      "cell_type": "code",
      "source": [
        "num1 = float(input(\"Enter first number: \"))\n",
        "num2 = float(input(\"Enter second number: \"))\n",
        "operation = input(\"Enter operation (+, -, *, /): \")\n",
        "\n",
        "# Perform the requested operation\n",
        "if operation == '+':\n",
        "    result = num1 + num2\n",
        "elif operation == '-':\n",
        "    result = num1 - num2\n",
        "elif operation == '*':\n",
        "    result = num1 * num2\n",
        "elif operation == '/':\n",
        "    if num2 != 0:\n",
        "        result = num1 / num2\n",
        "    else:\n",
        "        result = \"Error! Division by zero.\"\n",
        "else:\n",
        "    result = \"Invalid operation.\"\n",
        "\n",
        "print(\"Result:\", result)"
      ],
      "metadata": {
        "colab": {
          "base_uri": "https://localhost:8080/"
        },
        "id": "7I8LveH9B7mE",
        "outputId": "a7ad958e-1bc6-45f8-855a-73b557b699e9"
      },
      "execution_count": 7,
      "outputs": [
        {
          "output_type": "stream",
          "name": "stdout",
          "text": [
            "Enter first number: 23\n",
            "Enter second number: 2\n",
            "Enter operation (+, -, *, /): /\n",
            "Result: 11.5\n"
          ]
        }
      ]
    },
    {
      "cell_type": "code",
      "source": [
        "age = int(input(\"Enter your age: \"))\n",
        "is_student = input(\"Are you a student? (yes/no): \").lower()\n",
        "\n",
        "# Determine ticket price\n",
        "if age < 5:\n",
        "    price = \"Free\"\n",
        "elif age <= 12:\n",
        "    price = \"$10\"\n",
        "elif age <= 17:\n",
        "    if is_student == 'yes':\n",
        "        price = \"$12\"\n",
        "    else:\n",
        "        price = \"$15\"\n",
        "elif age <= 64:\n",
        "    if is_student == 'yes':\n",
        "        price = \"$18\"\n",
        "    else:\n",
        "        price = \"$25\"\n",
        "else:\n",
        "    price = \"$20\"\n",
        "print(\"Ticket Price:\", price)"
      ],
      "metadata": {
        "colab": {
          "base_uri": "https://localhost:8080/"
        },
        "id": "2FqrCrF6CBze",
        "outputId": "92212fd2-1cfa-483c-9445-411be2e93aca"
      },
      "execution_count": 9,
      "outputs": [
        {
          "output_type": "stream",
          "name": "stdout",
          "text": [
            "Enter your age: 21\n",
            "Are you a student? (yes/no): no\n",
            "Ticket Price: $25\n"
          ]
        }
      ]
    },
    {
      "cell_type": "code",
      "source": [
        "years_of_service = int(input(\"Enter years of service: \"))\n",
        "performance_rating = float(input(\"Enter performance rating (1.0 to 5.0): \"))\n",
        "\n",
        "# Determine bonus percentage\n",
        "if performance_rating >= 4.5:\n",
        "    if years_of_service > 10:\n",
        "        bonus_percentage = 20\n",
        "    elif years_of_service > 5:\n",
        "        bonus_percentage = 15\n",
        "    else:\n",
        "        bonus_percentage = 10\n",
        "elif performance_rating >= 3.5:\n",
        "    if years_of_service > 10:\n",
        "        bonus_percentage = 15\n",
        "    elif years_of_service > 5:\n",
        "        bonus_percentage = 10\n",
        "    else:\n",
        "        bonus_percentage = 5\n",
        "else:\n",
        "    bonus_percentage = 0\n",
        "\n",
        "# Calculate bonus amount\n",
        "salary = float(input(\"Enter current salary: \"))\n",
        "bonus_amount = salary * bonus_percentage / 100\n",
        "\n",
        "print(\"Bonus Amount: ${:.2f}\".format(bonus_amount))"
      ],
      "metadata": {
        "colab": {
          "base_uri": "https://localhost:8080/"
        },
        "id": "rNcsqM-ACIpX",
        "outputId": "8ce7f597-baaf-4c63-f1ad-113ecec2f32f"
      },
      "execution_count": 10,
      "outputs": [
        {
          "output_type": "stream",
          "name": "stdout",
          "text": [
            "Enter years of service: 21\n",
            "Enter performance rating (1.0 to 5.0): 4\n",
            "Enter current salary: 323222\n",
            "Bonus Amount: $48483.30\n"
          ]
        }
      ]
    },
    {
      "cell_type": "code",
      "source": [
        "\n",
        "# User login system\n",
        "\n",
        "# Predefined username and password\n",
        "stored_username = \"admin\"\n",
        "stored_password = \"password123\"\n",
        "\n",
        "# Take user input\n",
        "username = input(\"Enter username: \")\n",
        "password = input(\"Enter password: \")\n",
        "\n",
        "# Check login credentials\n",
        "if username == stored_username:\n",
        "    if password == stored_password:\n",
        "        print(\"Login successful!\")\n",
        "    else:\n",
        "        print(\"Incorrect password.\")\n",
        "else:\n",
        "    print(\"Username not found.\")"
      ],
      "metadata": {
        "colab": {
          "base_uri": "https://localhost:8080/"
        },
        "id": "ha5MavEWCZkD",
        "outputId": "1f21b54b-0c2b-49d6-b9e8-d1162e410f7b"
      },
      "execution_count": 11,
      "outputs": [
        {
          "output_type": "stream",
          "name": "stdout",
          "text": [
            "Enter username: admin\n",
            "Enter password: password123\n",
            "Login successful!\n"
          ]
        }
      ]
    },
    {
      "cell_type": "code",
      "source": [],
      "metadata": {
        "id": "5KX_dXFMChNH"
      },
      "execution_count": null,
      "outputs": []
    }
  ]
}