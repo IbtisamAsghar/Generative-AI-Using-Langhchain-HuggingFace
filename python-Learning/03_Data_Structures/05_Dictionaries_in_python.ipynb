{
  "cells": [
    {
      "cell_type": "markdown",
      "source": [
        "## Dictionaries\n",
        "\n",
        "\n",
        "1. Introduction to Dictionaries\n",
        "2. Creating Dictionaries\n",
        "3. Accessing Dictionary Elements\n",
        "4. Modifying Dictionary Elements\n",
        "5. Dictionary Methods\n",
        "6. Iterating Over Dictionaries\n",
        "7. Nested Dictionaries\n",
        "8. Dictionary Comprehensions\n",
        "9. Practical Examples and Common Errors\n",
        "\n",
        "#### Introduction to Dictionaries\n",
        "Dictionaries are unordered collections of items. They store data in key-value pairs. Keys must be unique and immutable (e.g., strings, numbers, or tuples), while values can be of any type."
      ],
      "metadata": {
        "id": "R4QYYuHvylJy"
      }
    },
    {
      "cell_type": "code",
      "source": [
        "# creating Dictionaries\n",
        "empty_dic = {}\n",
        "print(type(empty_dic))\n",
        "print(empty_dic)"
      ],
      "metadata": {
        "colab": {
          "base_uri": "https://localhost:8080/"
        },
        "id": "namOsVuVzcM_",
        "outputId": "cb3df7ed-86b4-4f30-8383-8602696a7acd"
      },
      "execution_count": 11,
      "outputs": [
        {
          "output_type": "stream",
          "name": "stdout",
          "text": [
            "<class 'dict'>\n",
            "{}\n"
          ]
        }
      ]
    },
    {
      "cell_type": "code",
      "source": [
        "student = {'name':'Ibtisam','age':22,'major':'CS'}\n",
        "print(student)"
      ],
      "metadata": {
        "colab": {
          "base_uri": "https://localhost:8080/"
        },
        "id": "-mxD6VXezj90",
        "outputId": "8195522d-996a-4c0a-fd01-57b0bb0f6041"
      },
      "execution_count": 20,
      "outputs": [
        {
          "output_type": "stream",
          "name": "stdout",
          "text": [
            "{'name': 'Ibtisam', 'age': 22, 'major': 'CS'}\n"
          ]
        }
      ]
    },
    {
      "cell_type": "code",
      "source": [
        "# accessing dictionary elements\n",
        "print(student['name'])\n",
        "print(student['age'])\n",
        "print(student['major'])"
      ],
      "metadata": {
        "colab": {
          "base_uri": "https://localhost:8080/"
        },
        "id": "0BMUbL_3zx6a",
        "outputId": "e5f1284f-c3db-4da8-9735-e489789f4909"
      },
      "execution_count": 21,
      "outputs": [
        {
          "output_type": "stream",
          "name": "stdout",
          "text": [
            "Ibtisam\n",
            "22\n",
            "CS\n"
          ]
        }
      ]
    },
    {
      "cell_type": "code",
      "source": [
        "# accessing using the get() method\n",
        "print(student.get('name'))\n",
        "print(student.get('age'))\n",
        "print(student.get('major'))"
      ],
      "metadata": {
        "colab": {
          "base_uri": "https://localhost:8080/"
        },
        "id": "pxmcoofcz-Qz",
        "outputId": "c2d42cb9-20bc-4d3d-8903-af2fbfddc8a3"
      },
      "execution_count": 22,
      "outputs": [
        {
          "output_type": "stream",
          "name": "stdout",
          "text": [
            "Ibtisam\n",
            "22\n",
            "CS\n"
          ]
        }
      ]
    },
    {
      "cell_type": "code",
      "source": [
        "# Modifying the dictionary elements\n",
        "student['major'] = \"AI\"\n",
        "print(student)\n",
        "student['address'] = \"Pakistan\"\n",
        "print(student)"
      ],
      "metadata": {
        "colab": {
          "base_uri": "https://localhost:8080/"
        },
        "id": "DdgoiY2c0MQq",
        "outputId": "b67d872a-9eb5-4408-c85b-8f780dfdb2e9"
      },
      "execution_count": 23,
      "outputs": [
        {
          "output_type": "stream",
          "name": "stdout",
          "text": [
            "{'name': 'Ibtisam', 'age': 22, 'major': 'AI'}\n",
            "{'name': 'Ibtisam', 'age': 22, 'major': 'AI', 'address': 'Pakistan'}\n"
          ]
        }
      ]
    },
    {
      "cell_type": "code",
      "source": [
        "# del key and value pair\n",
        "del student['address']\n",
        "print(student)"
      ],
      "metadata": {
        "colab": {
          "base_uri": "https://localhost:8080/"
        },
        "id": "Yys6Z88z0YnC",
        "outputId": "068cd3c8-fa0d-4e1a-bc17-f7c05565d989"
      },
      "execution_count": 24,
      "outputs": [
        {
          "output_type": "stream",
          "name": "stdout",
          "text": [
            "{'name': 'Ibtisam', 'age': 22, 'major': 'AI'}\n"
          ]
        }
      ]
    },
    {
      "cell_type": "code",
      "source": [
        "# Dictionary methods\n",
        "\n",
        "keys = student.keys()\n",
        "print(keys)\n",
        "values = student.values()\n",
        "print(values)\n",
        "\n",
        "# get all key and value pairs\n",
        "items = student.items()\n",
        "print(items)"
      ],
      "metadata": {
        "colab": {
          "base_uri": "https://localhost:8080/"
        },
        "id": "PSCeayO53P2Z",
        "outputId": "2f298551-2aa2-4cd0-acf6-a34267486992"
      },
      "execution_count": 26,
      "outputs": [
        {
          "output_type": "stream",
          "name": "stdout",
          "text": [
            "dict_keys(['name', 'age', 'major'])\n",
            "dict_values(['Ibtisam', 22, 'AI'])\n",
            "dict_items([('name', 'Ibtisam'), ('age', 22), ('major', 'AI')])\n"
          ]
        }
      ]
    },
    {
      "cell_type": "code",
      "source": [
        "# shallow copy\n",
        "student_copy = student\n",
        "print(student_copy)\n",
        "print(student)"
      ],
      "metadata": {
        "colab": {
          "base_uri": "https://localhost:8080/"
        },
        "id": "GxUiawIe3b5d",
        "outputId": "2840e3e0-272f-48a0-92ec-7f327659cfaa"
      },
      "execution_count": 27,
      "outputs": [
        {
          "output_type": "stream",
          "name": "stdout",
          "text": [
            "{'name': 'Ibtisam', 'age': 22, 'major': 'AI'}\n",
            "{'name': 'Ibtisam', 'age': 22, 'major': 'AI'}\n"
          ]
        }
      ]
    },
    {
      "cell_type": "code",
      "source": [
        "student['name'] = 'Osama'\n",
        "print(student_copy)\n",
        "print(student)"
      ],
      "metadata": {
        "colab": {
          "base_uri": "https://localhost:8080/"
        },
        "id": "ylqcsb4B31AF",
        "outputId": "38917d0f-924a-422a-de82-a1f50b9ab021"
      },
      "execution_count": 28,
      "outputs": [
        {
          "output_type": "stream",
          "name": "stdout",
          "text": [
            "{'name': 'Osama', 'age': 22, 'major': 'AI'}\n",
            "{'name': 'Osama', 'age': 22, 'major': 'AI'}\n"
          ]
        }
      ]
    },
    {
      "cell_type": "code",
      "source": [
        "student_copy_1 = student.copy()\n",
        "print(student_copy_1)\n",
        "print(student)"
      ],
      "metadata": {
        "colab": {
          "base_uri": "https://localhost:8080/"
        },
        "id": "Prl4NQF835Ks",
        "outputId": "ec507dd9-0c9a-49fe-c1c3-8e2d5942add7"
      },
      "execution_count": 29,
      "outputs": [
        {
          "output_type": "stream",
          "name": "stdout",
          "text": [
            "{'name': 'Osama', 'age': 22, 'major': 'AI'}\n",
            "{'name': 'Osama', 'age': 22, 'major': 'AI'}\n"
          ]
        }
      ]
    },
    {
      "cell_type": "code",
      "source": [
        "student['name' ]= \"Ibtisam\"\n",
        "print(student_copy_1)\n",
        "print(student)"
      ],
      "metadata": {
        "colab": {
          "base_uri": "https://localhost:8080/"
        },
        "id": "Gx-gSMfa3-NC",
        "outputId": "81a70577-8f8d-478f-8415-ddeffdb21e42"
      },
      "execution_count": 30,
      "outputs": [
        {
          "output_type": "stream",
          "name": "stdout",
          "text": [
            "{'name': 'Osama', 'age': 22, 'major': 'AI'}\n",
            "{'name': 'Ibtisam', 'age': 22, 'major': 'AI'}\n"
          ]
        }
      ]
    },
    {
      "cell_type": "code",
      "source": [
        "# Iterating over Dictionaries\n",
        "for keys in student.keys():\n",
        "  print(keys)"
      ],
      "metadata": {
        "colab": {
          "base_uri": "https://localhost:8080/"
        },
        "id": "Wz7YDRKU4CaS",
        "outputId": "c8c45ebb-6958-4cd7-a8ad-04e4d5a9bd6d"
      },
      "execution_count": 32,
      "outputs": [
        {
          "output_type": "stream",
          "name": "stdout",
          "text": [
            "name\n",
            "age\n",
            "major\n"
          ]
        }
      ]
    },
    {
      "cell_type": "code",
      "source": [
        "for value in student.values():\n",
        "  print(value)"
      ],
      "metadata": {
        "colab": {
          "base_uri": "https://localhost:8080/"
        },
        "id": "St-77zuo54Kq",
        "outputId": "64b2c694-f0e6-4143-b0f0-3f4582817a45"
      },
      "execution_count": 33,
      "outputs": [
        {
          "output_type": "stream",
          "name": "stdout",
          "text": [
            "Ibtisam\n",
            "22\n",
            "AI\n"
          ]
        }
      ]
    },
    {
      "cell_type": "code",
      "source": [
        "# iterating over key value pair\n",
        "for key,value in student.items():\n",
        "  print(key,value)"
      ],
      "metadata": {
        "colab": {
          "base_uri": "https://localhost:8080/"
        },
        "id": "JUaog0165-Hv",
        "outputId": "3c65f25d-dd1f-41bd-e89f-a00b13db161a"
      },
      "execution_count": 34,
      "outputs": [
        {
          "output_type": "stream",
          "name": "stdout",
          "text": [
            "name Ibtisam\n",
            "age 22\n",
            "major AI\n"
          ]
        }
      ]
    },
    {
      "cell_type": "code",
      "source": [
        "# Nested Dictionaries\n",
        "student = {\n",
        "    'student_1' :{'name':\"Ibtisam\",'age':22},\n",
        "    'student_2' :{'name':'Osama','age':24}\n",
        "}\n",
        "student.items()"
      ],
      "metadata": {
        "colab": {
          "base_uri": "https://localhost:8080/"
        },
        "id": "CEJPOGjL6Khh",
        "outputId": "81bbdcd3-8aed-4089-be2e-735024a3a750"
      },
      "execution_count": 35,
      "outputs": [
        {
          "output_type": "execute_result",
          "data": {
            "text/plain": [
              "dict_items([('student_1', {'name': 'Ibtisam', 'age': 22}), ('student_2', {'name': 'Osama', 'age': 24})])"
            ]
          },
          "metadata": {},
          "execution_count": 35
        }
      ]
    },
    {
      "cell_type": "code",
      "source": [
        "# Access nested dictionaries elements\n",
        "student = {\n",
        "    'student_1' :{'name':\"Ibtisam\",'age':22},\n",
        "    'student_2' :{'name':'Osama','age':24}\n",
        "}\n",
        "print(student['student_1']['name'])"
      ],
      "metadata": {
        "colab": {
          "base_uri": "https://localhost:8080/"
        },
        "id": "H__EqA-K6tQ_",
        "outputId": "55b32143-21bb-4681-ab06-728aa3cacc17"
      },
      "execution_count": 40,
      "outputs": [
        {
          "output_type": "stream",
          "name": "stdout",
          "text": [
            "Ibtisam\n"
          ]
        }
      ]
    },
    {
      "cell_type": "code",
      "source": [
        "## Iterating over nested dictionaries\n",
        "\n",
        "for student_id,student_info in student.items():\n",
        "  print(student_id,student_info)\n",
        "  for key,value in student_info.items():\n",
        "    print(key,value)"
      ],
      "metadata": {
        "colab": {
          "base_uri": "https://localhost:8080/"
        },
        "id": "pT1u6rqF6edS",
        "outputId": "a3245a29-ba4b-4503-baa5-8c0b4690c87c"
      },
      "execution_count": 41,
      "outputs": [
        {
          "output_type": "stream",
          "name": "stdout",
          "text": [
            "student_1 {'name': 'Ibtisam', 'age': 22}\n",
            "name Ibtisam\n",
            "age 22\n",
            "student_2 {'name': 'Osama', 'age': 24}\n",
            "name Osama\n",
            "age 24\n"
          ]
        }
      ]
    },
    {
      "cell_type": "code",
      "source": [
        "# dictionary comprehension\n",
        "squares = {x:x**2 for x in range(1,6)}\n",
        "print(squares)"
      ],
      "metadata": {
        "colab": {
          "base_uri": "https://localhost:8080/"
        },
        "id": "IfRbV7DH6jOK",
        "outputId": "785bbe75-dcc3-4cb2-99d7-e1652bbf17d2"
      },
      "execution_count": 42,
      "outputs": [
        {
          "output_type": "stream",
          "name": "stdout",
          "text": [
            "{1: 1, 2: 4, 3: 9, 4: 16, 5: 25}\n"
          ]
        }
      ]
    },
    {
      "cell_type": "code",
      "source": [
        "# Condition dictionary comprehension\n",
        "squares = {x:x**2 for x in range(1,10) if x%2 == 0}\n",
        "print(squares)"
      ],
      "metadata": {
        "colab": {
          "base_uri": "https://localhost:8080/"
        },
        "id": "i1td_JCu7vDJ",
        "outputId": "2d528427-aefa-41bc-82a2-d4c3c76fe789"
      },
      "execution_count": 43,
      "outputs": [
        {
          "output_type": "stream",
          "name": "stdout",
          "text": [
            "{2: 4, 4: 16, 6: 36, 8: 64}\n"
          ]
        }
      ]
    },
    {
      "cell_type": "code",
      "source": [
        "# count the frequency of elements in list\n",
        "numbers = [10,20,20,20,30,30,40,40,40,40,40]\n",
        "frequency = {}\n",
        "\n",
        "for items in numbers :\n",
        "  if items in frequency:\n",
        "    frequency[items]+= 1\n",
        "  else :\n",
        "    frequency[items] = 1\n",
        "print(frequency)"
      ],
      "metadata": {
        "colab": {
          "base_uri": "https://localhost:8080/"
        },
        "id": "SdZ9lQL873dA",
        "outputId": "6aa98f7b-b3f1-4d80-a08f-00452f215547"
      },
      "execution_count": 44,
      "outputs": [
        {
          "output_type": "stream",
          "name": "stdout",
          "text": [
            "{10: 1, 20: 3, 30: 2, 40: 5}\n"
          ]
        }
      ]
    },
    {
      "cell_type": "code",
      "source": [
        "# Merge 2 dictionaries into one\n",
        "\n",
        "dict1={\"a\":1,\"b\":2}\n",
        "dict2={\"b\":3,\"c\":4}\n",
        "merged_dict={**dict1,**dict2} # ** operator is used for unpacking dictionaries.\n",
        "print(merged_dict)"
      ],
      "metadata": {
        "colab": {
          "base_uri": "https://localhost:8080/"
        },
        "id": "FC20AADu9Jp_",
        "outputId": "f1865111-56e2-4b17-e46f-be650318115d"
      },
      "execution_count": 45,
      "outputs": [
        {
          "output_type": "stream",
          "name": "stdout",
          "text": [
            "{'a': 1, 'b': 3, 'c': 4}\n"
          ]
        }
      ]
    },
    {
      "cell_type": "code",
      "source": [],
      "metadata": {
        "id": "uECieKad9RJA"
      },
      "execution_count": null,
      "outputs": []
    }
  ],
  "metadata": {
    "colab": {
      "provenance": []
    },
    "kernelspec": {
      "display_name": "Python 3",
      "name": "python3"
    },
    "language_info": {
      "name": "python"
    }
  },
  "nbformat": 4,
  "nbformat_minor": 0
}