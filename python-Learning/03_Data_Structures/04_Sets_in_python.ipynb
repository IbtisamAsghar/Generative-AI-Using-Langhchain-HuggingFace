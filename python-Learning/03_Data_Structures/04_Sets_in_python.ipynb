{
  "cells": [
    {
      "cell_type": "markdown",
      "source": [
        "\n",
        "#Sets\n",
        "Sets are a built-in data type in Python used to store collections of unique items. They are unordered, meaning that the elements do not follow a specific order, and they do not allow duplicate elements. Sets are useful for membership tests, eliminating duplicate entries, and performing mathematical set operations like union, intersection, difference, and symmetric difference."
      ],
      "metadata": {
        "id": "DMOYJVk0z8vs"
      }
    },
    {
      "cell_type": "code",
      "source": [
        "#create a set\n",
        "my_set={1,2,3,4,5}\n",
        "print(my_set)\n",
        "print(type(my_set))"
      ],
      "metadata": {
        "colab": {
          "base_uri": "https://localhost:8080/"
        },
        "id": "RAYY0taT0AOk",
        "outputId": "078f9522-388d-446b-ea78-bd2d778e8082"
      },
      "execution_count": null,
      "outputs": [
        {
          "output_type": "stream",
          "name": "stdout",
          "text": [
            "{1, 2, 3, 4, 5}\n",
            "<class 'set'>\n"
          ]
        }
      ]
    },
    {
      "cell_type": "code",
      "source": [
        "empty_set = {}\n",
        "print(type(empty_set))"
      ],
      "metadata": {
        "colab": {
          "base_uri": "https://localhost:8080/"
        },
        "id": "I_VMwg4p0CV4",
        "outputId": "6ea15148-773b-42a5-969f-2b2bab729ad7"
      },
      "execution_count": null,
      "outputs": [
        {
          "output_type": "stream",
          "name": "stdout",
          "text": [
            "<class 'dict'>\n"
          ]
        }
      ]
    },
    {
      "cell_type": "code",
      "source": [
        "my_set = set([\"ibtisam\",23,23.4,'a'])\n",
        "print(my_set)"
      ],
      "metadata": {
        "colab": {
          "base_uri": "https://localhost:8080/"
        },
        "id": "TqJWQy3j0Gq4",
        "outputId": "43be1727-0a2d-4f3a-ab7f-904f6d39dee5"
      },
      "execution_count": null,
      "outputs": [
        {
          "output_type": "stream",
          "name": "stdout",
          "text": [
            "{23.4, 'a', 'ibtisam', 23}\n"
          ]
        }
      ]
    },
    {
      "cell_type": "code",
      "source": [
        "\n",
        "my_empty_set=set([1,2,3,6,5,4,5,6]) # only unique values\n",
        "print(my_empty_set)"
      ],
      "metadata": {
        "colab": {
          "base_uri": "https://localhost:8080/"
        },
        "id": "ulPV7tnH0Tm4",
        "outputId": "1adef3af-8bb7-4b2a-8ec1-101d865b548b"
      },
      "execution_count": null,
      "outputs": [
        {
          "output_type": "stream",
          "name": "stdout",
          "text": [
            "{1, 2, 3, 4, 5, 6}\n"
          ]
        }
      ]
    },
    {
      "cell_type": "code",
      "source": [
        "# Basics Sets Operation\n",
        "# Adiing and Removing Elements\n",
        "my_set.add(7)\n",
        "print(my_set)\n",
        "my_set.add(6)\n",
        "print(my_set)"
      ],
      "metadata": {
        "colab": {
          "base_uri": "https://localhost:8080/"
        },
        "id": "4VTpRDsZ0dNa",
        "outputId": "70f64323-4444-4471-a4b7-8d4f646e29bd"
      },
      "execution_count": null,
      "outputs": [
        {
          "output_type": "stream",
          "name": "stdout",
          "text": [
            "{'ibtisam', 7, 'a', 23, 23.4}\n",
            "{'ibtisam', 7, 'a', 6, 23, 23.4}\n"
          ]
        }
      ]
    },
    {
      "cell_type": "code",
      "source": [
        "# Remove the element from the set\n",
        "my_set.remove(6)\n",
        "print(my_set)"
      ],
      "metadata": {
        "colab": {
          "base_uri": "https://localhost:8080/"
        },
        "id": "9saiCj0b0srU",
        "outputId": "95eacda5-b4dc-4a7e-c11c-2807b6280b3c"
      },
      "execution_count": null,
      "outputs": [
        {
          "output_type": "stream",
          "name": "stdout",
          "text": [
            "{'ibtisam', 7, 'a', 23, 23.4}\n"
          ]
        }
      ]
    },
    {
      "cell_type": "code",
      "source": [
        "my_set.remove(10)"
      ],
      "metadata": {
        "colab": {
          "base_uri": "https://localhost:8080/",
          "height": 141
        },
        "id": "_Uuk_4Il009g",
        "outputId": "01907324-0fd2-454e-ffd6-6890e3a73cd7"
      },
      "execution_count": null,
      "outputs": [
        {
          "output_type": "error",
          "ename": "KeyError",
          "evalue": "10",
          "traceback": [
            "\u001b[0;31m---------------------------------------------------------------------------\u001b[0m",
            "\u001b[0;31mKeyError\u001b[0m                                  Traceback (most recent call last)",
            "\u001b[0;32m<ipython-input-101-aa5e57d43179>\u001b[0m in \u001b[0;36m<cell line: 0>\u001b[0;34m()\u001b[0m\n\u001b[0;32m----> 1\u001b[0;31m \u001b[0mmy_set\u001b[0m\u001b[0;34m.\u001b[0m\u001b[0mremove\u001b[0m\u001b[0;34m(\u001b[0m\u001b[0;36m10\u001b[0m\u001b[0;34m)\u001b[0m\u001b[0;34m\u001b[0m\u001b[0;34m\u001b[0m\u001b[0m\n\u001b[0m",
            "\u001b[0;31mKeyError\u001b[0m: 10"
          ]
        }
      ]
    },
    {
      "cell_type": "code",
      "source": [
        "\n",
        "my_set.discard(10)\n",
        "print(my_set)"
      ],
      "metadata": {
        "colab": {
          "base_uri": "https://localhost:8080/"
        },
        "id": "1BGZLsol44S9",
        "outputId": "250e0d73-5085-4660-d11d-5491731ebad0"
      },
      "execution_count": null,
      "outputs": [
        {
          "output_type": "stream",
          "name": "stdout",
          "text": [
            "{7, 'a', 23, 23.4}\n"
          ]
        }
      ]
    },
    {
      "cell_type": "code",
      "source": [
        "# pop method\n",
        "removed_element=my_set.pop()\n",
        "print(removed_element)\n",
        "print(my_set)"
      ],
      "metadata": {
        "colab": {
          "base_uri": "https://localhost:8080/"
        },
        "id": "-xq-EgZi039Z",
        "outputId": "a7683129-3cad-4b4a-9ed7-0dca9bd1b2a0"
      },
      "execution_count": null,
      "outputs": [
        {
          "output_type": "stream",
          "name": "stdout",
          "text": [
            "ibtisam\n",
            "{7, 'a', 23, 23.4}\n"
          ]
        }
      ]
    },
    {
      "cell_type": "code",
      "source": [
        "# clear all the elements\n",
        "my_set.clear()\n",
        "print(my_set)"
      ],
      "metadata": {
        "colab": {
          "base_uri": "https://localhost:8080/"
        },
        "id": "Ih75ADxs43hP",
        "outputId": "b295838e-5082-45e2-f636-313a6be03f07"
      },
      "execution_count": null,
      "outputs": [
        {
          "output_type": "stream",
          "name": "stdout",
          "text": [
            "set()\n"
          ]
        }
      ]
    },
    {
      "cell_type": "code",
      "source": [
        "# set Memebership test\n",
        "my_set = {22,23,34,546,56}\n",
        "print(22 in my_set)\n",
        "print(44 in my_set)"
      ],
      "metadata": {
        "id": "W8MdaJik5LWE",
        "colab": {
          "base_uri": "https://localhost:8080/"
        },
        "outputId": "a0ccfff2-e01f-4872-c9fc-92bf182aa5c5"
      },
      "execution_count": 2,
      "outputs": [
        {
          "output_type": "stream",
          "name": "stdout",
          "text": [
            "True\n",
            "False\n"
          ]
        }
      ]
    },
    {
      "cell_type": "code",
      "source": [
        "# Mathematical operations on the sets\n",
        "set1 = {1,2,3,4,5,6}\n",
        "set2 = {7,4,5,10,6}\n",
        "\n",
        "# union operation\n",
        "union_set = set1.union(set2)\n",
        "print(union_set)\n",
        "\n",
        "# Intersection operation\n",
        "intersection_operation = set1.intersection(set2)\n",
        "print(intersection_operation)\n",
        "\n",
        "# Difference\n",
        "difference_set = set1.difference(set2)\n",
        "print(difference_set)\n",
        "\n",
        "# symmetric difference\n",
        "symmetric_difference = set1.symmetric_difference(set2)\n",
        "print(symmetric_difference)"
      ],
      "metadata": {
        "colab": {
          "base_uri": "https://localhost:8080/"
        },
        "id": "DTQcWG0WuvWN",
        "outputId": "91083570-0917-4c10-a84c-f0795a1f182a"
      },
      "execution_count": 5,
      "outputs": [
        {
          "output_type": "stream",
          "name": "stdout",
          "text": [
            "{1, 2, 3, 4, 5, 6, 7, 10}\n",
            "{4, 5, 6}\n",
            "{1, 2, 3}\n",
            "{1, 2, 3, 7, 10}\n"
          ]
        }
      ]
    },
    {
      "cell_type": "code",
      "source": [
        "# sets Methods\n",
        "set1 = {1,2,3,4,5}\n",
        "set2 = {3,4,5}\n",
        "\n",
        "# is subset\n",
        "print(set1.issubset(set2))\n",
        "\n",
        "print(set1.issuperset(set2))"
      ],
      "metadata": {
        "colab": {
          "base_uri": "https://localhost:8080/"
        },
        "id": "RXhvIvfEvUO8",
        "outputId": "0900204d-3df5-427c-9ff0-1109b9fe627a"
      },
      "execution_count": 6,
      "outputs": [
        {
          "output_type": "stream",
          "name": "stdout",
          "text": [
            "False\n",
            "True\n"
          ]
        }
      ]
    },
    {
      "cell_type": "code",
      "source": [
        "lst = [10,20,20,20,40,40,50]\n",
        "set(lst)"
      ],
      "metadata": {
        "colab": {
          "base_uri": "https://localhost:8080/"
        },
        "id": "6pNR08DAyGhG",
        "outputId": "545fd0ac-c363-4853-cb84-e6000ca15648"
      },
      "execution_count": 7,
      "outputs": [
        {
          "output_type": "execute_result",
          "data": {
            "text/plain": [
              "{10, 20, 40, 50}"
            ]
          },
          "metadata": {},
          "execution_count": 7
        }
      ]
    },
    {
      "cell_type": "code",
      "source": [
        "# counting the unique words in text\n",
        "text = \"My name is ibtisam and i am learning Generative AI\"\n",
        "words = text.split()\n",
        "\n",
        "unique_words = set(words)\n",
        "length_words = len(unique_words)\n",
        "print(unique_words)\n",
        "print(length_words)"
      ],
      "metadata": {
        "colab": {
          "base_uri": "https://localhost:8080/"
        },
        "id": "OsxZ8ElUyPRf",
        "outputId": "e8130667-32e3-4e23-eaba-abbee6c196ec"
      },
      "execution_count": 9,
      "outputs": [
        {
          "output_type": "stream",
          "name": "stdout",
          "text": [
            "{'am', 'AI', 'i', 'and', 'ibtisam', 'name', 'learning', 'Generative', 'is', 'My'}\n",
            "10\n"
          ]
        }
      ]
    },
    {
      "cell_type": "code",
      "source": [],
      "metadata": {
        "id": "R4QYYuHvylJy"
      },
      "execution_count": null,
      "outputs": []
    }
  ],
  "metadata": {
    "colab": {
      "provenance": []
    },
    "kernelspec": {
      "display_name": "Python 3",
      "name": "python3"
    },
    "language_info": {
      "name": "python"
    }
  },
  "nbformat": 4,
  "nbformat_minor": 0
}