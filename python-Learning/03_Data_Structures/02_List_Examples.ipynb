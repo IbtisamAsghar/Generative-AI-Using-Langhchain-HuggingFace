{
  "cells": [
    {
      "cell_type": "markdown",
      "source": [
        "\n",
        "#Real-World Examples Using Lists in Python\n",
        "Lists are one of the most commonly used data structures in Python, thanks to their versatility and ease of use. Here are several practical examples that illustrate their use in real-world scenarios\n",
        "\n",
        "##Example 1. Manage A To Do List\n",
        "- Create a To Do List To Keep Track OF Tasks"
      ],
      "metadata": {
        "id": "FnFjANp3rwZ4"
      }
    },
    {
      "cell_type": "code",
      "source": [
        "todo_list = [\"Playing Soccer\",\"Watching TV\", \"Pay bills\"]\n",
        "\n",
        "#Adding the task in the list\n",
        "todo_list.append(\"buy groccery\")\n",
        "todo_list.append('do excersice')\n",
        "\n",
        "# Removing the completed task\n",
        "todo_list.remove('Watching TV')\n",
        "\n",
        "# Checking the task\n",
        "if \"buy groccery\" in todo_list:\n",
        "  print(\"DO this task\")\n",
        "\n",
        "for task in todo_list:\n",
        "  print(f\"-{task}\")"
      ],
      "metadata": {
        "colab": {
          "base_uri": "https://localhost:8080/"
        },
        "id": "kgLxP_eAs-iT",
        "outputId": "875e6758-4123-4149-ebc8-5e5663cd2a6f"
      },
      "execution_count": 47,
      "outputs": [
        {
          "output_type": "stream",
          "name": "stdout",
          "text": [
            "DO this task\n",
            "-Playing Soccer\n",
            "-Pay bills\n",
            "-buy groccery\n",
            "-do excersice\n"
          ]
        }
      ]
    },
    {
      "cell_type": "markdown",
      "source": [
        "\n",
        "### Example 2: Organizing Student Grades\n",
        "- Create a list to store and calculate average grades for students"
      ],
      "metadata": {
        "id": "owY1cduCtv0c"
      }
    },
    {
      "cell_type": "code",
      "source": [
        "\n",
        "# Organizing student grades\n",
        "grades = [75, 52, 78, 90, 88]\n",
        "\n",
        "# Adding a new grade\n",
        "grades.append(95)\n",
        "\n",
        "# Calculating the average grade\n",
        "average_grade = sum(grades) / len(grades)\n",
        "print(f\"Average Grade: {average_grade:.2f}\")\n",
        "\n",
        "# Finding the highest and lowest grades\n",
        "highest_grade = max(grades)\n",
        "lowest_grade = min(grades)\n",
        "print(f\"Highest Grade: {highest_grade}\")\n",
        "print(f\"Lowest Grade: {lowest_grade}\")"
      ],
      "metadata": {
        "colab": {
          "base_uri": "https://localhost:8080/"
        },
        "id": "kd26P7Fct6o8",
        "outputId": "93b6f437-8abd-40b6-ea86-fc5ae38af3dc"
      },
      "execution_count": 48,
      "outputs": [
        {
          "output_type": "stream",
          "name": "stdout",
          "text": [
            "Average Grade: 79.67\n",
            "Highest Grade: 95\n",
            "Lowest Grade: 52\n"
          ]
        }
      ]
    },
    {
      "cell_type": "markdown",
      "source": [
        "\n",
        "##Example 3: Managing An Inventory\n",
        "- Use a list to manage inventory items in a store"
      ],
      "metadata": {
        "id": "EI82MggMuGoR"
      }
    },
    {
      "cell_type": "code",
      "source": [
        "\n",
        "# Managing an inventory\n",
        "inventory = [\"apples\",\"mangos\",\"kiwi\", \"bananas\", \"oranges\", \"grapes\"]\n",
        "\n",
        "# Adding a new item\n",
        "inventory.append(\"strawberries\")\n",
        "\n",
        "# Removing an item that is out of stock\n",
        "inventory.remove(\"bananas\")\n",
        "\n",
        "# Checking if an item is in stock\n",
        "item = \"oranges\"\n",
        "if item in inventory:\n",
        "    print(f\"{item} are in stock.\")\n",
        "else:\n",
        "    print(f\"{item} are out of stock.\")\n",
        "\n",
        "# Printing the inventory\n",
        "print(\"Inventory List:\")\n",
        "for item in inventory:\n",
        "    print(f\"- {item}\")"
      ],
      "metadata": {
        "colab": {
          "base_uri": "https://localhost:8080/"
        },
        "id": "pK0tKU8XuaPO",
        "outputId": "2955284c-942a-4877-c29e-7f12191093a7"
      },
      "execution_count": 49,
      "outputs": [
        {
          "output_type": "stream",
          "name": "stdout",
          "text": [
            "oranges are in stock.\n",
            "Inventory List:\n",
            "- apples\n",
            "- mangos\n",
            "- kiwi\n",
            "- oranges\n",
            "- grapes\n",
            "- strawberries\n"
          ]
        }
      ]
    },
    {
      "cell_type": "markdown",
      "source": [
        "\n",
        "###Example 4:Collecting User Feedback\n",
        "- Use a list to collect and analyze user feedback."
      ],
      "metadata": {
        "id": "vn8q2wFCuiEV"
      }
    },
    {
      "cell_type": "code",
      "source": [
        "\n",
        "# Collecting user feedback\n",
        "feedback = [\"Great service!\", \"Very satisfied\", \"Could be better\", \"Excellent experience\"]\n",
        "\n",
        "# Adding new feedback\n",
        "feedback.append(\"Not happy with the service\")\n",
        "\n",
        "# Counting specific feedback\n",
        "positive_feedback_count = sum(1 for comment in feedback if \"great\" in comment.lower() or \"excellent\" in comment.lower())\n",
        "print(f\"Positive Feedback Count: {positive_feedback_count}\")\n",
        "\n",
        "# Printing all feedback\n",
        "print(\"User Feedback:\")\n",
        "for comment in feedback:\n",
        "    print(f\"- {comment}\")"
      ],
      "metadata": {
        "colab": {
          "base_uri": "https://localhost:8080/"
        },
        "id": "l8a5BnNNvg9k",
        "outputId": "c40b86f8-5043-42a8-9261-7364d29135bc"
      },
      "execution_count": 50,
      "outputs": [
        {
          "output_type": "stream",
          "name": "stdout",
          "text": [
            "Positive Feedback Count: 2\n",
            "User Feedback:\n",
            "- Great service!\n",
            "- Very satisfied\n",
            "- Could be better\n",
            "- Excellent experience\n",
            "- Not happy with the service\n"
          ]
        }
      ]
    },
    {
      "cell_type": "code",
      "source": [],
      "metadata": {
        "id": "kTJh7jwnvl7F"
      },
      "execution_count": null,
      "outputs": []
    }
  ],
  "metadata": {
    "colab": {
      "provenance": []
    },
    "kernelspec": {
      "display_name": "Python 3",
      "name": "python3"
    },
    "language_info": {
      "name": "python"
    }
  },
  "nbformat": 4,
  "nbformat_minor": 0
}