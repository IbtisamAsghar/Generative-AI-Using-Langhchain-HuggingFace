{
  "cells": [
    {
      "cell_type": "markdown",
      "source": [
        "#Introduction To Lists\n",
        "####Lists are ordered, mutable collections of items.\n",
        "####They can contain items of different data types.\n",
        "\n",
        "1. Introduction to Lists\n",
        "2. Creating Lists\n",
        "3. Accessing List Elements\n",
        "4. Modifying List Elements\n",
        "5. List Methods\n",
        "6. Slicing Lists\n",
        "7. Iterating Over Lists\n",
        "8. List Comprehensions\n",
        "9. Nested Lists\n",
        "10. Practical Examples and Common Errors\n"
      ],
      "metadata": {
        "id": "5eJj8PdXm9_7"
      }
    },
    {
      "cell_type": "code",
      "source": [
        "lst=[]\n",
        "print(type(lst))"
      ],
      "metadata": {
        "colab": {
          "base_uri": "https://localhost:8080/"
        },
        "id": "MqrlWdtPnSbS",
        "outputId": "47063ba1-920b-4fa7-f9ac-95685f5d236d"
      },
      "execution_count": 1,
      "outputs": [
        {
          "output_type": "stream",
          "name": "stdout",
          "text": [
            "<class 'list'>\n"
          ]
        }
      ]
    },
    {
      "cell_type": "code",
      "source": [
        "lst=[\"Ibtisam\",1,2,3,4,5]\n",
        "print(lst)"
      ],
      "metadata": {
        "colab": {
          "base_uri": "https://localhost:8080/"
        },
        "id": "Rj11cTIUnV68",
        "outputId": "bde7e376-c2d0-4e33-caf6-323edda18715"
      },
      "execution_count": 2,
      "outputs": [
        {
          "output_type": "stream",
          "name": "stdout",
          "text": [
            "['Ibtisam', 1, 2, 3, 4, 5]\n"
          ]
        }
      ]
    },
    {
      "cell_type": "code",
      "source": [
        "mixed_list=[1,\"Ibtisam\",22.5,True]\n",
        "print(mixed_list)"
      ],
      "metadata": {
        "colab": {
          "base_uri": "https://localhost:8080/"
        },
        "id": "HSYzk0monaxn",
        "outputId": "0c2c1cd6-c106-4e8c-b3c9-4e0dddfa1385"
      },
      "execution_count": 3,
      "outputs": [
        {
          "output_type": "stream",
          "name": "stdout",
          "text": [
            "[1, 'Ibtisam', 22.5, True]\n"
          ]
        }
      ]
    },
    {
      "cell_type": "code",
      "source": [
        "# Accessing List Elements\n",
        "\n",
        "fruits=[\"apple\",\"Mango\",\"banana\",\"Cherry\",\"Watermelon\",\"kiwi\",\"gauva\"]\n",
        "print(fruits[0])\n",
        "print(fruits[2])\n",
        "print(fruits[5])\n",
        "print(fruits[-1])"
      ],
      "metadata": {
        "colab": {
          "base_uri": "https://localhost:8080/"
        },
        "id": "2OlBcLEPnfrw",
        "outputId": "63822960-5ed9-4e1b-8f4d-24103789e016"
      },
      "execution_count": 4,
      "outputs": [
        {
          "output_type": "stream",
          "name": "stdout",
          "text": [
            "apple\n",
            "banana\n",
            "kiwi\n",
            "gauva\n"
          ]
        }
      ]
    },
    {
      "cell_type": "code",
      "source": [
        "print(fruits[1:])\n",
        "print(fruits[2:])\n",
        "print(fruits[1:3])"
      ],
      "metadata": {
        "colab": {
          "base_uri": "https://localhost:8080/"
        },
        "id": "9ENO0xhznqXY",
        "outputId": "238b1654-438f-45c6-bddb-16f6eecf4438"
      },
      "execution_count": 5,
      "outputs": [
        {
          "output_type": "stream",
          "name": "stdout",
          "text": [
            "['Mango', 'banana', 'Cherry', 'Watermelon', 'kiwi', 'gauva']\n",
            "['banana', 'Cherry', 'Watermelon', 'kiwi', 'gauva']\n",
            "['Mango', 'banana']\n"
          ]
        }
      ]
    },
    {
      "cell_type": "code",
      "source": [
        "# Modifying The List elements\n",
        "fruits[1] = 'Orange'\n",
        "print(fruits)"
      ],
      "metadata": {
        "colab": {
          "base_uri": "https://localhost:8080/"
        },
        "id": "ScH95xcdnt9i",
        "outputId": "5fe63f27-b296-4c0c-9da2-3f4479d77026"
      },
      "execution_count": 6,
      "outputs": [
        {
          "output_type": "stream",
          "name": "stdout",
          "text": [
            "['apple', 'Orange', 'banana', 'Cherry', 'Watermelon', 'kiwi', 'gauva']\n"
          ]
        }
      ]
    },
    {
      "cell_type": "code",
      "source": [
        "fruits[1:]=\"Grappes\"\n",
        "print(fruits)"
      ],
      "metadata": {
        "colab": {
          "base_uri": "https://localhost:8080/"
        },
        "id": "j_kM6NQpofy1",
        "outputId": "5189dd2c-13f9-4d22-e2d7-e7e8de512a65"
      },
      "execution_count": 8,
      "outputs": [
        {
          "output_type": "stream",
          "name": "stdout",
          "text": [
            "['apple', 'G', 'r', 'a', 'p', 'p', 'e', 's']\n"
          ]
        }
      ]
    },
    {
      "cell_type": "code",
      "source": [
        "fruits=[\"apple\",\"Mango\",\"banana\",\"Cherry\",\"Watermelon\",\"kiwi\",\"gauva\"]\n",
        "fruits.append('Orange')\n",
        "print(fruits)"
      ],
      "metadata": {
        "colab": {
          "base_uri": "https://localhost:8080/"
        },
        "id": "QwyDlo2eoh3o",
        "outputId": "d63558b2-dd4c-48fd-d4a8-baf18b70a6d1"
      },
      "execution_count": 9,
      "outputs": [
        {
          "output_type": "stream",
          "name": "stdout",
          "text": [
            "['apple', 'Mango', 'banana', 'Cherry', 'Watermelon', 'kiwi', 'gauva', 'Orange']\n"
          ]
        }
      ]
    },
    {
      "cell_type": "code",
      "source": [
        "fruits.insert(1,'Grappes')\n",
        "print(fruits)"
      ],
      "metadata": {
        "colab": {
          "base_uri": "https://localhost:8080/"
        },
        "id": "CGMn3XERoptJ",
        "outputId": "d18765cb-b2c9-482d-993c-7390646646c3"
      },
      "execution_count": 12,
      "outputs": [
        {
          "output_type": "stream",
          "name": "stdout",
          "text": [
            "['apple', 'Grappes', 'Grappes', 'Mango', 'banana', 'Cherry', 'Watermelon', 'kiwi', 'gauva', 'Orange']\n"
          ]
        }
      ]
    },
    {
      "cell_type": "code",
      "source": [
        "fruits.remove('Grappes')\n",
        "print(fruits)"
      ],
      "metadata": {
        "colab": {
          "base_uri": "https://localhost:8080/"
        },
        "id": "30HUEfdMouQW",
        "outputId": "19637af1-fce1-4d87-8ad1-d5570f39b284"
      },
      "execution_count": 13,
      "outputs": [
        {
          "output_type": "stream",
          "name": "stdout",
          "text": [
            "['apple', 'Grappes', 'Mango', 'banana', 'Cherry', 'Watermelon', 'kiwi', 'gauva', 'Orange']\n"
          ]
        }
      ]
    },
    {
      "cell_type": "code",
      "source": [
        "# Removing and resturning the last element\n",
        "last_element = fruits.pop()\n",
        "print(last_element)\n",
        "print(fruits)"
      ],
      "metadata": {
        "colab": {
          "base_uri": "https://localhost:8080/"
        },
        "id": "ZoWqHSlEo7wR",
        "outputId": "7b554df0-2179-424d-e207-5407d60e6511"
      },
      "execution_count": 14,
      "outputs": [
        {
          "output_type": "stream",
          "name": "stdout",
          "text": [
            "Orange\n",
            "['apple', 'Grappes', 'Mango', 'banana', 'Cherry', 'Watermelon', 'kiwi', 'gauva']\n"
          ]
        }
      ]
    },
    {
      "cell_type": "code",
      "source": [
        "# Checking the index of the item\n",
        "index = fruits.index(\"banana\")\n",
        "print(index)"
      ],
      "metadata": {
        "colab": {
          "base_uri": "https://localhost:8080/"
        },
        "id": "GKqOMCt6pFsQ",
        "outputId": "600e3408-2663-4657-fbd2-bd935b33dff7"
      },
      "execution_count": 15,
      "outputs": [
        {
          "output_type": "stream",
          "name": "stdout",
          "text": [
            "3\n"
          ]
        }
      ]
    },
    {
      "cell_type": "code",
      "source": [
        "fruits.append('apple')\n",
        "print(fruits.count('apple'))"
      ],
      "metadata": {
        "colab": {
          "base_uri": "https://localhost:8080/"
        },
        "id": "rAKeolkvpTTH",
        "outputId": "a66410aa-e032-4ed5-e46b-bbef7ce655fb"
      },
      "execution_count": 16,
      "outputs": [
        {
          "output_type": "stream",
          "name": "stdout",
          "text": [
            "2\n"
          ]
        }
      ]
    },
    {
      "cell_type": "code",
      "source": [
        "fruits.remove('apple')"
      ],
      "metadata": {
        "id": "DBlofSI2pv0E"
      },
      "execution_count": 24,
      "outputs": []
    },
    {
      "cell_type": "code",
      "source": [
        "fruits=[\"apple\",\"mango\",\"banana\",\"Cherry\",\"watermelon\",\"kiwi\",\"gauva\"]\n",
        "fruits.sort(key=str.lower)\n",
        "fruits"
      ],
      "metadata": {
        "colab": {
          "base_uri": "https://localhost:8080/"
        },
        "id": "sE0chl7Bplf9",
        "outputId": "725f1720-4a45-4b4a-a45c-40ad5c09e7d4"
      },
      "execution_count": 34,
      "outputs": [
        {
          "output_type": "execute_result",
          "data": {
            "text/plain": [
              "['apple', 'banana', 'Cherry', 'gauva', 'kiwi', 'mango', 'watermelon']"
            ]
          },
          "metadata": {},
          "execution_count": 34
        }
      ]
    },
    {
      "cell_type": "code",
      "source": [
        "fruits.reverse()\n",
        "fruits"
      ],
      "metadata": {
        "colab": {
          "base_uri": "https://localhost:8080/"
        },
        "id": "IcfDb5Jgp4QZ",
        "outputId": "153d6fea-6762-475e-8deb-1f95872efbe4"
      },
      "execution_count": 35,
      "outputs": [
        {
          "output_type": "execute_result",
          "data": {
            "text/plain": [
              "['watermelon', 'mango', 'kiwi', 'gauva', 'Cherry', 'banana', 'apple']"
            ]
          },
          "metadata": {},
          "execution_count": 35
        }
      ]
    },
    {
      "cell_type": "code",
      "source": [
        "fruits.clear()\n",
        "fruits"
      ],
      "metadata": {
        "colab": {
          "base_uri": "https://localhost:8080/"
        },
        "id": "xbNFXdXEqOaS",
        "outputId": "f9b6fcfb-85e0-4fbd-def3-0558a149f823"
      },
      "execution_count": 36,
      "outputs": [
        {
          "output_type": "execute_result",
          "data": {
            "text/plain": [
              "[]"
            ]
          },
          "metadata": {},
          "execution_count": 36
        }
      ]
    },
    {
      "cell_type": "code",
      "source": [
        "# Slicing List\n",
        "numbers = [1, 2, 3, 4, 5, 6, 7, 8, 9, 10]\n",
        "print(numbers[2:5])\n",
        "print(numbers[:5])\n",
        "print(numbers[5:])\n",
        "print(numbers[::2])\n",
        "print(numbers[::-1])"
      ],
      "metadata": {
        "colab": {
          "base_uri": "https://localhost:8080/"
        },
        "id": "66BAlHy2rIgu",
        "outputId": "d90f2375-f89e-435d-95c3-3a9fce2956aa"
      },
      "execution_count": 37,
      "outputs": [
        {
          "output_type": "stream",
          "name": "stdout",
          "text": [
            "[3, 4, 5]\n",
            "[1, 2, 3, 4, 5]\n",
            "[6, 7, 8, 9, 10]\n",
            "[1, 3, 5, 7, 9]\n",
            "[10, 9, 8, 7, 6, 5, 4, 3, 2, 1]\n"
          ]
        }
      ]
    },
    {
      "cell_type": "code",
      "source": [
        "numbers[::-2]"
      ],
      "metadata": {
        "colab": {
          "base_uri": "https://localhost:8080/"
        },
        "id": "K4308FJsrL6C",
        "outputId": "39e764ba-efe7-4ed8-b910-9533f8639d20"
      },
      "execution_count": 38,
      "outputs": [
        {
          "output_type": "execute_result",
          "data": {
            "text/plain": [
              "[10, 8, 6, 4, 2]"
            ]
          },
          "metadata": {},
          "execution_count": 38
        }
      ]
    },
    {
      "cell_type": "code",
      "source": [
        "# Iterating Over List\n",
        "\n",
        "for number in numbers:\n",
        "    print(number)"
      ],
      "metadata": {
        "colab": {
          "base_uri": "https://localhost:8080/"
        },
        "id": "21DByNCHrNh4",
        "outputId": "799ebeeb-b296-4a86-c669-853163f12108"
      },
      "execution_count": 39,
      "outputs": [
        {
          "output_type": "stream",
          "name": "stdout",
          "text": [
            "1\n",
            "2\n",
            "3\n",
            "4\n",
            "5\n",
            "6\n",
            "7\n",
            "8\n",
            "9\n",
            "10\n"
          ]
        }
      ]
    },
    {
      "cell_type": "code",
      "source": [
        "# Iterating with index\n",
        "for index,number in enumerate(numbers):\n",
        "    print(index,number)"
      ],
      "metadata": {
        "colab": {
          "base_uri": "https://localhost:8080/"
        },
        "id": "tKp9ixEWrO-g",
        "outputId": "14a13ce6-f60c-4558-d4f1-458f78794096"
      },
      "execution_count": 40,
      "outputs": [
        {
          "output_type": "stream",
          "name": "stdout",
          "text": [
            "0 1\n",
            "1 2\n",
            "2 3\n",
            "3 4\n",
            "4 5\n",
            "5 6\n",
            "6 7\n",
            "7 8\n",
            "8 9\n",
            "9 10\n"
          ]
        }
      ]
    },
    {
      "cell_type": "code",
      "source": [
        "[x**2 for x in range(10)]"
      ],
      "metadata": {
        "colab": {
          "base_uri": "https://localhost:8080/"
        },
        "id": "Ba3sr36nrQ0o",
        "outputId": "e1d6a894-b544-450f-fe42-19261e05b6cf"
      },
      "execution_count": 41,
      "outputs": [
        {
          "output_type": "execute_result",
          "data": {
            "text/plain": [
              "[0, 1, 4, 9, 16, 25, 36, 49, 64, 81]"
            ]
          },
          "metadata": {},
          "execution_count": 41
        }
      ]
    },
    {
      "cell_type": "code",
      "source": [
        "# Basic List Comphrension\n",
        "\n",
        "sqaure=[num**2 for num in range(10)]\n",
        "print(sqaure)"
      ],
      "metadata": {
        "colab": {
          "base_uri": "https://localhost:8080/"
        },
        "id": "9vBORJMxrSnM",
        "outputId": "21af2f84-81d8-4c18-fdd9-82d195f75fed"
      },
      "execution_count": 42,
      "outputs": [
        {
          "output_type": "stream",
          "name": "stdout",
          "text": [
            "[0, 1, 4, 9, 16, 25, 36, 49, 64, 81]\n"
          ]
        }
      ]
    },
    {
      "cell_type": "code",
      "source": [
        "# List Comprehension with Condition\n",
        "lst=[]\n",
        "for i in range(10):\n",
        "    if i%2==0:\n",
        "        lst.append(i)\n",
        "\n",
        "print(lst)\n",
        ""
      ],
      "metadata": {
        "colab": {
          "base_uri": "https://localhost:8080/"
        },
        "id": "lGlkHIwGrUYC",
        "outputId": "770cab4b-4c72-4788-9f5e-5604b0af730b"
      },
      "execution_count": 43,
      "outputs": [
        {
          "output_type": "stream",
          "name": "stdout",
          "text": [
            "[0, 2, 4, 6, 8]\n"
          ]
        }
      ]
    },
    {
      "cell_type": "code",
      "source": [
        "even_numbers=[num for num in range(10) if num%2==0]\n",
        "print(even_numbers)"
      ],
      "metadata": {
        "colab": {
          "base_uri": "https://localhost:8080/"
        },
        "id": "vFk92olWrXL0",
        "outputId": "af89662a-72c9-4149-a28f-828b7455603b"
      },
      "execution_count": 44,
      "outputs": [
        {
          "output_type": "stream",
          "name": "stdout",
          "text": [
            "[0, 2, 4, 6, 8]\n"
          ]
        }
      ]
    },
    {
      "cell_type": "code",
      "source": [
        "lst1=[1,2,3,4]\n",
        "lst2=['a','b','c','d']\n",
        "\n",
        "pair=[[i,j] for i in lst1 for j in lst2]\n",
        "\n",
        "print(pair)"
      ],
      "metadata": {
        "colab": {
          "base_uri": "https://localhost:8080/"
        },
        "id": "1GmOUszKreA6",
        "outputId": "8829dcea-1e6f-408e-c32d-0f5ce453f6f0"
      },
      "execution_count": 45,
      "outputs": [
        {
          "output_type": "stream",
          "name": "stdout",
          "text": [
            "[[1, 'a'], [1, 'b'], [1, 'c'], [1, 'd'], [2, 'a'], [2, 'b'], [2, 'c'], [2, 'd'], [3, 'a'], [3, 'b'], [3, 'c'], [3, 'd'], [4, 'a'], [4, 'b'], [4, 'c'], [4, 'd']]\n"
          ]
        }
      ]
    },
    {
      "cell_type": "code",
      "source": [
        "# List Comprehension with function calls\n",
        "words = [\"hello\", \"world\", \"python\", \"list\", \"comprehension\"]\n",
        "lengths = [len(word) for word in words]\n",
        "print(lengths)"
      ],
      "metadata": {
        "colab": {
          "base_uri": "https://localhost:8080/"
        },
        "id": "7GB2avehrqcA",
        "outputId": "b8a32c23-22ac-4216-be16-c8cc7c5e0215"
      },
      "execution_count": 46,
      "outputs": [
        {
          "output_type": "stream",
          "name": "stdout",
          "text": [
            "[5, 5, 6, 4, 13]\n"
          ]
        }
      ]
    },
    {
      "cell_type": "code",
      "source": [],
      "metadata": {
        "id": "FnFjANp3rwZ4"
      },
      "execution_count": null,
      "outputs": []
    }
  ],
  "metadata": {
    "colab": {
      "provenance": []
    },
    "kernelspec": {
      "display_name": "Python 3",
      "name": "python3"
    },
    "language_info": {
      "name": "python"
    }
  },
  "nbformat": 4,
  "nbformat_minor": 0
}