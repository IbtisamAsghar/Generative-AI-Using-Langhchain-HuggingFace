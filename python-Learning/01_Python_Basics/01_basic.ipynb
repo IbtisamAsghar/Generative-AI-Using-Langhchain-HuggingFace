{
  "nbformat": 4,
  "nbformat_minor": 0,
  "metadata": {
    "colab": {
      "provenance": []
    },
    "kernelspec": {
      "name": "python3",
      "display_name": "Python 3"
    },
    "language_info": {
      "name": "python"
    }
  },
  "cells": [
    {
      "cell_type": "markdown",
      "source": [
        "\n",
        "## Syntax and Semantics in Python\n",
        "Video Outline:\n",
        "\n",
        "- Single line Comments and multiline comments\n",
        "- Definition of Syntax and Semantics\n",
        "- Basic Syntax Rules in Python\n",
        "- Understanding Semantics in Python\n",
        "- Common Syntax Errors and How to Avoid Them\n",
        "- Practical Code Examples\n",
        "\n",
        "Syntax refers to the set of rules that defines the combinations of symbols that are considered to be correctly structured programs in a language. In simpler terms, syntax is about the correct arrangement of words and symbols in a code.\n",
        "\n",
        "Semantics refers to the meaning or the interpretation of the symbols, characters, and commands in a language. It is about what the code is supposed to do when it runs."
      ],
      "metadata": {
        "id": "EqSZaOTWITHy"
      }
    },
    {
      "cell_type": "code",
      "source": [
        "# python is case sensitive\n",
        "\n",
        "name = \"Ibtisam\"\n",
        "Name = \"Asghar\"\n",
        "\n",
        "print(name)\n",
        "print(Name)"
      ],
      "metadata": {
        "colab": {
          "base_uri": "https://localhost:8080/"
        },
        "id": "9s8qpfX3IwbA",
        "outputId": "16b10304-bb12-421e-a768-749db0b8fba9"
      },
      "execution_count": 1,
      "outputs": [
        {
          "output_type": "stream",
          "name": "stdout",
          "text": [
            "Ibtisam\n",
            "Asghar\n"
          ]
        }
      ]
    },
    {
      "cell_type": "markdown",
      "source": [
        "\n",
        "# Indentation\n",
        "Indentation in Python is used to define the structure and hierarchy of the code. Unlike many other programming languages that use braces {} to delimit blocks of code, Python uses indentation to determine the grouping of statements. This means that all the statements within a block must be indented at the same level."
      ],
      "metadata": {
        "id": "DV6rLHSCIw7Q"
      }
    },
    {
      "cell_type": "code",
      "source": [
        "age = 23\n",
        "if age > 30 :\n",
        "  print(age)\n",
        "\n",
        "print(age)"
      ],
      "metadata": {
        "colab": {
          "base_uri": "https://localhost:8080/"
        },
        "id": "vqnRIjcnI1BQ",
        "outputId": "171e7d5c-c01f-4ddc-d6dc-a006b9ba2460"
      },
      "execution_count": 2,
      "outputs": [
        {
          "output_type": "stream",
          "name": "stdout",
          "text": [
            "23\n"
          ]
        }
      ]
    },
    {
      "cell_type": "code",
      "source": [
        "## This is the single lino comment\n",
        "print(\"GenAI Learning Starts\")"
      ],
      "metadata": {
        "colab": {
          "base_uri": "https://localhost:8080/"
        },
        "id": "K1RfOrbLI6Ny",
        "outputId": "b87e83d8-588f-4bf1-fcf2-39a031180068"
      },
      "execution_count": 3,
      "outputs": [
        {
          "output_type": "stream",
          "name": "stdout",
          "text": [
            "GenAI Learning Starts\n"
          ]
        }
      ]
    },
    {
      "cell_type": "code",
      "source": [
        "\n",
        "## Line Continuation\n",
        "##Use a backslash (\\) to continue a statement to the next line\n",
        "\n",
        "sum = 1 + 2 + 3 +\\\n",
        "      4 + 5+\\\n",
        "      6\n",
        "print(sum)"
      ],
      "metadata": {
        "colab": {
          "base_uri": "https://localhost:8080/"
        },
        "id": "MN4Hh3bTJDjb",
        "outputId": "b36ed951-4f12-47b7-ca51-593804c4b2e8"
      },
      "execution_count": 6,
      "outputs": [
        {
          "output_type": "stream",
          "name": "stdout",
          "text": [
            "21\n"
          ]
        }
      ]
    },
    {
      "cell_type": "code",
      "source": [
        "## Multiple Statements on a single line\n",
        "\n",
        "x = 5 ; y = 6 ; sum = x + y\n",
        "print(sum)"
      ],
      "metadata": {
        "colab": {
          "base_uri": "https://localhost:8080/"
        },
        "id": "IhufvsknJP4P",
        "outputId": "92b6cead-251b-4843-cd2a-69cd45cc0ff3"
      },
      "execution_count": 8,
      "outputs": [
        {
          "output_type": "stream",
          "name": "stdout",
          "text": [
            "11\n"
          ]
        }
      ]
    },
    {
      "cell_type": "code",
      "source": [
        "\n",
        "##Understand  Semnatics In Python\n",
        "# variable assignment\n",
        "age = 22 # age is an integer\n",
        "name = \"Ibtisam\" # name is string\n",
        "\n",
        "type(age) , type(name)"
      ],
      "metadata": {
        "colab": {
          "base_uri": "https://localhost:8080/"
        },
        "id": "OQFAMzC2JcMU",
        "outputId": "01c5647b-7467-4302-a789-21f35424f561"
      },
      "execution_count": 9,
      "outputs": [
        {
          "output_type": "execute_result",
          "data": {
            "text/plain": [
              "(int, str)"
            ]
          },
          "metadata": {},
          "execution_count": 9
        }
      ]
    },
    {
      "cell_type": "code",
      "source": [
        "variable = 21\n",
        "print(type(variable))\n",
        "variable = \"Ibtisam\"\n",
        "print(type(variable))"
      ],
      "metadata": {
        "colab": {
          "base_uri": "https://localhost:8080/"
        },
        "id": "ZNearvAZJtnO",
        "outputId": "f139d096-c700-4feb-b7a6-a33e7fef3292"
      },
      "execution_count": 10,
      "outputs": [
        {
          "output_type": "stream",
          "name": "stdout",
          "text": [
            "<class 'int'>\n",
            "<class 'str'>\n"
          ]
        }
      ]
    },
    {
      "cell_type": "code",
      "source": [
        "# name error\n",
        "a = b"
      ],
      "metadata": {
        "colab": {
          "base_uri": "https://localhost:8080/",
          "height": 159
        },
        "id": "aL9h-Z12J-bs",
        "outputId": "f421d18c-fa88-4a6e-a697-7c5b5c56e093"
      },
      "execution_count": 11,
      "outputs": [
        {
          "output_type": "error",
          "ename": "NameError",
          "evalue": "name 'b' is not defined",
          "traceback": [
            "\u001b[0;31m---------------------------------------------------------------------------\u001b[0m",
            "\u001b[0;31mNameError\u001b[0m                                 Traceback (most recent call last)",
            "\u001b[0;32m<ipython-input-11-713b2888972b>\u001b[0m in \u001b[0;36m<cell line: 0>\u001b[0;34m()\u001b[0m\n\u001b[1;32m      1\u001b[0m \u001b[0;31m# name error\u001b[0m\u001b[0;34m\u001b[0m\u001b[0;34m\u001b[0m\u001b[0m\n\u001b[0;32m----> 2\u001b[0;31m \u001b[0ma\u001b[0m \u001b[0;34m=\u001b[0m \u001b[0mb\u001b[0m\u001b[0;34m\u001b[0m\u001b[0;34m\u001b[0m\u001b[0m\n\u001b[0m",
            "\u001b[0;31mNameError\u001b[0m: name 'b' is not defined"
          ]
        }
      ]
    },
    {
      "cell_type": "code",
      "source": [
        "# code example for the intendation\n",
        "if True :\n",
        "  print(\"Intendation is correct\")\n",
        "  if False :\n",
        "    print(\"will not output\")\n",
        "\n",
        "  print(\"This will ouput\")\n",
        "print(\"hello output\")"
      ],
      "metadata": {
        "colab": {
          "base_uri": "https://localhost:8080/"
        },
        "id": "Cll7R76YKQKY",
        "outputId": "d0f2138d-ed5f-48c4-f2d6-fcd5b512cd8e"
      },
      "execution_count": 12,
      "outputs": [
        {
          "output_type": "stream",
          "name": "stdout",
          "text": [
            "Intendation is correct\n",
            "This will ouput\n",
            "hello output\n"
          ]
        }
      ]
    },
    {
      "cell_type": "markdown",
      "source": [
        "\n",
        "# Conclusion:\n",
        "Understanding the syntax and semantics of Python is crucial for writing correct and meaningful programs. Syntax ensures the code is properly structured, while semantics ensures the code behaves as expected. Mastering these concepts will help in writing efficient and error-free Python code."
      ],
      "metadata": {
        "id": "UjLxKgLAKz22"
      }
    },
    {
      "cell_type": "code",
      "source": [],
      "metadata": {
        "id": "Hgh-nLQyK487"
      },
      "execution_count": null,
      "outputs": []
    }
  ]
}