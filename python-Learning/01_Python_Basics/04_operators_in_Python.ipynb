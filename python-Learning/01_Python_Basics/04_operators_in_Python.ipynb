{
  "nbformat": 4,
  "nbformat_minor": 0,
  "metadata": {
    "colab": {
      "provenance": []
    },
    "kernelspec": {
      "name": "python3",
      "display_name": "Python 3"
    },
    "language_info": {
      "name": "python"
    }
  },
  "cells": [
    {
      "cell_type": "markdown",
      "source": [
        "# Deep Dive into Operators\n",
        "\n",
        "  1. Introduction to Operators\n",
        "  2. Arithmetic Operators\n",
        "        - Addition\n",
        "        - Subtraction\n",
        "        - Multiplication\n",
        "        - Division\n",
        "        - Floor Division\n",
        "        - Modulus\n",
        "        - Exponentiation\n",
        "  3. Comparison Operators\n",
        "        - Equal to\n",
        "        - Not equal to\n",
        "        - Greater than\n",
        "        - Less than\n",
        "        - Greater than or equal to\n",
        "        - Less than or equal to\n",
        "  4. Logical Operators\n",
        "        - AND\n",
        "        - OR\n",
        "        - NOT\n",
        "  5. Practical Examples and Common Errors"
      ],
      "metadata": {
        "id": "LNs2DrHn_eZ4"
      }
    },
    {
      "cell_type": "code",
      "source": [
        "# Arithmetic operation\n",
        "a=10\n",
        "b = 10\n",
        "\n",
        "add_result=a+b  #addiiton\n",
        "sub_result=a-b  #substraction\n",
        "mult_result=a*b #multiplication\n",
        "div_result=a/b  #division\n",
        "floor_div_result=a//b ## floor division\n",
        "modulus_result=a%b #modulus operation\n",
        "\n",
        "exponent_result=a**b ## Exponentiation\n",
        "\n",
        "\n",
        "print(add_result)\n",
        "print(sub_result)\n",
        "print(mult_result)\n",
        "print(div_result)\n",
        "print(floor_div_result)\n",
        "print(modulus_result)\n",
        "print(exponent_result)"
      ],
      "metadata": {
        "colab": {
          "base_uri": "https://localhost:8080/"
        },
        "id": "frIXFLHrAApT",
        "outputId": "6dbdadea-62a4-4c3e-bcb1-d3a65ad96803"
      },
      "execution_count": 10,
      "outputs": [
        {
          "output_type": "stream",
          "name": "stdout",
          "text": [
            "20\n",
            "0\n",
            "100\n",
            "1.0\n",
            "1\n",
            "0\n",
            "10000000000\n"
          ]
        }
      ]
    },
    {
      "cell_type": "code",
      "source": [
        "10//2"
      ],
      "metadata": {
        "colab": {
          "base_uri": "https://localhost:8080/"
        },
        "id": "G2rWWQBRAIdS",
        "outputId": "1a560802-b4b5-4caa-a968-279e783bb7f2"
      },
      "execution_count": 14,
      "outputs": [
        {
          "output_type": "execute_result",
          "data": {
            "text/plain": [
              "5"
            ]
          },
          "metadata": {},
          "execution_count": 14
        }
      ]
    },
    {
      "cell_type": "code",
      "source": [
        "21/2"
      ],
      "metadata": {
        "colab": {
          "base_uri": "https://localhost:8080/"
        },
        "id": "KEScWlnqALOc",
        "outputId": "5c039d5c-a0ab-4ed1-b0a8-2b8003db6ff7"
      },
      "execution_count": 12,
      "outputs": [
        {
          "output_type": "execute_result",
          "data": {
            "text/plain": [
              "10.5"
            ]
          },
          "metadata": {},
          "execution_count": 12
        }
      ]
    },
    {
      "cell_type": "code",
      "source": [
        "21//7"
      ],
      "metadata": {
        "colab": {
          "base_uri": "https://localhost:8080/"
        },
        "id": "uf0S-6j4AMj1",
        "outputId": "272d3008-b0a8-4e6b-8e41-a8c6ab5cc618"
      },
      "execution_count": 13,
      "outputs": [
        {
          "output_type": "execute_result",
          "data": {
            "text/plain": [
              "3"
            ]
          },
          "metadata": {},
          "execution_count": 13
        }
      ]
    },
    {
      "cell_type": "markdown",
      "source": [
        "# Comparison Operators"
      ],
      "metadata": {
        "id": "9l-YcxbeAPVu"
      }
    },
    {
      "cell_type": "code",
      "source": [
        "# Comparison Operators\n",
        "# == Equal to\n",
        "a=10\n",
        "b=10\n",
        "\n",
        "a==b"
      ],
      "metadata": {
        "colab": {
          "base_uri": "https://localhost:8080/"
        },
        "id": "Ssq39RzLAU9D",
        "outputId": "65c16401-6c10-483a-82a9-05db4185e0e0"
      },
      "execution_count": 16,
      "outputs": [
        {
          "output_type": "execute_result",
          "data": {
            "text/plain": [
              "True"
            ]
          },
          "metadata": {},
          "execution_count": 16
        }
      ]
    },
    {
      "cell_type": "code",
      "source": [
        "\n",
        "str1=\"Ibtisam\"\n",
        "str2=\"Ibtisam\"\n",
        "\n",
        "str1==str2"
      ],
      "metadata": {
        "colab": {
          "base_uri": "https://localhost:8080/"
        },
        "id": "6oOehDFMAYj1",
        "outputId": "ce03cba6-dfab-4d52-9e45-93a3b832030c"
      },
      "execution_count": 17,
      "outputs": [
        {
          "output_type": "execute_result",
          "data": {
            "text/plain": [
              "True"
            ]
          },
          "metadata": {},
          "execution_count": 17
        }
      ]
    },
    {
      "cell_type": "code",
      "source": [
        "str1 != str2"
      ],
      "metadata": {
        "colab": {
          "base_uri": "https://localhost:8080/"
        },
        "id": "Z0DySjaEAc_9",
        "outputId": "e291f6c0-f6ad-4104-8fc0-3581fa89d0c9"
      },
      "execution_count": 18,
      "outputs": [
        {
          "output_type": "execute_result",
          "data": {
            "text/plain": [
              "False"
            ]
          },
          "metadata": {},
          "execution_count": 18
        }
      ]
    },
    {
      "cell_type": "code",
      "source": [
        "\n",
        "str3=\"Ibtisam\"\n",
        "str4=\"ibtisam\"\n",
        "\n",
        "str3!=str4"
      ],
      "metadata": {
        "colab": {
          "base_uri": "https://localhost:8080/"
        },
        "id": "swnKbsdqAgWy",
        "outputId": "25a3f8a0-9f40-42ef-fdc4-29e0d7ed5268"
      },
      "execution_count": 19,
      "outputs": [
        {
          "output_type": "execute_result",
          "data": {
            "text/plain": [
              "True"
            ]
          },
          "metadata": {},
          "execution_count": 19
        }
      ]
    },
    {
      "cell_type": "code",
      "source": [
        "# greater than >\n",
        "\n",
        "num1=45\n",
        "num2=55\n",
        "\n",
        "num1>num2"
      ],
      "metadata": {
        "colab": {
          "base_uri": "https://localhost:8080/"
        },
        "id": "GCYKtJl2AmfQ",
        "outputId": "0c0a3b9b-d58e-447a-f325-def89a4e5282"
      },
      "execution_count": 20,
      "outputs": [
        {
          "output_type": "execute_result",
          "data": {
            "text/plain": [
              "False"
            ]
          },
          "metadata": {},
          "execution_count": 20
        }
      ]
    },
    {
      "cell_type": "code",
      "source": [
        "print(num1<num2)"
      ],
      "metadata": {
        "colab": {
          "base_uri": "https://localhost:8080/"
        },
        "id": "Nt1fGwctAoJV",
        "outputId": "1ccc7b23-97a4-4981-f8c1-d81e68a760d6"
      },
      "execution_count": 21,
      "outputs": [
        {
          "output_type": "stream",
          "name": "stdout",
          "text": [
            "True\n"
          ]
        }
      ]
    },
    {
      "cell_type": "markdown",
      "source": [
        "# Logical Operators"
      ],
      "metadata": {
        "id": "h2bQPPw0AtQ2"
      }
    },
    {
      "cell_type": "code",
      "source": [
        "X = True\n",
        "y = True\n",
        "\n",
        "result = X and y\n",
        "print(result)"
      ],
      "metadata": {
        "colab": {
          "base_uri": "https://localhost:8080/"
        },
        "id": "A680zJhEAyC-",
        "outputId": "5dc6d238-7662-43dc-f27e-bdef43926b56"
      },
      "execution_count": 23,
      "outputs": [
        {
          "output_type": "stream",
          "name": "stdout",
          "text": [
            "True\n"
          ]
        }
      ]
    },
    {
      "cell_type": "code",
      "source": [
        "\n",
        "X=False\n",
        "Y=True\n",
        "\n",
        "result =X and Y\n",
        "print(result)"
      ],
      "metadata": {
        "colab": {
          "base_uri": "https://localhost:8080/"
        },
        "id": "nmvciUsoBWbx",
        "outputId": "b7a2a5a0-5f65-4e85-ccb2-2bcc426ca374"
      },
      "execution_count": 24,
      "outputs": [
        {
          "output_type": "stream",
          "name": "stdout",
          "text": [
            "False\n"
          ]
        }
      ]
    },
    {
      "cell_type": "code",
      "source": [
        "# OR\n",
        "X=False\n",
        "Y=False\n",
        "\n",
        "result =X or Y\n",
        "print(result)"
      ],
      "metadata": {
        "colab": {
          "base_uri": "https://localhost:8080/"
        },
        "id": "TPkK4M2_BYVX",
        "outputId": "5ee3b281-b6fd-4b1e-d440-b448d74dfc0f"
      },
      "execution_count": 25,
      "outputs": [
        {
          "output_type": "stream",
          "name": "stdout",
          "text": [
            "False\n"
          ]
        }
      ]
    },
    {
      "cell_type": "code",
      "source": [
        "# Not operator\n",
        "X=False\n",
        "not X"
      ],
      "metadata": {
        "colab": {
          "base_uri": "https://localhost:8080/"
        },
        "id": "iB9N0AAuBdkB",
        "outputId": "1309af03-6e23-41b2-cd98-703a4fd58876"
      },
      "execution_count": 26,
      "outputs": [
        {
          "output_type": "execute_result",
          "data": {
            "text/plain": [
              "True"
            ]
          },
          "metadata": {},
          "execution_count": 26
        }
      ]
    },
    {
      "cell_type": "code",
      "source": [
        "# Simple calculator\n",
        "num1 = float(input(\"Enter first number: \"))\n",
        "num2 = float(input(\"Enter second number: \"))\n",
        "\n",
        "# Performing arithmetic operations\n",
        "addition = num1 + num2\n",
        "subtraction = num1 - num2\n",
        "multiplication = num1 * num2\n",
        "division = num1 / num2\n",
        "floor_division = num1 // num2\n",
        "modulus = num1 % num2\n",
        "exponentiation = num1 ** num2\n",
        "\n",
        "# Displaying results\n",
        "print(\"Addition:\", addition)\n",
        "print(\"Subtraction:\", subtraction)\n",
        "print(\"Multiplication:\", multiplication)\n",
        "print(\"Division:\", division)\n",
        "print(\"Floor Division:\", floor_division)\n",
        "print(\"Modulus:\", modulus)\n",
        "print(\"Exponentiation:\", exponentiation)"
      ],
      "metadata": {
        "colab": {
          "base_uri": "https://localhost:8080/"
        },
        "id": "oMUrFd9fBfNX",
        "outputId": "456d8199-e1c7-483e-a6f9-bc6de5757ddb"
      },
      "execution_count": 27,
      "outputs": [
        {
          "output_type": "stream",
          "name": "stdout",
          "text": [
            "Enter first number: 21\n",
            "Enter second number: 7\n",
            "Addition: 28.0\n",
            "Subtraction: 14.0\n",
            "Multiplication: 147.0\n",
            "Division: 3.0\n",
            "Floor Division: 3.0\n",
            "Modulus: 0.0\n",
            "Exponentiation: 1801088541.0\n"
          ]
        }
      ]
    },
    {
      "cell_type": "code",
      "source": [],
      "metadata": {
        "id": "9dRpjT8fCWBv"
      },
      "execution_count": null,
      "outputs": []
    }
  ]
}