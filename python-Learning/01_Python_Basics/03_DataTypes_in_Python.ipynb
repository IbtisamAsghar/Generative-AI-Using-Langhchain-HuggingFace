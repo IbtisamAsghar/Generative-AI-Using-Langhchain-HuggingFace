{
  "nbformat": 4,
  "nbformat_minor": 0,
  "metadata": {
    "colab": {
      "provenance": []
    },
    "kernelspec": {
      "name": "python3",
      "display_name": "Python 3"
    },
    "language_info": {
      "name": "python"
    }
  },
  "cells": [
    {
      "cell_type": "markdown",
      "source": [
        "#DataTypes\n",
        "1. Definition:\n",
        "- Data types are a classification of data which tell the compiler or interpreter how the programmer intends to use the data.\n",
        "- They determine the type of operations that can be performed on the data, the values that the data can take, and the amount of memory needed to store the data.\n",
        "2. Importance of Data Types in Programming\n",
        "Explanation:\n",
        "\n",
        "- Data types ensure that data is stored in an efficient way.\n",
        "- They help in performing correct operations on data.\n",
        "- Proper use of data types can prevent errors and bugs in the program.\n",
        "\n",
        "\n",
        "1. Introduction to Data Types\n",
        "2. Importance of Data Types in Programming\n",
        "3. Basic Data Types\n",
        "  - Integers\n",
        "  - Floating-point numbers\n",
        "  - Strings\n",
        "  - Booleans\n",
        "4. Advanced Data Types\n",
        "  - Lists\n",
        "  - Tuples\n",
        "  - Sets\n",
        "  - Dictionaries\n",
        "5. Type Conversion\n",
        "6. Practical Examples"
      ],
      "metadata": {
        "id": "GxOImns79Trw"
      }
    },
    {
      "cell_type": "code",
      "source": [
        "# integer example\n",
        "age = 22\n",
        "type(age)"
      ],
      "metadata": {
        "colab": {
          "base_uri": "https://localhost:8080/"
        },
        "id": "vKeyns-n9TPQ",
        "outputId": "2a1d95f0-ee71-4b53-9be3-538b70dc42e9"
      },
      "execution_count": 3,
      "outputs": [
        {
          "output_type": "execute_result",
          "data": {
            "text/plain": [
              "int"
            ]
          },
          "metadata": {},
          "execution_count": 3
        }
      ]
    },
    {
      "cell_type": "code",
      "source": [
        "\n",
        "# floating point datatype\n",
        "height=5.89\n",
        "print(height)\n",
        "print(type(height))"
      ],
      "metadata": {
        "colab": {
          "base_uri": "https://localhost:8080/"
        },
        "id": "PajwQOZ59-F6",
        "outputId": "a07d1457-86d3-4bc5-87a1-d4f11b2e8f97"
      },
      "execution_count": 5,
      "outputs": [
        {
          "output_type": "stream",
          "name": "stdout",
          "text": [
            "5.89\n",
            "<class 'float'>\n"
          ]
        }
      ]
    },
    {
      "cell_type": "code",
      "source": [
        "# boolean datatype\n",
        "is_true=True\n",
        "type(is_true)"
      ],
      "metadata": {
        "colab": {
          "base_uri": "https://localhost:8080/"
        },
        "id": "RApElrcf-B-4",
        "outputId": "d546b77d-159a-4178-feaa-ac18de51e9da"
      },
      "execution_count": 6,
      "outputs": [
        {
          "output_type": "execute_result",
          "data": {
            "text/plain": [
              "bool"
            ]
          },
          "metadata": {},
          "execution_count": 6
        }
      ]
    },
    {
      "cell_type": "code",
      "source": [
        "\n",
        "a=10\n",
        "b=10\n",
        "\n",
        "type(a==b)"
      ],
      "metadata": {
        "colab": {
          "base_uri": "https://localhost:8080/"
        },
        "id": "Tv7qZwrd-IF0",
        "outputId": "fb0a08a6-afff-4347-9bc0-df4bc70afd93"
      },
      "execution_count": 7,
      "outputs": [
        {
          "output_type": "execute_result",
          "data": {
            "text/plain": [
              "bool"
            ]
          },
          "metadata": {},
          "execution_count": 7
        }
      ]
    },
    {
      "cell_type": "code",
      "source": [
        "\n",
        "# common errors\n",
        "\n",
        "result=\"Hello\" + 5"
      ],
      "metadata": {
        "colab": {
          "base_uri": "https://localhost:8080/",
          "height": 176
        },
        "id": "3MFQ_YAx-Jb6",
        "outputId": "5ae540b9-3f12-471f-de4b-f452c5a0fa6e"
      },
      "execution_count": 8,
      "outputs": [
        {
          "output_type": "error",
          "ename": "TypeError",
          "evalue": "can only concatenate str (not \"int\") to str",
          "traceback": [
            "\u001b[0;31m---------------------------------------------------------------------------\u001b[0m",
            "\u001b[0;31mTypeError\u001b[0m                                 Traceback (most recent call last)",
            "\u001b[0;32m<ipython-input-8-eef9408acc2b>\u001b[0m in \u001b[0;36m<cell line: 0>\u001b[0;34m()\u001b[0m\n\u001b[1;32m      1\u001b[0m \u001b[0;31m# common errors\u001b[0m\u001b[0;34m\u001b[0m\u001b[0;34m\u001b[0m\u001b[0m\n\u001b[1;32m      2\u001b[0m \u001b[0;34m\u001b[0m\u001b[0m\n\u001b[0;32m----> 3\u001b[0;31m \u001b[0mresult\u001b[0m\u001b[0;34m=\u001b[0m\u001b[0;34m\"Hello\"\u001b[0m \u001b[0;34m+\u001b[0m \u001b[0;36m5\u001b[0m\u001b[0;34m\u001b[0m\u001b[0;34m\u001b[0m\u001b[0m\n\u001b[0m",
            "\u001b[0;31mTypeError\u001b[0m: can only concatenate str (not \"int\") to str"
          ]
        }
      ]
    },
    {
      "cell_type": "code",
      "source": [
        "\n",
        "result=\"Hello\" + str(5)\n",
        "print(result)"
      ],
      "metadata": {
        "colab": {
          "base_uri": "https://localhost:8080/"
        },
        "id": "i8akJywN-NS8",
        "outputId": "6387276f-9e23-45ab-e41c-6be910289a58"
      },
      "execution_count": 9,
      "outputs": [
        {
          "output_type": "stream",
          "name": "stdout",
          "text": [
            "Hello5\n"
          ]
        }
      ]
    },
    {
      "cell_type": "code",
      "source": [],
      "metadata": {
        "id": "mhionFL5-O8f"
      },
      "execution_count": null,
      "outputs": []
    }
  ]
}