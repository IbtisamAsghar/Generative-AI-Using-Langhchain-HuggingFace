{
  "cells": [
    {
      "cell_type": "markdown",
      "source": [
        "## Standard Library Overview\n",
        "Python's Standard Library is a vast collection of modules and packages that come bundled with Python, providing a wide range of functionalities out of the box. Here's an overview of some of the most commonly used modules and packages in the Python Standard Library."
      ],
      "metadata": {
        "id": "Tx0DIf3roUfy"
      }
    },
    {
      "cell_type": "code",
      "source": [
        "import array\n",
        "arr = array.array('i',[1,2,3,4,5,6,7,8])\n",
        "print(arr)"
      ],
      "metadata": {
        "colab": {
          "base_uri": "https://localhost:8080/"
        },
        "id": "iFo02T7bpCM1",
        "outputId": "e0187a9b-6323-4707-dcf5-d49ab0b6420f"
      },
      "execution_count": 13,
      "outputs": [
        {
          "output_type": "stream",
          "name": "stdout",
          "text": [
            "array('i', [1, 2, 3, 4, 5, 6, 7, 8])\n"
          ]
        }
      ]
    },
    {
      "cell_type": "code",
      "source": [
        "import math\n",
        "print(math.pi)\n",
        "print(math.sqrt(25))"
      ],
      "metadata": {
        "colab": {
          "base_uri": "https://localhost:8080/"
        },
        "id": "Z-98TswJpMoh",
        "outputId": "5924ed07-c26c-4291-93f4-bd09f14ed93c"
      },
      "execution_count": 14,
      "outputs": [
        {
          "output_type": "stream",
          "name": "stdout",
          "text": [
            "3.141592653589793\n",
            "5.0\n"
          ]
        }
      ]
    },
    {
      "cell_type": "code",
      "source": [
        "# random\n",
        "import random\n",
        "print(random.randint(1,10))\n",
        "print(random.choice(['Ibtisam','Osama']))"
      ],
      "metadata": {
        "colab": {
          "base_uri": "https://localhost:8080/"
        },
        "id": "b_MIRrDQpWIW",
        "outputId": "6751f031-6b7e-4203-9a06-44cfaf6adc8f"
      },
      "execution_count": 16,
      "outputs": [
        {
          "output_type": "stream",
          "name": "stdout",
          "text": [
            "6\n",
            "Osama\n"
          ]
        }
      ]
    },
    {
      "cell_type": "code",
      "source": [
        "# file and directory access\n",
        "import os\n",
        "print(os.getcwd())"
      ],
      "metadata": {
        "colab": {
          "base_uri": "https://localhost:8080/"
        },
        "id": "HEarhi3pphzd",
        "outputId": "813c1220-586a-4f6e-b976-9747b38f1c20"
      },
      "execution_count": 17,
      "outputs": [
        {
          "output_type": "stream",
          "name": "stdout",
          "text": [
            "/content\n"
          ]
        }
      ]
    },
    {
      "cell_type": "code",
      "source": [
        "os.mkdir('Ibtisam')"
      ],
      "metadata": {
        "id": "9-hyGv6EpqxW"
      },
      "execution_count": 18,
      "outputs": []
    },
    {
      "cell_type": "code",
      "source": [
        "import shutil\n",
        "shutil.copy('Ibtisam.txt','Ibtisam2.txt')"
      ],
      "metadata": {
        "colab": {
          "base_uri": "https://localhost:8080/",
          "height": 36
        },
        "id": "SUrtfDv1pt4B",
        "outputId": "75ecc8af-ca88-4d56-af52-e25dc7268841"
      },
      "execution_count": 21,
      "outputs": [
        {
          "output_type": "execute_result",
          "data": {
            "text/plain": [
              "'Ibtisam2.txt'"
            ],
            "application/vnd.google.colaboratory.intrinsic+json": {
              "type": "string"
            }
          },
          "metadata": {},
          "execution_count": 21
        }
      ]
    },
    {
      "cell_type": "code",
      "source": [
        "# Data Serialization\n",
        "import json\n",
        "data = {'name':'Ibtisam' , 'age':25}\n",
        "json_str = json.dumps(data)\n",
        "print(json_str)\n",
        "print(type(json_str))\n",
        "\n",
        "deser_data = json.loads(json_str)\n",
        "print(deser_data)\n",
        "print(type(deser_data))"
      ],
      "metadata": {
        "colab": {
          "base_uri": "https://localhost:8080/"
        },
        "id": "ak84FhTtrQBv",
        "outputId": "edaf3429-d935-46a2-8474-82fb77603a71"
      },
      "execution_count": 22,
      "outputs": [
        {
          "output_type": "stream",
          "name": "stdout",
          "text": [
            "{\"name\": \"Ibtisam\", \"age\": 25}\n",
            "<class 'str'>\n",
            "{'name': 'Ibtisam', 'age': 25}\n",
            "<class 'dict'>\n"
          ]
        }
      ]
    },
    {
      "cell_type": "code",
      "source": [
        "# csv\n",
        "import csv\n",
        "\n",
        "with open('Ibtisam.csv',mode='w',newline='') as file :\n",
        "  writer = csv.writer(file)\n",
        "  writer.writerow(['name','age'])\n",
        "  writer.writerow(['Ibtisam',22])\n",
        "with open('Ibtisam.csv',mode='r') as file :\n",
        "  reader = csv.reader(file)\n",
        "  for row in reader :\n",
        "    print(row)"
      ],
      "metadata": {
        "colab": {
          "base_uri": "https://localhost:8080/"
        },
        "id": "P48H3i-LtIC3",
        "outputId": "4132b861-34a3-4fcb-ecd1-9447000b9c28"
      },
      "execution_count": 24,
      "outputs": [
        {
          "output_type": "stream",
          "name": "stdout",
          "text": [
            "['name', 'age']\n",
            "['Ibtisam', '22']\n"
          ]
        }
      ]
    },
    {
      "cell_type": "code",
      "source": [
        "# datetime\n",
        "from datetime import datetime,timedelta\n",
        "now = datetime.now()\n",
        "print(now)\n",
        "yesterday_time = now - timedelta(days=1)\n",
        "print(yesterday_time)"
      ],
      "metadata": {
        "colab": {
          "base_uri": "https://localhost:8080/"
        },
        "id": "j7YVgdxqtpqZ",
        "outputId": "c1cb19bf-019c-40aa-9c26-e9120fb9c633"
      },
      "execution_count": 25,
      "outputs": [
        {
          "output_type": "stream",
          "name": "stdout",
          "text": [
            "2025-04-02 18:18:33.957587\n",
            "2025-04-01 18:18:33.957587\n"
          ]
        }
      ]
    },
    {
      "cell_type": "code",
      "source": [
        "# time\n",
        "import time\n",
        "print(time.time())\n",
        "time.sleep(5)\n",
        "print(time.ctime())"
      ],
      "metadata": {
        "colab": {
          "base_uri": "https://localhost:8080/"
        },
        "id": "B2HNXDt5ufs_",
        "outputId": "8f50ef46-3d68-405a-e95f-6d2dc1dce6a9"
      },
      "execution_count": 26,
      "outputs": [
        {
          "output_type": "stream",
          "name": "stdout",
          "text": [
            "1743617940.2550519\n",
            "Wed Apr  2 18:19:05 2025\n"
          ]
        }
      ]
    },
    {
      "cell_type": "code",
      "source": [
        "# regular expression\n",
        "import re\n",
        "pattern = r'\\d+'\n",
        "text = \"ibtisam have 123 apples\"\n",
        "match = re.search(pattern,text)\n",
        "print(match.group())"
      ],
      "metadata": {
        "colab": {
          "base_uri": "https://localhost:8080/"
        },
        "id": "TnyY3sBaumH6",
        "outputId": "03a996f0-3e36-446b-e372-95489102d6b8"
      },
      "execution_count": 27,
      "outputs": [
        {
          "output_type": "stream",
          "name": "stdout",
          "text": [
            "123\n"
          ]
        }
      ]
    },
    {
      "cell_type": "code",
      "source": [],
      "metadata": {
        "id": "xPMeERhVvtuA"
      },
      "execution_count": null,
      "outputs": []
    }
  ],
  "metadata": {
    "colab": {
      "provenance": []
    },
    "kernelspec": {
      "display_name": "Python 3",
      "name": "python3"
    },
    "language_info": {
      "name": "python"
    }
  },
  "nbformat": 4,
  "nbformat_minor": 0
}