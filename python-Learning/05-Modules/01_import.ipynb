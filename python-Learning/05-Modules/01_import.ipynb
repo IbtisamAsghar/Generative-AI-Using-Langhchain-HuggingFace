{
  "cells": [
    {
      "cell_type": "markdown",
      "source": [
        "# Importing Modules in Python: Modules and Packages\n",
        "In Python, modules and packages help organize and reuse code. Here's a comprehensive guide on how to import them."
      ],
      "metadata": {
        "id": "08Lxpbj9nE-1"
      }
    },
    {
      "cell_type": "code",
      "source": [
        "import math\n",
        "math.sqrt(25)"
      ],
      "metadata": {
        "colab": {
          "base_uri": "https://localhost:8080/"
        },
        "id": "b8xUMx9FnIx9",
        "outputId": "8eea010f-a23b-4d45-f7e1-96fca051a040"
      },
      "execution_count": 1,
      "outputs": [
        {
          "output_type": "execute_result",
          "data": {
            "text/plain": [
              "5.0"
            ]
          },
          "metadata": {},
          "execution_count": 1
        }
      ]
    },
    {
      "cell_type": "code",
      "source": [
        "from math import sqrt,pi\n",
        "print(sqrt(25))\n",
        "print(pi)\n"
      ],
      "metadata": {
        "colab": {
          "base_uri": "https://localhost:8080/"
        },
        "id": "TbKYStidnMc4",
        "outputId": "e71ad2ad-4ce8-49c1-b81a-ef6913c6b9ac"
      },
      "execution_count": 2,
      "outputs": [
        {
          "output_type": "stream",
          "name": "stdout",
          "text": [
            "5.0\n",
            "3.141592653589793\n"
          ]
        }
      ]
    },
    {
      "cell_type": "code",
      "source": [
        "import numpy as np\n",
        "np.array([1,2,3,4,5,6])"
      ],
      "metadata": {
        "colab": {
          "base_uri": "https://localhost:8080/"
        },
        "id": "vMerl11onUU2",
        "outputId": "87a4961b-ad87-45f1-8654-a5161a793c00"
      },
      "execution_count": 3,
      "outputs": [
        {
          "output_type": "execute_result",
          "data": {
            "text/plain": [
              "array([1, 2, 3, 4, 5, 6])"
            ]
          },
          "metadata": {},
          "execution_count": 3
        }
      ]
    },
    {
      "cell_type": "code",
      "source": [
        "from math import *\n",
        "print(sqrt(25))\n",
        "print(pi)"
      ],
      "metadata": {
        "colab": {
          "base_uri": "https://localhost:8080/"
        },
        "id": "qr_563ULnY46",
        "outputId": "730ab81b-dd33-4895-fe74-d32d00745b8e"
      },
      "execution_count": 4,
      "outputs": [
        {
          "output_type": "stream",
          "name": "stdout",
          "text": [
            "5.0\n",
            "3.141592653589793\n"
          ]
        }
      ]
    },
    {
      "cell_type": "code",
      "source": [],
      "metadata": {
        "id": "Tx0DIf3roUfy"
      },
      "execution_count": null,
      "outputs": []
    }
  ],
  "metadata": {
    "colab": {
      "provenance": []
    },
    "kernelspec": {
      "display_name": "Python 3",
      "name": "python3"
    },
    "language_info": {
      "name": "python"
    }
  },
  "nbformat": 4,
  "nbformat_minor": 0
}