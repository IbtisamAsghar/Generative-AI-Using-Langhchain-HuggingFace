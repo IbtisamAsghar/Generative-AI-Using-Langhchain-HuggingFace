{
  "cells": [
    {
      "cell_type": "markdown",
      "source": [
        "# Understanding Exceptions\n",
        "Exception handling in Python allows you to handle errors gracefully and take corrective actions without stopping the execution of the program. This lesson will cover the basics of exceptions, including how to use try, except, else, and finally blocks.\n",
        "\n",
        "### What Are Exceptions?\n",
        "Exceptions are events that disrupt the normal flow of a program. They occur when an error is encountered during program execution. Common exceptions include:\n",
        "\n",
        "- ZeroDivisionError: Dividing by zero.\n",
        "- FileNotFoundError: File not found.\n",
        "- ValueError: Invalid value.\n",
        "- TypeError: Invalid type."
      ],
      "metadata": {
        "id": "stHDd8qweeap"
      }
    },
    {
      "cell_type": "code",
      "source": [
        "# Exception try , except block\n",
        "try :\n",
        "  a = b\n",
        "except:\n",
        "  print(\"Variable not assigned\")"
      ],
      "metadata": {
        "colab": {
          "base_uri": "https://localhost:8080/"
        },
        "id": "-sCZeotceedB",
        "outputId": "829efc48-2444-43da-fe5e-1386e5d13ddc"
      },
      "execution_count": null,
      "outputs": [
        {
          "output_type": "stream",
          "name": "stdout",
          "text": [
            "Variable not assigned\n"
          ]
        }
      ]
    },
    {
      "cell_type": "code",
      "source": [
        "a = b"
      ],
      "metadata": {
        "colab": {
          "base_uri": "https://localhost:8080/",
          "height": 141
        },
        "id": "2exgPiIdeefR",
        "outputId": "dae32eb2-47d7-40f7-c453-cebca1e2c1e5"
      },
      "execution_count": null,
      "outputs": [
        {
          "output_type": "error",
          "ename": "NameError",
          "evalue": "name 'b' is not defined",
          "traceback": [
            "\u001b[0;31m---------------------------------------------------------------------------\u001b[0m",
            "\u001b[0;31mNameError\u001b[0m                                 Traceback (most recent call last)",
            "\u001b[0;32m<ipython-input-44-7a6469f55ed0>\u001b[0m in \u001b[0;36m<cell line: 0>\u001b[0;34m()\u001b[0m\n\u001b[0;32m----> 1\u001b[0;31m \u001b[0ma\u001b[0m \u001b[0;34m=\u001b[0m \u001b[0mb\u001b[0m\u001b[0;34m\u001b[0m\u001b[0;34m\u001b[0m\u001b[0m\n\u001b[0m",
            "\u001b[0;31mNameError\u001b[0m: name 'b' is not defined"
          ]
        }
      ]
    },
    {
      "cell_type": "code",
      "source": [
        "try :\n",
        "  a = b\n",
        "except NameError as ex :\n",
        "  print(ex)"
      ],
      "metadata": {
        "colab": {
          "base_uri": "https://localhost:8080/"
        },
        "id": "8HZ6sgneeehZ",
        "outputId": "c10571c5-675d-4d22-e743-5059f4776eee"
      },
      "execution_count": null,
      "outputs": [
        {
          "output_type": "stream",
          "name": "stdout",
          "text": [
            "name 'b' is not defined\n"
          ]
        }
      ]
    },
    {
      "cell_type": "code",
      "source": [
        "try :\n",
        "  result = 1/0\n",
        "except ZeroDivisionError as ex :\n",
        "  print(ex)"
      ],
      "metadata": {
        "id": "0ntjQYLmeejZ",
        "colab": {
          "base_uri": "https://localhost:8080/"
        },
        "outputId": "50f2be54-371f-4904-cada-219bac3466f6"
      },
      "execution_count": 1,
      "outputs": [
        {
          "output_type": "stream",
          "name": "stdout",
          "text": [
            "division by zero\n"
          ]
        }
      ]
    },
    {
      "cell_type": "code",
      "source": [
        "try :\n",
        "  result = 1/2\n",
        "  a = b\n",
        "except ZeroDivisionError as ex :\n",
        "  print(ex)\n",
        "  print(\"Divide the number greater than zero\")\n",
        "\n",
        "except Exception as ex :\n",
        "  print(ex)"
      ],
      "metadata": {
        "id": "-ArD4Erweemo",
        "colab": {
          "base_uri": "https://localhost:8080/"
        },
        "outputId": "96036aae-7e26-4632-fd45-e00f0ec922ab"
      },
      "execution_count": 2,
      "outputs": [
        {
          "output_type": "stream",
          "name": "stdout",
          "text": [
            "name 'b' is not defined\n"
          ]
        }
      ]
    },
    {
      "cell_type": "code",
      "source": [
        "try:\n",
        "  number = int(input(\"Enter the number: \"))\n",
        "  result = 1 / number\n",
        "except ValueError as ex :\n",
        "  print(ex)\n",
        "except ZeroDivisionError as ex :\n",
        "  print(ex)\n",
        "\n",
        "except Exception as ex :\n",
        "  print(ex)"
      ],
      "metadata": {
        "colab": {
          "base_uri": "https://localhost:8080/"
        },
        "id": "eyWuDQHx7rKL",
        "outputId": "cd1bb659-b27c-430f-92cf-69d9b6690a5e"
      },
      "execution_count": 5,
      "outputs": [
        {
          "output_type": "stream",
          "name": "stdout",
          "text": [
            "Enter the number: 0\n",
            "division by zero\n"
          ]
        }
      ]
    },
    {
      "cell_type": "code",
      "source": [
        "try:\n",
        "  number = int(input(\"Enter the number: \"))\n",
        "  result = 1 / number\n",
        "except ValueError as ex :\n",
        "  print(ex)\n",
        "except ZeroDivisionError as ex :\n",
        "  print(ex)\n",
        "\n",
        "except Exception as ex :\n",
        "  print(ex)\n",
        "else :\n",
        "  print(f\"The answer is {result}\")"
      ],
      "metadata": {
        "colab": {
          "base_uri": "https://localhost:8080/"
        },
        "id": "GjxnjN6s8CAE",
        "outputId": "eb8b7e3e-bacd-4a16-e042-329c30189c8d"
      },
      "execution_count": 6,
      "outputs": [
        {
          "output_type": "stream",
          "name": "stdout",
          "text": [
            "Enter the number: 3\n",
            "The answer is 0.3333333333333333\n"
          ]
        }
      ]
    },
    {
      "cell_type": "code",
      "source": [
        "try:\n",
        "  number = int(input(\"Enter the number: \"))\n",
        "  result = 1 / number\n",
        "except ValueError as ex :\n",
        "  print(ex)\n",
        "except ZeroDivisionError as ex :\n",
        "  print(ex)\n",
        "\n",
        "except Exception as ex :\n",
        "  print(ex)\n",
        "else :\n",
        "  print(f\"The answer is {result}\")\n",
        "finally :\n",
        "  print(\"Execution is done\")"
      ],
      "metadata": {
        "colab": {
          "base_uri": "https://localhost:8080/"
        },
        "id": "JcoA_7Ob8Rd2",
        "outputId": "cc7f7c0b-f074-43e6-c287-ee461a36b0bb"
      },
      "execution_count": 7,
      "outputs": [
        {
          "output_type": "stream",
          "name": "stdout",
          "text": [
            "Enter the number: 0\n",
            "division by zero\n",
            "Execution is done\n"
          ]
        }
      ]
    },
    {
      "cell_type": "code",
      "source": [
        "try :\n",
        "  file = open('Ibtisam.txt','r')\n",
        "  content = file\n",
        "  a = b\n",
        "  print(content)\n",
        "except FileNotFoundError  as ex :\n",
        "  print(ex)\n",
        "except Exception as ex :\n",
        "  print(ex)\n",
        "finally :\n",
        "  if 'file' in locals() or not file.closed() :\n",
        "    file.close()\n",
        "    print('file close')"
      ],
      "metadata": {
        "colab": {
          "base_uri": "https://localhost:8080/"
        },
        "id": "00dMM5T28cM_",
        "outputId": "91ac95e2-fe51-4620-c2c1-0db7e28650de"
      },
      "execution_count": 8,
      "outputs": [
        {
          "output_type": "stream",
          "name": "stdout",
          "text": [
            "name 'b' is not defined\n",
            "file close\n"
          ]
        }
      ]
    },
    {
      "cell_type": "code",
      "source": [
        "if 'file' in locals():\n",
        "    print(True)"
      ],
      "metadata": {
        "colab": {
          "base_uri": "https://localhost:8080/"
        },
        "id": "xNitOyBQ-BBK",
        "outputId": "34083436-a71c-4e07-b637-300786b31e47"
      },
      "execution_count": 9,
      "outputs": [
        {
          "output_type": "stream",
          "name": "stdout",
          "text": [
            "True\n"
          ]
        }
      ]
    },
    {
      "cell_type": "code",
      "source": [],
      "metadata": {
        "id": "33XflG0B-HCN"
      },
      "execution_count": null,
      "outputs": []
    }
  ],
  "metadata": {
    "colab": {
      "provenance": []
    },
    "kernelspec": {
      "display_name": "Python 3",
      "name": "python3"
    },
    "language_info": {
      "name": "python"
    }
  },
  "nbformat": 4,
  "nbformat_minor": 0
}