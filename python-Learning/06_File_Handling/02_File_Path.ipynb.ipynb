{
 "cells": [
  {
   "cell_type": "markdown",
   "id": "b5837d2d-2c05-44eb-bbac-11cf0e95b0d7",
   "metadata": {},
   "source": [
    "# Working With File Paths\n",
    "When working with files in Python, handling file paths correctly is crucial to ensure code works across different operating systems and environments. Python provides several modules and functions for working with file paths effectively."
   ]
  },
  {
   "cell_type": "code",
   "execution_count": 6,
   "id": "c7036480-579c-4f1f-8e71-363a0161cb5e",
   "metadata": {},
   "outputs": [
    {
     "name": "stdout",
     "output_type": "stream",
     "text": [
      "Current working directory is C:\\Users\\PC\n"
     ]
    }
   ],
   "source": [
    "# using the os module\n",
    "import os\n",
    "current_directory = os.getcwd()\n",
    "print(f\"Current working directory is {current_directory}\")"
   ]
  },
  {
   "cell_type": "code",
   "execution_count": 10,
   "id": "a3fc5d48-4fdf-4bee-8302-abcfa52023fb",
   "metadata": {},
   "outputs": [
    {
     "name": "stdout",
     "output_type": "stream",
     "text": [
      "Directory package created\n"
     ]
    }
   ],
   "source": [
    "# creating a new directory\n",
    "new_directory = \"package\"\n",
    "os.mkdir(new_directory)\n",
    "print(f\"Directory {new_directory} created\")"
   ]
  },
  {
   "cell_type": "code",
   "execution_count": 18,
   "id": "d9f9b3c9-7f02-4092-b924-f0aae22c145d",
   "metadata": {},
   "outputs": [
    {
     "name": "stdout",
     "output_type": "stream",
     "text": [
      "['.anaconda', '.bash_history', '.cache', '.conda', '.condarc', '.continuum', '.git', '.gitconfig', '.idea', '.idlerc', '.ipynb_checkpoints', '.ipython', '.jupyter', '.lesshst', '.matplotlib', '.python_history', '.streamlit', '.viminfo', '.vscode', 'Accessing_phonecamera.ipynb', 'Accessing_Webcam.ipynb', 'anaconda3', 'anaconda_projects', 'ansel', 'Apollo_11_Launch.jpg', 'AppData', 'Application Data', 'augmented_image_1.jpg', 'augmented_image_10.jpg', 'augmented_image_2.jpg', 'augmented_image_3.jpg', 'augmented_image_4.jpg', 'augmented_image_5.jpg', 'augmented_image_6.jpg', 'augmented_image_7.jpg', 'augmented_image_8.jpg', 'augmented_image_9.jpg', 'Basic_Image_Manipulation.ipynb', 'building-windows.jpg', 'checkerboard_18x18.png', 'checkerboard_84x84.jpg', 'checkerboard_color.png', 'checkerboard_fuzzy_18x18.jpg', 'circle.jpg', 'coca-cola-logo.png', 'Contacts', 'Cookies', 'Data_Augmentation.ipynb', 'Desktop', 'Documents', 'Downloads', 'Favorites', 'Fetching_Data_From_API.ipynb', 'Image_Annotating.ipynb', 'Image_Enhancement.ipynb', 'Links', 'Local Settings', 'Logo_Manipulation.png', 'loralassan', 'Music', 'My Documents', 'NetHood', 'New_newzelang_image.png', 'New_Zealand_Boat.jpg', 'New_Zealand_Coast.jpg', 'New_Zealand_Lake.jpg', 'NTUSER.DAT', 'ntuser.dat.LOG1', 'ntuser.dat.LOG2', 'NTUSER.DAT{2ad838bc-efea-11ee-a54d-000d3a94eaa1}.TM.blf', 'NTUSER.DAT{2ad838bc-efea-11ee-a54d-000d3a94eaa1}.TMContainer00000000000000000001.regtrans-ms', 'NTUSER.DAT{2ad838bc-efea-11ee-a54d-000d3a94eaa1}.TMContainer00000000000000000002.regtrans-ms', 'ntuser.ini', 'OneDrive', 'package', 'Piano_Sheet_Music.png', 'Pictures', 'PrintHood', 'PycharmProjects', 'Python', 'RealMadrid_Road_To_Wembly_UCL.avi', 'RealMadrid_Road_To_Wembly_UCL.mp4', 'Recent', 'rectangle.jpg', 'resized_cropped_region_2x.png', 'resize_img  .png', 'resize_img.png', 'resize_imged.png', 'Saved Games', 'Searches', 'SendTo', 'Start Menu', 'Templates', 'train.json', 'Untitled.ipynb', 'Untitled1.ipynb', 'Untitled2.ipynb', 'Untitled3.ipynb', 'Videos', 'Working_with_images.ipynb']\n"
     ]
    }
   ],
   "source": [
    "# listing the files and directories\n",
    "items = os.listdir('.')\n",
    "print(items)"
   ]
  },
  {
   "cell_type": "code",
   "execution_count": 20,
   "id": "9c8f045e-e816-4418-817a-75bab0009950",
   "metadata": {},
   "outputs": [
    {
     "name": "stdout",
     "output_type": "stream",
     "text": [
      "folder\\ibtisam.txt\n"
     ]
    }
   ],
   "source": [
    "# joining paths \n",
    "dir_name = 'folder'\n",
    "file_name = 'ibtisam.txt'\n",
    "join_path = os.path.join(dir_name,file_name) # This helps to create paths that are platform-independent (works across Windows, macOS, Linux).\n",
    "print(join_path)"
   ]
  },
  {
   "cell_type": "code",
   "execution_count": 22,
   "id": "036fa076-5ffa-4118-beb8-9ecbdc169a74",
   "metadata": {},
   "outputs": [
    {
     "name": "stdout",
     "output_type": "stream",
     "text": [
      "C:\\Users\\PC\\folder\\ibtisam.txt\n"
     ]
    }
   ],
   "source": [
    "full_path = os.path.join(os.getcwd() , dir_name , file_name)\n",
    "print(full_path)"
   ]
  },
  {
   "cell_type": "code",
   "execution_count": 26,
   "id": "e866065c-44c1-4359-b9e9-73fbaac3c341",
   "metadata": {},
   "outputs": [
    {
     "name": "stdout",
     "output_type": "stream",
     "text": [
      "Not Exists\n"
     ]
    }
   ],
   "source": [
    "# Checking if a Path Exists\n",
    "\n",
    "path = 'GENAI.txt'\n",
    "\n",
    "if os.path.exists(path) :  # os.path.exists(path) checks if the specified path exists.\n",
    "    print('Exists')\n",
    "else:\n",
    "    print('Not Exists')"
   ]
  },
  {
   "cell_type": "code",
   "execution_count": 38,
   "id": "29a7b14b-22a4-4f02-a32f-fd7c08d48c38",
   "metadata": {},
   "outputs": [
    {
     "name": "stdout",
     "output_type": "stream",
     "text": [
      "The path 'ibtisam.txt' is a file.\n"
     ]
    }
   ],
   "source": [
    "#Checking if a Path is a File or Directory\n",
    "\n",
    "path = 'ibtisam.txt'\n",
    "if os.path.isfile(path):\n",
    "    print(f\"The path '{path}' is a file.\")\n",
    "elif os.path.isdir(path):\n",
    "    print(f\"The path '{path}' is a directory.\")\n",
    "else:\n",
    "    print(f\"The path '{path}' is neither a file nor a directory.\")"
   ]
  },
  {
   "cell_type": "code",
   "execution_count": null,
   "id": "85dfc5cd-e37f-4256-af0f-e42d99fdcfe0",
   "metadata": {},
   "outputs": [],
   "source": [
    "# Geting the absolute path \n"
   ]
  }
 ],
 "metadata": {
  "kernelspec": {
   "display_name": "Python [conda env:base] *",
   "language": "python",
   "name": "conda-base-py"
  },
  "language_info": {
   "codemirror_mode": {
    "name": "ipython",
    "version": 3
   },
   "file_extension": ".py",
   "mimetype": "text/x-python",
   "name": "python",
   "nbconvert_exporter": "python",
   "pygments_lexer": "ipython3",
   "version": "3.12.7"
  }
 },
 "nbformat": 4,
 "nbformat_minor": 5
}
