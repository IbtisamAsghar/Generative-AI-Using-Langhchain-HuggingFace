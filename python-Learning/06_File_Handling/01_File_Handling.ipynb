{
  "cells": [
    {
      "cell_type": "markdown",
      "source": [
        "# File Operation- Read And Write Files\n",
        "File handling is a crucial part of any programming language. Python provides built-in functions and methods to read from and write to files, both text and binary."
      ],
      "metadata": {
        "id": "rgnXn2-wJ3LY"
      }
    },
    {
      "cell_type": "code",
      "source": [
        "# Read a file\n",
        "with open('My_intro.txt', 'r') as file :\n",
        "  file_content = file.read()\n",
        "\n",
        "print(file_content)"
      ],
      "metadata": {
        "colab": {
          "base_uri": "https://localhost:8080/"
        },
        "id": "EF10vZKOJ3OY",
        "outputId": "61cf6580-9229-4b89-ab7a-106b5ee1801e"
      },
      "execution_count": 23,
      "outputs": [
        {
          "output_type": "stream",
          "name": "stdout",
          "text": [
            "Hello my name is Ibtisam\n",
            "I am from Islamabad\n",
            "I am Learning Generative AI\n",
            "I am Student of BSAI\n"
          ]
        }
      ]
    },
    {
      "cell_type": "code",
      "source": [
        "# Read the content of the file line by line\n",
        "with open('My_intro.txt' , 'r') as file :\n",
        "  for line in file :\n",
        "    print(line.strip())"
      ],
      "metadata": {
        "colab": {
          "base_uri": "https://localhost:8080/"
        },
        "id": "byERZLmnJ3RI",
        "outputId": "0c2344b2-a334-42c6-9989-372e4c031c52"
      },
      "execution_count": 24,
      "outputs": [
        {
          "output_type": "stream",
          "name": "stdout",
          "text": [
            "Hello my name is Ibtisam\n",
            "I am from Islamabad\n",
            "I am Learning Generative AI\n",
            "I am Student of BSAI\n"
          ]
        }
      ]
    },
    {
      "cell_type": "code",
      "source": [
        "# Writing a file (overwriting)\n",
        "\n",
        "with open('My_intro.txt' , 'w') as file :\n",
        "  file.write('Hello world \\n')\n",
        "  file.write('I am Ibtisam \\n')\n"
      ],
      "metadata": {
        "id": "Pc5ABsAbJ3UA"
      },
      "execution_count": 25,
      "outputs": []
    },
    {
      "cell_type": "code",
      "source": [
        "with open('My_intro.txt', 'r') as file :\n",
        "  file_content = file.read()\n",
        "\n",
        "print(file_content)"
      ],
      "metadata": {
        "colab": {
          "base_uri": "https://localhost:8080/"
        },
        "id": "e1VTMA0EJ3W4",
        "outputId": "b7e188ba-8083-41e1-96c3-9492dde824eb"
      },
      "execution_count": 26,
      "outputs": [
        {
          "output_type": "stream",
          "name": "stdout",
          "text": [
            "Hello world \n",
            "I am Ibtisam \n",
            "\n"
          ]
        }
      ]
    },
    {
      "cell_type": "code",
      "source": [
        "# writing into a file without overwriting\n",
        "with open('My_intro.txt' , 'a') as file :\n",
        "  file.write('I am learning Generative AI\\n')\n"
      ],
      "metadata": {
        "id": "DdJSMXDHJ3Zw"
      },
      "execution_count": 27,
      "outputs": []
    },
    {
      "cell_type": "code",
      "source": [
        "with open('My_intro.txt', 'r') as file :\n",
        "  file_content = file.read()\n",
        "\n",
        "print(file_content)"
      ],
      "metadata": {
        "colab": {
          "base_uri": "https://localhost:8080/"
        },
        "id": "EUHBqhC9J3cg",
        "outputId": "dc706b29-242c-4060-f096-593c218faf1f"
      },
      "execution_count": 28,
      "outputs": [
        {
          "output_type": "stream",
          "name": "stdout",
          "text": [
            "Hello world \n",
            "I am Ibtisam \n",
            "I am learning Generative AI\n",
            "\n"
          ]
        }
      ]
    },
    {
      "cell_type": "code",
      "source": [
        "# Writing a list of lines in the file\n",
        "list_of_lines = ['I love football \\n' , 'Ronaldo is best player \\n' , 'Hala Madrid \\n']\n",
        "with open('My_intro.txt','a') as file :\n",
        "  file.writelines(list_of_lines)"
      ],
      "metadata": {
        "id": "8mrSWo9hJ3fI"
      },
      "execution_count": 29,
      "outputs": []
    },
    {
      "cell_type": "code",
      "source": [
        "with open('My_intro.txt', 'r') as file :\n",
        "  file_content = file.read()\n",
        "\n",
        "print(file_content)"
      ],
      "metadata": {
        "colab": {
          "base_uri": "https://localhost:8080/"
        },
        "id": "n4t3QoFEJ3iA",
        "outputId": "2b4151ff-31cc-4552-8645-7a7d5cc42e31"
      },
      "execution_count": 30,
      "outputs": [
        {
          "output_type": "stream",
          "name": "stdout",
          "text": [
            "Hello world \n",
            "I am Ibtisam \n",
            "I am learning Generative AI\n",
            "I love football \n",
            "Ronaldo is best player \n",
            "Hala Madrid \n",
            "\n"
          ]
        }
      ]
    },
    {
      "cell_type": "code",
      "source": [
        "# Writing a binary files\n",
        "data =  b'\\x00\\x01\\x02\\x03\\x04'\n",
        "with open('binary_file.bin' , 'wb') as file :\n",
        "  file.write(data)"
      ],
      "metadata": {
        "id": "KwN53F9nJ3kg"
      },
      "execution_count": 31,
      "outputs": []
    },
    {
      "cell_type": "code",
      "source": [
        "# Reading a binary file\n",
        "with open('binary_file.bin', 'rb') as file:\n",
        "    content = file.read()\n",
        "    print(content)"
      ],
      "metadata": {
        "colab": {
          "base_uri": "https://localhost:8080/"
        },
        "id": "oP98LI4nJ3nQ",
        "outputId": "fb4659a0-38ed-466b-9ab7-871af142838c"
      },
      "execution_count": 34,
      "outputs": [
        {
          "output_type": "stream",
          "name": "stdout",
          "text": [
            "b'\\x00\\x01\\x02\\x03\\x04'\n"
          ]
        }
      ]
    },
    {
      "cell_type": "code",
      "source": [
        "# reading the content from the source file and write to a destination file\n",
        "\n",
        "with open('My_intro.txt' , 'r') as source_file :\n",
        "  content = source_file.read()\n",
        "\n",
        "with open('My_intro_destination.txt' ,'w') as destination_file :\n",
        "  destination_file.write(content)"
      ],
      "metadata": {
        "id": "-m49A2iGJ3p4"
      },
      "execution_count": 36,
      "outputs": []
    },
    {
      "cell_type": "code",
      "source": [
        "with open('My_intro_destination.txt' , 'r') as source_file :\n",
        "  content = source_file.read()\n",
        "print(content)"
      ],
      "metadata": {
        "colab": {
          "base_uri": "https://localhost:8080/"
        },
        "id": "B4zMRIirJ3sw",
        "outputId": "768fbe21-7916-4d70-aaf2-87bd09a5a34d"
      },
      "execution_count": 38,
      "outputs": [
        {
          "output_type": "stream",
          "name": "stdout",
          "text": [
            "Hello world \n",
            "I am Ibtisam \n",
            "I am learning Generative AI\n",
            "I love football \n",
            "Ronaldo is best player \n",
            "Hala Madrid \n",
            "\n"
          ]
        }
      ]
    },
    {
      "cell_type": "code",
      "source": [
        "#Read a text file and count the number of lines, words, and characters.\n",
        "# Counting lines, words, and characters in a text file\n",
        "\n",
        "def Count_text_files(file_path) :\n",
        "  with open(file_path , 'r') as file :\n",
        "    lines = file.readlines()\n",
        "    count_line = len(lines)\n",
        "    word_count = sum(len(line.split()) for line in lines)\n",
        "    char_count = sum(len(line) for line in lines)\n",
        "  return count_line , word_count , char_count\n",
        "\n",
        "file_path = 'My_intro.txt'\n",
        "count_line , word_count , char_count = Count_text_files(file_path)"
      ],
      "metadata": {
        "id": "Tx9qrua0PSiB"
      },
      "execution_count": 39,
      "outputs": []
    },
    {
      "cell_type": "code",
      "source": [
        "print(f'Number of lines : {count_line}')\n",
        "print(f'Number of words : {word_count}')\n",
        "print(f'Number of characters : {char_count}')"
      ],
      "metadata": {
        "colab": {
          "base_uri": "https://localhost:8080/"
        },
        "id": "kcxmHrXjQm-0",
        "outputId": "d0f7e4cc-1116-43a3-b368-fd1e0ed98ce0"
      },
      "execution_count": 40,
      "outputs": [
        {
          "output_type": "stream",
          "name": "stdout",
          "text": [
            "Number of lines : 6\n",
            "Number of words : 19\n",
            "Number of characters : 109\n"
          ]
        }
      ]
    },
    {
      "cell_type": "code",
      "source": [
        "# Writing and then reading a file\n",
        "\n",
        "with open('My_intro.txt' , 'w+') as file :\n",
        "  file.write('Hello word\\n')\n",
        "  file.write('I am Ibtisam\\n')\n",
        "\n",
        "  file.seek(0) # move the file cursor to the beginning\n",
        "  content = file.read()\n",
        "  print(content)"
      ],
      "metadata": {
        "colab": {
          "base_uri": "https://localhost:8080/"
        },
        "id": "qAR3lxmzQp8B",
        "outputId": "20a25a3f-1c83-4973-baa4-aa17050a020f"
      },
      "execution_count": 42,
      "outputs": [
        {
          "output_type": "stream",
          "name": "stdout",
          "text": [
            "Hello word\n",
            "I am Ibtisam\n",
            "\n"
          ]
        }
      ]
    },
    {
      "cell_type": "code",
      "source": [],
      "metadata": {
        "id": "UviU2hXARRSt"
      },
      "execution_count": null,
      "outputs": []
    }
  ],
  "metadata": {
    "colab": {
      "provenance": []
    },
    "kernelspec": {
      "display_name": "Python 3",
      "name": "python3"
    },
    "language_info": {
      "name": "python"
    }
  },
  "nbformat": 4,
  "nbformat_minor": 0
}