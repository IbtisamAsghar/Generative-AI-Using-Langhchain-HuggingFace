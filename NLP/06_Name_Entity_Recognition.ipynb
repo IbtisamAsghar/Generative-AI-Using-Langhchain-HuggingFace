{
  "nbformat": 4,
  "nbformat_minor": 0,
  "metadata": {
    "colab": {
      "provenance": []
    },
    "kernelspec": {
      "name": "python3",
      "display_name": "Python 3"
    },
    "language_info": {
      "name": "python"
    }
  },
  "cells": [
    {
      "cell_type": "code",
      "execution_count": null,
      "metadata": {
        "id": "Uu_GfG_tKH1Z"
      },
      "outputs": [],
      "source": [
        "sentence = \"Cristiano Ronaldo quickly scored a stunning goal for his team in the final match in the lisbon and won the million dollar cash\""
      ]
    },
    {
      "cell_type": "code",
      "source": [
        "import nltk\n",
        "nltk.download('punkt_tab')\n",
        "words = nltk.word_tokenize(sentence)"
      ],
      "metadata": {
        "colab": {
          "base_uri": "https://localhost:8080/"
        },
        "id": "-t2_qqqoKt1v",
        "outputId": "106f08a7-1897-402d-b384-22c1b58c3666"
      },
      "execution_count": null,
      "outputs": [
        {
          "output_type": "stream",
          "name": "stderr",
          "text": [
            "[nltk_data] Downloading package punkt_tab to /root/nltk_data...\n",
            "[nltk_data]   Unzipping tokenizers/punkt_tab.zip.\n"
          ]
        }
      ]
    },
    {
      "cell_type": "code",
      "source": [
        "words"
      ],
      "metadata": {
        "colab": {
          "base_uri": "https://localhost:8080/"
        },
        "id": "Xip_28acKynH",
        "outputId": "6ae1f214-6095-4f87-d8ef-d593e6cab618"
      },
      "execution_count": null,
      "outputs": [
        {
          "output_type": "execute_result",
          "data": {
            "text/plain": [
              "['Cristiano',\n",
              " 'Ronaldo',\n",
              " 'quickly',\n",
              " 'scored',\n",
              " 'a',\n",
              " 'stunning',\n",
              " 'goal',\n",
              " 'for',\n",
              " 'his',\n",
              " 'team',\n",
              " 'in',\n",
              " 'the',\n",
              " 'final',\n",
              " 'match',\n",
              " 'in',\n",
              " 'the',\n",
              " 'lisbon',\n",
              " 'and',\n",
              " 'won',\n",
              " 'the',\n",
              " 'million',\n",
              " 'dollar',\n",
              " 'cash']"
            ]
          },
          "metadata": {},
          "execution_count": 4
        }
      ]
    },
    {
      "cell_type": "code",
      "source": [
        "nltk.download('averaged_perceptron_tagger_eng')"
      ],
      "metadata": {
        "colab": {
          "base_uri": "https://localhost:8080/"
        },
        "id": "rh_ObisoLBWF",
        "outputId": "ca194486-522a-40e2-c22f-e05c3a62d658"
      },
      "execution_count": null,
      "outputs": [
        {
          "output_type": "stream",
          "name": "stderr",
          "text": [
            "[nltk_data] Downloading package averaged_perceptron_tagger_eng to\n",
            "[nltk_data]     /root/nltk_data...\n",
            "[nltk_data]   Unzipping taggers/averaged_perceptron_tagger_eng.zip.\n"
          ]
        },
        {
          "output_type": "execute_result",
          "data": {
            "text/plain": [
              "True"
            ]
          },
          "metadata": {},
          "execution_count": 6
        }
      ]
    },
    {
      "cell_type": "code",
      "source": [
        "tag_words = nltk.pos_tag(words)"
      ],
      "metadata": {
        "id": "7QGYq9njK4lx"
      },
      "execution_count": null,
      "outputs": []
    },
    {
      "cell_type": "code",
      "source": [
        "tag_words"
      ],
      "metadata": {
        "colab": {
          "base_uri": "https://localhost:8080/"
        },
        "id": "eL8J3z_bK_R7",
        "outputId": "5abf9b96-1f41-4463-b373-aea81f24cb04"
      },
      "execution_count": null,
      "outputs": [
        {
          "output_type": "execute_result",
          "data": {
            "text/plain": [
              "[('Cristiano', 'NNP'),\n",
              " ('Ronaldo', 'NNP'),\n",
              " ('quickly', 'RB'),\n",
              " ('scored', 'VBD'),\n",
              " ('a', 'DT'),\n",
              " ('stunning', 'JJ'),\n",
              " ('goal', 'NN'),\n",
              " ('for', 'IN'),\n",
              " ('his', 'PRP$'),\n",
              " ('team', 'NN'),\n",
              " ('in', 'IN'),\n",
              " ('the', 'DT'),\n",
              " ('final', 'JJ'),\n",
              " ('match', 'NN'),\n",
              " ('in', 'IN'),\n",
              " ('the', 'DT'),\n",
              " ('lisbon', 'NN'),\n",
              " ('and', 'CC'),\n",
              " ('won', 'VBD'),\n",
              " ('the', 'DT'),\n",
              " ('million', 'CD'),\n",
              " ('dollar', 'NN'),\n",
              " ('cash', 'NN')]"
            ]
          },
          "metadata": {},
          "execution_count": 8
        }
      ]
    },
    {
      "cell_type": "code",
      "source": [
        "nltk.download('maxent_ne_chunker_tab')"
      ],
      "metadata": {
        "colab": {
          "base_uri": "https://localhost:8080/"
        },
        "id": "fmSALPVRLNwL",
        "outputId": "036961f3-b521-4db5-a9ae-fd07ace9a22c"
      },
      "execution_count": null,
      "outputs": [
        {
          "output_type": "stream",
          "name": "stderr",
          "text": [
            "[nltk_data] Downloading package maxent_ne_chunker_tab to\n",
            "[nltk_data]     /root/nltk_data...\n",
            "[nltk_data]   Unzipping chunkers/maxent_ne_chunker_tab.zip.\n"
          ]
        },
        {
          "output_type": "execute_result",
          "data": {
            "text/plain": [
              "True"
            ]
          },
          "metadata": {},
          "execution_count": 10
        }
      ]
    },
    {
      "cell_type": "code",
      "source": [
        "nltk.download('words')"
      ],
      "metadata": {
        "colab": {
          "base_uri": "https://localhost:8080/"
        },
        "id": "XosRiVyrLRj0",
        "outputId": "09b7afe8-575c-470e-9194-c996780b01ec"
      },
      "execution_count": null,
      "outputs": [
        {
          "output_type": "stream",
          "name": "stderr",
          "text": [
            "[nltk_data] Downloading package words to /root/nltk_data...\n",
            "[nltk_data]   Unzipping corpora/words.zip.\n"
          ]
        },
        {
          "output_type": "execute_result",
          "data": {
            "text/plain": [
              "True"
            ]
          },
          "metadata": {},
          "execution_count": 12
        }
      ]
    },
    {
      "cell_type": "code",
      "source": [
        "ne_tree = nltk.ne_chunk(tag_words)"
      ],
      "metadata": {
        "id": "yZiGGtC-LDv3"
      },
      "execution_count": null,
      "outputs": []
    },
    {
      "cell_type": "code",
      "source": [
        "print(ne_tree)"
      ],
      "metadata": {
        "colab": {
          "base_uri": "https://localhost:8080/"
        },
        "id": "o902v59ULMFx",
        "outputId": "7c24dddf-4929-4a9e-ee63-5f84d7ac92e5"
      },
      "execution_count": null,
      "outputs": [
        {
          "output_type": "stream",
          "name": "stdout",
          "text": [
            "(S\n",
            "  (PERSON Cristiano/NNP)\n",
            "  (PERSON Ronaldo/NNP)\n",
            "  quickly/RB\n",
            "  scored/VBD\n",
            "  a/DT\n",
            "  stunning/JJ\n",
            "  goal/NN\n",
            "  for/IN\n",
            "  his/PRP$\n",
            "  team/NN\n",
            "  in/IN\n",
            "  the/DT\n",
            "  final/JJ\n",
            "  match/NN\n",
            "  in/IN\n",
            "  the/DT\n",
            "  lisbon/NN\n",
            "  and/CC\n",
            "  won/VBD\n",
            "  the/DT\n",
            "  million/CD\n",
            "  dollar/NN\n",
            "  cash/NN)\n"
          ]
        }
      ]
    },
    {
      "cell_type": "code",
      "source": [],
      "metadata": {
        "id": "1pt1BpiiLhdT"
      },
      "execution_count": null,
      "outputs": []
    }
  ]
}