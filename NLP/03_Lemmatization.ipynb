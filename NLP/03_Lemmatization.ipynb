{
  "nbformat": 4,
  "nbformat_minor": 0,
  "metadata": {
    "colab": {
      "provenance": []
    },
    "kernelspec": {
      "name": "python3",
      "display_name": "Python 3"
    },
    "language_info": {
      "name": "python"
    }
  },
  "cells": [
    {
      "cell_type": "markdown",
      "source": [
        "# Wordnet Lemmatizer"
      ],
      "metadata": {
        "id": "sczCs9bCud8r"
      }
    },
    {
      "cell_type": "code",
      "source": [
        "import nltk\n",
        "nltk.download('wordnet')"
      ],
      "metadata": {
        "colab": {
          "base_uri": "https://localhost:8080/"
        },
        "id": "kOUHKYR3v-5r",
        "outputId": "84c26e87-3497-4c6d-fa43-be3dd898744a"
      },
      "execution_count": null,
      "outputs": [
        {
          "output_type": "stream",
          "name": "stderr",
          "text": [
            "[nltk_data] Downloading package wordnet to /root/nltk_data...\n",
            "[nltk_data]   Package wordnet is already up-to-date!\n"
          ]
        },
        {
          "output_type": "execute_result",
          "data": {
            "text/plain": [
              "True"
            ]
          },
          "metadata": {},
          "execution_count": 6
        }
      ]
    },
    {
      "cell_type": "code",
      "source": [
        "from nltk.stem import WordNetLemmatizer\n"
      ],
      "metadata": {
        "id": "iC1uh4nEvhfu"
      },
      "execution_count": null,
      "outputs": []
    },
    {
      "cell_type": "code",
      "source": [
        "lemmatizer = WordNetLemmatizer()"
      ],
      "metadata": {
        "id": "K_cg8ZivvmRh"
      },
      "execution_count": null,
      "outputs": []
    },
    {
      "cell_type": "code",
      "source": [
        "words = ['Run','Running','Runs','enjoying','playing','eating','eats','eaten','programming','programs','finally','finalized','history']"
      ],
      "metadata": {
        "id": "cFF6c_wzvrH9"
      },
      "execution_count": null,
      "outputs": []
    },
    {
      "cell_type": "code",
      "source": [
        "for word in words:\n",
        "    print(word+\"----->\"+lemmatizer.lemmatize(word , pos='v'))"
      ],
      "metadata": {
        "colab": {
          "base_uri": "https://localhost:8080/"
        },
        "id": "g4o_TqWdv0F7",
        "outputId": "d846917c-6415-439d-ae11-cabaf5bea146"
      },
      "execution_count": null,
      "outputs": [
        {
          "output_type": "stream",
          "name": "stdout",
          "text": [
            "Run----->Run\n",
            "Running----->Running\n",
            "Runs----->Runs\n",
            "enjoying----->enjoy\n",
            "playing----->play\n",
            "eating----->eat\n",
            "eats----->eat\n",
            "eaten----->eat\n",
            "programming----->program\n",
            "programs----->program\n",
            "finally----->finally\n",
            "finalized----->finalize\n",
            "history----->history\n"
          ]
        }
      ]
    },
    {
      "cell_type": "code",
      "source": [],
      "metadata": {
        "id": "6cSuWBhEv66Y"
      },
      "execution_count": null,
      "outputs": []
    }
  ]
}