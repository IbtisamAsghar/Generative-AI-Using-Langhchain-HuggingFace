{
  "nbformat": 4,
  "nbformat_minor": 0,
  "metadata": {
    "colab": {
      "provenance": []
    },
    "kernelspec": {
      "name": "python3",
      "display_name": "Python 3"
    },
    "language_info": {
      "name": "python"
    }
  },
  "cells": [
    {
      "cell_type": "code",
      "execution_count": null,
      "metadata": {
        "id": "dEJY0fWEMCi9"
      },
      "outputs": [],
      "source": [
        "\n",
        "paragraph = \"\"\"I have three dreams for Pakistan.\n",
        "First, I see a Pakistan where peace flows like rivers, where every child plays under the shade of knowledge, and no soul sleeps hungry — a land where compassion becomes our currency, and justice shines like light in every corner. That is my Jannah on Earth.\n",
        "\n",
        "Second, I dream of a Pakistan that stands proud — not because of its wealth alone, but because of its character. A Pakistan where every hand builds, every mind thinks, and every heart beats with purpose. Our flag must not only fly, but soar, carried by the wind of unity.\n",
        "\n",
        "And third, I believe Pakistan must rise — not in anger, but in wisdom; not by force, but by values. Because only strength built on truth and love lasts. Our strength is in our people, in the prayers of mothers, the hope of youth, and the tears of those who sacrificed for this sacred land.\n",
        "\n",
        "If we want Pakistan to touch the sky, we must first make its ground worthy of Jannah.\"\"\""
      ]
    },
    {
      "cell_type": "code",
      "source": [
        "import nltk\n",
        "nltk.download('punkt_tab')\n",
        "nltk.download('averaged_perceptron_tagger')\n",
        "nltk.download('stopwords')\n",
        "nltk.download('averaged_perceptron_tagger_eng')"
      ],
      "metadata": {
        "colab": {
          "base_uri": "https://localhost:8080/"
        },
        "id": "ErOfvHV8NavH",
        "outputId": "c00660fb-afd1-485e-b7cb-80348b489bdc"
      },
      "execution_count": null,
      "outputs": [
        {
          "output_type": "stream",
          "name": "stderr",
          "text": [
            "[nltk_data] Downloading package punkt_tab to /root/nltk_data...\n",
            "[nltk_data]   Package punkt_tab is already up-to-date!\n",
            "[nltk_data] Downloading package averaged_perceptron_tagger to\n",
            "[nltk_data]     /root/nltk_data...\n",
            "[nltk_data]   Package averaged_perceptron_tagger is already up-to-\n",
            "[nltk_data]       date!\n",
            "[nltk_data] Downloading package stopwords to /root/nltk_data...\n",
            "[nltk_data]   Package stopwords is already up-to-date!\n",
            "[nltk_data] Downloading package averaged_perceptron_tagger_eng to\n",
            "[nltk_data]     /root/nltk_data...\n",
            "[nltk_data]   Unzipping taggers/averaged_perceptron_tagger_eng.zip.\n"
          ]
        },
        {
          "output_type": "execute_result",
          "data": {
            "text/plain": [
              "True"
            ]
          },
          "metadata": {},
          "execution_count": 12
        }
      ]
    },
    {
      "cell_type": "code",
      "source": [
        "from nltk.corpus import stopwords\n",
        "sentence = nltk.sent_tokenize(paragraph)"
      ],
      "metadata": {
        "id": "_s4_0CDbNMCr"
      },
      "execution_count": null,
      "outputs": []
    },
    {
      "cell_type": "code",
      "source": [
        "sentence"
      ],
      "metadata": {
        "colab": {
          "base_uri": "https://localhost:8080/"
        },
        "id": "S0-UtByYNdnU",
        "outputId": "b1c58b06-fb29-482a-f109-7f8820330125"
      },
      "execution_count": null,
      "outputs": [
        {
          "output_type": "execute_result",
          "data": {
            "text/plain": [
              "['I have three dreams for Pakistan.',\n",
              " 'First, I see a Pakistan where peace flows like rivers, where every child plays under the shade of knowledge, and no soul sleeps hungry — a land where compassion becomes our currency, and justice shines like light in every corner.',\n",
              " 'That is my Jannah on Earth.',\n",
              " 'Second, I dream of a Pakistan that stands proud — not because of its wealth alone, but because of its character.',\n",
              " 'A Pakistan where every hand builds, every mind thinks, and every heart beats with purpose.',\n",
              " 'Our flag must not only fly, but soar, carried by the wind of unity.',\n",
              " 'And third, I believe Pakistan must rise — not in anger, but in wisdom; not by force, but by values.',\n",
              " 'Because only strength built on truth and love lasts.',\n",
              " 'Our strength is in our people, in the prayers of mothers, the hope of youth, and the tears of those who sacrificed for this sacred land.',\n",
              " 'If we want Pakistan to touch the sky, we must first make its ground worthy of Jannah.']"
            ]
          },
          "metadata": {},
          "execution_count": 7
        }
      ]
    },
    {
      "cell_type": "code",
      "source": [
        "for i in range(len(sentence)):\n",
        "  words = nltk.word_tokenize(sentence[i])\n",
        "  words = [word for word in words if word not in set(stopwords.words('english'))]\n",
        "  pos_tag = nltk.pos_tag(words)\n",
        "  print(pos_tag)"
      ],
      "metadata": {
        "colab": {
          "base_uri": "https://localhost:8080/"
        },
        "id": "0D8xt2yRNjEB",
        "outputId": "90ebb4d2-70d4-4f94-ae5a-360887027e86"
      },
      "execution_count": null,
      "outputs": [
        {
          "output_type": "stream",
          "name": "stdout",
          "text": [
            "[('I', 'PRP'), ('three', 'CD'), ('dreams', 'NNS'), ('Pakistan', 'NNP'), ('.', '.')]\n",
            "[('First', 'RB'), (',', ','), ('I', 'PRP'), ('see', 'VBP'), ('Pakistan', 'JJ'), ('peace', 'NN'), ('flows', 'VBZ'), ('like', 'IN'), ('rivers', 'NNS'), (',', ','), ('every', 'DT'), ('child', 'NN'), ('plays', 'VBZ'), ('shade', 'JJ'), ('knowledge', 'NN'), (',', ','), ('soul', 'JJ'), ('sleeps', 'NNS'), ('hungry', 'JJ'), ('—', 'NNP'), ('land', 'NN'), ('compassion', 'NN'), ('becomes', 'VBZ'), ('currency', 'NN'), (',', ','), ('justice', 'NN'), ('shines', 'NNS'), ('like', 'IN'), ('light', 'JJ'), ('every', 'DT'), ('corner', 'NN'), ('.', '.')]\n",
            "[('That', 'DT'), ('Jannah', 'NNP'), ('Earth', 'NNP'), ('.', '.')]\n",
            "[('Second', 'JJ'), (',', ','), ('I', 'PRP'), ('dream', 'VBP'), ('Pakistan', 'NNP'), ('stands', 'VBZ'), ('proud', 'JJ'), ('—', 'NNP'), ('wealth', 'NN'), ('alone', 'RB'), (',', ','), ('character', 'NN'), ('.', '.')]\n",
            "[('A', 'DT'), ('Pakistan', 'NNP'), ('every', 'DT'), ('hand', 'NN'), ('builds', 'NNS'), (',', ','), ('every', 'DT'), ('mind', 'NN'), ('thinks', 'VBZ'), (',', ','), ('every', 'DT'), ('heart', 'NN'), ('beats', 'VBZ'), ('purpose', 'RB'), ('.', '.')]\n",
            "[('Our', 'PRP$'), ('flag', 'NN'), ('must', 'MD'), ('fly', 'VB'), (',', ','), ('soar', 'VB'), (',', ','), ('carried', 'VBD'), ('wind', 'JJ'), ('unity', 'NN'), ('.', '.')]\n",
            "[('And', 'CC'), ('third', 'JJ'), (',', ','), ('I', 'PRP'), ('believe', 'VBP'), ('Pakistan', 'NNP'), ('must', 'MD'), ('rise', 'VB'), ('—', 'NNP'), ('anger', 'NN'), (',', ','), ('wisdom', 'NN'), (';', ':'), ('force', 'NN'), (',', ','), ('values', 'NNS'), ('.', '.')]\n",
            "[('Because', 'IN'), ('strength', 'NN'), ('built', 'VBN'), ('truth', 'NN'), ('love', 'NN'), ('lasts', 'NNS'), ('.', '.')]\n",
            "[('Our', 'PRP$'), ('strength', 'NN'), ('people', 'NNS'), (',', ','), ('prayers', 'NNS'), ('mothers', 'NNS'), (',', ','), ('hope', 'VBP'), ('youth', 'RB'), (',', ','), ('tears', 'NNS'), ('sacrificed', 'VBD'), ('sacred', 'JJ'), ('land', 'NN'), ('.', '.')]\n",
            "[('If', 'IN'), ('want', 'JJ'), ('Pakistan', 'NNP'), ('touch', 'NN'), ('sky', 'NN'), (',', ','), ('must', 'MD'), ('first', 'RB'), ('make', 'VB'), ('ground', 'NN'), ('worthy', 'JJ'), ('Jannah', 'NNP'), ('.', '.')]\n"
          ]
        }
      ]
    },
    {
      "cell_type": "code",
      "source": [
        "print(nltk.pos_tag(\"Cristiano Ronaldo is the best player in the world\".split()))"
      ],
      "metadata": {
        "colab": {
          "base_uri": "https://localhost:8080/"
        },
        "id": "cvvFuvjGOPgJ",
        "outputId": "3679b110-d867-467f-c1eb-88dc2532ecbc"
      },
      "execution_count": null,
      "outputs": [
        {
          "output_type": "stream",
          "name": "stdout",
          "text": [
            "[('Cristiano', 'NNP'), ('Ronaldo', 'NNP'), ('is', 'VBZ'), ('the', 'DT'), ('best', 'JJS'), ('player', 'NN'), ('in', 'IN'), ('the', 'DT'), ('world', 'NN')]\n"
          ]
        }
      ]
    },
    {
      "cell_type": "code",
      "source": [],
      "metadata": {
        "id": "-57VuVvoOiiA"
      },
      "execution_count": null,
      "outputs": []
    }
  ]
}