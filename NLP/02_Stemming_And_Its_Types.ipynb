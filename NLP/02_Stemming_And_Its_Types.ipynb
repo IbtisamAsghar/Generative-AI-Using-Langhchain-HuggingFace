{
  "nbformat": 4,
  "nbformat_minor": 0,
  "metadata": {
    "colab": {
      "provenance": []
    },
    "kernelspec": {
      "name": "python3",
      "display_name": "Python 3"
    },
    "language_info": {
      "name": "python"
    }
  },
  "cells": [
    {
      "cell_type": "markdown",
      "source": [
        "# Text Preprocessing\n",
        "\n",
        "# Stemming"
      ],
      "metadata": {
        "id": "PcUCWl-BneKC"
      }
    },
    {
      "cell_type": "code",
      "source": [
        "words = ['Run','Running','Runs','eating','eats','eaten','programming','programs','finally','finalized','history']"
      ],
      "metadata": {
        "id": "56ZXUJAqn5wx"
      },
      "execution_count": null,
      "outputs": []
    },
    {
      "cell_type": "markdown",
      "source": [
        "# PorterStemmer"
      ],
      "metadata": {
        "id": "LTajvBduoGip"
      }
    },
    {
      "cell_type": "code",
      "source": [
        "from nltk.stem import PorterStemmer"
      ],
      "metadata": {
        "id": "PWaNZJd4oKSg"
      },
      "execution_count": null,
      "outputs": []
    },
    {
      "cell_type": "code",
      "source": [
        "stemming = PorterStemmer()"
      ],
      "metadata": {
        "id": "Olvcv8JCoNPR"
      },
      "execution_count": null,
      "outputs": []
    },
    {
      "cell_type": "code",
      "source": [
        "for word in words:\n",
        "  print(word+'=====>'+stemming.stem(word))"
      ],
      "metadata": {
        "colab": {
          "base_uri": "https://localhost:8080/"
        },
        "id": "_7PPYegRoPmY",
        "outputId": "5c6710bd-8677-4c52-c7f7-2221374e5d3c"
      },
      "execution_count": null,
      "outputs": [
        {
          "output_type": "stream",
          "name": "stdout",
          "text": [
            "Run=====>run\n",
            "Running=====>run\n",
            "Runs=====>run\n",
            "eating=====>eat\n",
            "eats=====>eat\n",
            "eaten=====>eaten\n",
            "programming=====>program\n",
            "programs=====>program\n",
            "finally=====>final\n",
            "finalized=====>final\n",
            "history=====>histori\n"
          ]
        }
      ]
    },
    {
      "cell_type": "markdown",
      "source": [
        "# RegexpStemmer Class"
      ],
      "metadata": {
        "id": "fh42IODpoeml"
      }
    },
    {
      "cell_type": "code",
      "source": [
        "from nltk.stem import RegexpStemmer"
      ],
      "metadata": {
        "id": "7AGSbI6FpLnl"
      },
      "execution_count": null,
      "outputs": []
    },
    {
      "cell_type": "code",
      "source": [
        "words_1 = ['Run','Running','Runs','eating','eats','eaten','programming','programs','acceptable','accepted','rejected']"
      ],
      "metadata": {
        "id": "35hbY4Irqdxp"
      },
      "execution_count": null,
      "outputs": []
    },
    {
      "cell_type": "code",
      "source": [
        "reg_stemmer = RegexpStemmer('ing$|s$|e$|able$|ed$', min=4)"
      ],
      "metadata": {
        "id": "eW0XLv0wptgn"
      },
      "execution_count": null,
      "outputs": []
    },
    {
      "cell_type": "code",
      "source": [
        "for word in words_1:\n",
        "  print(word+'=====>'+reg_stemmer.stem(word))"
      ],
      "metadata": {
        "colab": {
          "base_uri": "https://localhost:8080/"
        },
        "id": "zBCZn-1AqPiJ",
        "outputId": "f66d7a5a-73c8-4cb7-fc9f-f43e146634f7"
      },
      "execution_count": null,
      "outputs": [
        {
          "output_type": "stream",
          "name": "stdout",
          "text": [
            "Run=====>Run\n",
            "Running=====>Runn\n",
            "Runs=====>Run\n",
            "eating=====>eat\n",
            "eats=====>eat\n",
            "eaten=====>eaten\n",
            "programming=====>programm\n",
            "programs=====>program\n",
            "acceptable=====>accept\n",
            "accepted=====>accept\n",
            "rejected=====>reject\n"
          ]
        }
      ]
    },
    {
      "cell_type": "markdown",
      "source": [
        " # Snowball Stemmer"
      ],
      "metadata": {
        "id": "aUTm6984qZ4J"
      }
    },
    {
      "cell_type": "code",
      "source": [
        "from nltk.stem import SnowballStemmer"
      ],
      "metadata": {
        "id": "E0nXamN8rzqG"
      },
      "execution_count": null,
      "outputs": []
    },
    {
      "cell_type": "code",
      "source": [
        "snow_stemmer = SnowballStemmer(language='english')"
      ],
      "metadata": {
        "id": "I8qDRVN_r82f"
      },
      "execution_count": null,
      "outputs": []
    },
    {
      "cell_type": "code",
      "source": [
        "for word in words:\n",
        "  print(word+'=====>'+snow_stemmer.stem(word))"
      ],
      "metadata": {
        "colab": {
          "base_uri": "https://localhost:8080/"
        },
        "id": "-CgrxufNr_SX",
        "outputId": "9768d3ae-906a-4450-d66d-9eaebba432e8"
      },
      "execution_count": null,
      "outputs": [
        {
          "output_type": "stream",
          "name": "stdout",
          "text": [
            "Run=====>run\n",
            "Running=====>run\n",
            "Runs=====>run\n",
            "eating=====>eat\n",
            "eats=====>eat\n",
            "eaten=====>eaten\n",
            "programming=====>program\n",
            "programs=====>program\n",
            "finally=====>final\n",
            "finalized=====>final\n",
            "history=====>histori\n"
          ]
        }
      ]
    },
    {
      "cell_type": "code",
      "source": [
        "stemming.stem('fairly'),stemming.stem('sportingly')"
      ],
      "metadata": {
        "colab": {
          "base_uri": "https://localhost:8080/"
        },
        "id": "D8962Re2sJC9",
        "outputId": "c5ed4fe3-8e11-4928-e35d-a585ed44cea3"
      },
      "execution_count": null,
      "outputs": [
        {
          "output_type": "execute_result",
          "data": {
            "text/plain": [
              "('fairli', 'sportingli')"
            ]
          },
          "metadata": {},
          "execution_count": 26
        }
      ]
    },
    {
      "cell_type": "code",
      "source": [
        "snow_stemmer.stem('fairly'),snow_stemmer.stem('sportingly')"
      ],
      "metadata": {
        "colab": {
          "base_uri": "https://localhost:8080/"
        },
        "id": "XxisvOZGsbEf",
        "outputId": "2e5b9060-7446-475e-c958-cacf70548b86"
      },
      "execution_count": null,
      "outputs": [
        {
          "output_type": "execute_result",
          "data": {
            "text/plain": [
              "('fair', 'sport')"
            ]
          },
          "metadata": {},
          "execution_count": 27
        }
      ]
    },
    {
      "cell_type": "code",
      "source": [],
      "metadata": {
        "id": "TuUD48mxseP4"
      },
      "execution_count": null,
      "outputs": []
    }
  ]
}